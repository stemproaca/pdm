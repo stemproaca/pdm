{
 "cells": [
  {
   "cell_type": "markdown",
   "id": "b78ecb50-20af-4c71-9f5b-1c956888c953",
   "metadata": {},
   "source": [
    "<font size=8 color=red><b>Feature Engineeering -- Part A</font>"
   ]
  },
  {
   "cell_type": "code",
   "execution_count": null,
   "id": "214d1fc4-4d3f-4768-a013-7e10f31e629d",
   "metadata": {},
   "outputs": [],
   "source": [
    "import os\n",
    "import re\n",
    "import sys\n",
    "import pandas as pd\n",
    "import numpy as np\n",
    "import matplotlib.pyplot as plt\n",
    "from numpy import isnan\n",
    "from sklearn.impute import SimpleImputer\n",
    "from sklearn.impute import KNNImputer  \n",
    "from statistics import mode \n",
    "\n",
    "from IPython.display import display, Markdown, Image"
   ]
  },
  {
   "cell_type": "code",
   "execution_count": null,
   "id": "3e9fd99b-02ed-4aba-b912-87c0430da879",
   "metadata": {},
   "outputs": [],
   "source": [
    "sys.path.insert(0, f\"C:\\classes\\pdm\\Classes\")\n",
    "from menu_A_a_data_utility import DataUtility"
   ]
  },
  {
   "cell_type": "markdown",
   "id": "173f91a6-d3e6-4f4b-add5-42e35a69a5de",
   "metadata": {},
   "source": [
    "# A. Introduction\n",
    "\n",
    "Feature engineering efforts mainly have two goals:\n",
    "* Preparing the proper input dataset, compatible with the machine learning algorithm requirements.\n",
    "* Improving the performance of machine learning models.\n",
    "\n",
    "特征工程工作主要有两个目标：\n",
    "* 准备合适的输入数据集，与机器学习算法要求兼容。\n",
    "* 提高机器学习模型的性能。\n",
    "\n",
    "We spend 60% of our time in EDA and Featuring Engineering <br>\n",
    "60% 的时间用于 EDA 和 特征工程\n"
   ]
  },
  {
   "cell_type": "code",
   "execution_count": null,
   "id": "5fd9115e-8a66-4da3-8d9b-b407aa82e049",
   "metadata": {},
   "outputs": [],
   "source": [
    "gif_path = os.path.dirname(os.getcwd()) + '/Classes/gifs/time_for_ds.jpg'\n",
    "Image(gif_path)   "
   ]
  },
  {
   "cell_type": "markdown",
   "id": "e610a77f-7345-4c32-aee1-421ea86fe6ef",
   "metadata": {},
   "source": [
    "# B. Load Data"
   ]
  },
  {
   "cell_type": "code",
   "execution_count": null,
   "id": "da076dae-cb7e-4868-981c-1af199c1bfb1",
   "metadata": {},
   "outputs": [],
   "source": [
    "du = DataUtility()\n",
    "DF_TRAIN, DF_TEST, DF_RESULT = du.prepare_dfs()"
   ]
  },
  {
   "cell_type": "code",
   "execution_count": null,
   "id": "94ed7c49-b442-4c85-a993-6b1e908e1070",
   "metadata": {},
   "outputs": [],
   "source": []
  },
  {
   "cell_type": "markdown",
   "id": "f197468c-c32d-4c72-a907-4c466968bcd9",
   "metadata": {
    "tags": []
   },
   "source": [
    "# C. Techniques\n",
    "`List of Commons Techniques`\n",
    "\n",
    "Common Techniques\n",
    "1. Imputation\n",
    "2. Handling Outliers\n",
    "3. Binning\n",
    "4. Log Transform\n",
    "5. One-Hot Encoding\n",
    "6. Grouping Operations\n",
    "7. Feature Split\n",
    "8. Scaling\n",
    "9. Extracting Date\n",
    "\n",
    "常用操作：\n",
    "\n",
    "1. 插补\n",
    "2. 处理异常值\n",
    "3. 分箱\n",
    "4. 对数变换\n",
    "5. One-Hot 编码\n",
    "6. 分组操作\n",
    "7. 特征分割\n",
    "8. 缩放\n",
    "9. 提取日期\n",
    "\n",
    "Advanced Techniques：\n",
    "1. IterativeImputer\n",
    "2. IsolationForest\n",
    "3. MissForest from missingpy\n",
    "4. Time series feature engineering: lag, rolling, expanding etc. \n",
    "\n",
    "其他操作：\n",
    "1. 迭代估算器\n",
    "2. IsolationForest 隔离森林\n",
    "3. MissForest \n",
    "4.时间序列特征工程：滞后、滚动、扩展等。"
   ]
  },
  {
   "cell_type": "markdown",
   "id": "9fc5d33a-2a9e-4fe4-badc-064bbe32d669",
   "metadata": {},
   "source": [
    "## Prepare Data 准备数据\n",
    "* Create a data set for demo "
   ]
  },
  {
   "cell_type": "code",
   "execution_count": null,
   "id": "6c91c56e-be36-4d55-90eb-0fbc7339319a",
   "metadata": {},
   "outputs": [],
   "source": [
    " "
   ]
  },
  {
   "cell_type": "code",
   "execution_count": null,
   "id": "22fce8cd-6d0c-45ea-83fc-25a992aa21d7",
   "metadata": {},
   "outputs": [],
   "source": [
    "def create_demo_data(upper_limit):\n",
    "    # upper_limit: percent of \"masked\" -- > None\n",
    "    # prepare a fake data set \n",
    "    if upper_limit > 1:\n",
    "        upper_limit = upper_limit/100\n",
    "         \n",
    "    tmp = DF_TRAIN.copy()  \n",
    "    len_col = tmp.shape[0]  \n",
    "    \n",
    "    for c in list(tmp)[3:]:\n",
    "        p = np.random.uniform(low = 0.0,high = upper_limit, size = None) # size int or tuple\n",
    "        num = np.zeros(len_col) \n",
    "        tfs = np.random.choice([True, False], size=num.shape, p=[p,1-p])\n",
    "        tmp[c] = tmp[c].mask(tfs)  \n",
    "     \n",
    "    tmp.isna().mean().sort_values().plot(\n",
    "        kind=\"bar\", figsize=(15,5), \n",
    "        title = \"fake data - percent of missing values per feature\", \n",
    "        ylabel = \"ratio of missing values per feature\")\n",
    "    plt.show()\n",
    "    \n",
    "    return tmp \n",
    "\n",
    "TMP = create_demo_data(50)"
   ]
  },
  {
   "cell_type": "markdown",
   "id": "6dcb551a-94bd-4901-87fd-46bc53e8b3e3",
   "metadata": {},
   "source": [
    "## C1. Imputation 插补\n",
    "* handling missing data "
   ]
  },
  {
   "cell_type": "markdown",
   "id": "f3242daa-46ef-46a0-9f54-651e9bf8f340",
   "metadata": {},
   "source": [
    "### C1.1. drop missing 删除"
   ]
  },
  {
   "cell_type": "code",
   "execution_count": null,
   "id": "e0c779b7-20b0-449c-ab4b-0efa6e6103a2",
   "metadata": {},
   "outputs": [],
   "source": [
    "tmp = TMP.copy()\n",
    "print(\"before dropping\", tmp.shape)\n",
    "threshold = 0.2\n",
    "#Dropping columns with missing value rate higher than threshold\n",
    "tmp = tmp[tmp.columns[tmp.isnull().mean() < threshold]] \n",
    "#Dropping rows with missing value rate higher than threshold\n",
    "tmp = tmp.loc[tmp.isnull().mean(axis=1) < threshold]\n",
    "print(\"after dropping\", tmp.shape)"
   ]
  },
  {
   "cell_type": "markdown",
   "id": "050dcb74-d81a-46cf-9f0f-74c6c4adc718",
   "metadata": {},
   "source": [
    "## C1.2. Fill it 填补"
   ]
  },
  {
   "cell_type": "markdown",
   "id": "cbbfea0a-ed93-46d8-b2d1-3c23c711dfda",
   "metadata": {},
   "source": [
    "`Numericals 连续数值`\n",
    "* simple stats, mode, and knn"
   ]
  },
  {
   "cell_type": "code",
   "execution_count": null,
   "id": "e1938a22-8750-484a-8501-b46b71d66980",
   "metadata": {},
   "outputs": [],
   "source": [
    "tmp = TMP.copy()\n",
    "tmp2 = TMP.copy()\n",
    "tmp = tmp.select_dtypes(include = \"number\") #exclude\n",
    "\n",
    "columns = tmp.columns\n",
    "# defining the imputer\n",
    "imputer = SimpleImputer(missing_values=np.nan,\n",
    "                        strategy='median')\n",
    "# sklearn will calculate for each column\n",
    "#stateby: mean, median, most_frequent and constant. defaykt us mean \n",
    "\n",
    "# transform the dataset\n",
    "tmp = pd.DataFrame(imputer.fit_transform(tmp))\n",
    "tmp.columns = columns "
   ]
  },
  {
   "cell_type": "code",
   "execution_count": null,
   "id": "f6fad2af-8c4a-4850-bb52-9b8cd242b9cb",
   "metadata": {},
   "outputs": [],
   "source": [
    " "
   ]
  },
  {
   "cell_type": "code",
   "execution_count": null,
   "id": "5a85e113-1640-4beb-bca3-7aa6ec0c2f87",
   "metadata": {},
   "outputs": [],
   "source": [
    " "
   ]
  },
  {
   "cell_type": "code",
   "execution_count": null,
   "id": "d7bb9ad5-ced8-45e2-bed6-fe658918efad",
   "metadata": {},
   "outputs": [],
   "source": [
    "col = \"sensor5\" \n",
    "tmp_plot = pd.DataFrame({\"Original\": list(tmp2[col]), \"mean_imputed\": list(tmp[col])})\n",
    "tmp_plot.plot(kind=\"kde\", figsize = (12,7), title = \"Mean Imputed\")\n",
    "plt.show()"
   ]
  },
  {
   "cell_type": "code",
   "execution_count": null,
   "id": "221405b8-914b-4ded-a2ce-dbb20ff85396",
   "metadata": {},
   "outputs": [],
   "source": [
    " "
   ]
  },
  {
   "cell_type": "code",
   "execution_count": null,
   "id": "08d528dc-8bfa-4503-ac10-6a2d4c2e46a4",
   "metadata": {},
   "outputs": [],
   "source": [
    "# mode:\n",
    "tmp = TMP.copy()\n",
    "col = 'sensor4' \n",
    "tmp[col] = tmp[col].fillna(tmp[col].mode()[0])"
   ]
  },
  {
   "cell_type": "code",
   "execution_count": null,
   "id": "82c745f8-db5e-4b17-a1f2-9d0711fe24b0",
   "metadata": {},
   "outputs": [],
   "source": [
    "# KNN\n",
    "tmp = TMP.copy()\n",
    "tmp2 = TMP.copy() \n",
    "tmp = tmp.select_dtypes(include = \"number\") \n",
    "columns = tmp.columns\n",
    "# defining the imputer\n",
    "imputer = KNNImputer(n_neighbors=2) \n",
    "\n",
    "# sklearn will calculate for each column\n",
    "#stateby: mean, median, most_frequent and constant. defaykt us mean \n",
    "tmp = tmp.sample(100)\n",
    "# transform the dataset\n",
    "tmp = pd.DataFrame(imputer.fit_transform(tmp))\n",
    "tmp.columns = columns "
   ]
  },
  {
   "cell_type": "code",
   "execution_count": null,
   "id": "a6d2cc17-981c-4a96-9db6-0c33a27bf01d",
   "metadata": {},
   "outputs": [],
   "source": [
    "col = \"sensor4\" \n",
    "tmp_plot = pd.DataFrame({\"Original\": list(tmp2[col]), \"mean_imputed\": list(tmp[col])})\n",
    "tmp_plot.plot(kind=\"kde\", figsize = (12,7), title = \"Mean Imputed\")\n",
    "plt.show()"
   ]
  },
  {
   "cell_type": "markdown",
   "id": "23f1807a-baa1-4355-aa94-eaf195154872",
   "metadata": {},
   "source": [
    "`categorical 分类特征`\n",
    "* most common"
   ]
  },
  {
   "cell_type": "code",
   "execution_count": 22,
   "id": "a32410d7-cbb4-412f-ac98-eadc7021f04f",
   "metadata": {},
   "outputs": [],
   "source": [
    "tmp = TMP.copy()"
   ]
  },
  {
   "cell_type": "code",
   "execution_count": 23,
   "id": "5446e60e-e520-40a9-ae3a-ab80842f5554",
   "metadata": {},
   "outputs": [],
   "source": [
    "tmp['Flag'].fillna(tmp['Flag'].value_counts().idxmax(), inplace=True) "
   ]
  },
  {
   "cell_type": "markdown",
   "id": "1137e077-fa07-4333-82f8-81214960b82f",
   "metadata": {},
   "source": [
    "`other method: ffill, bfill etc.`"
   ]
  },
  {
   "cell_type": "code",
   "execution_count": null,
   "id": "8dd1906c-aabc-40ca-ad4e-168490991623",
   "metadata": {},
   "outputs": [],
   "source": [
    "#method : {'backfill', 'bfill', 'pad', 'ffill', None}\n",
    "df.fillna(\"bfill\", inplace=True)"
   ]
  },
  {
   "cell_type": "markdown",
   "id": "7e63172b-e80b-4869-9c92-2d9daed94356",
   "metadata": {},
   "source": [
    " "
   ]
  },
  {
   "cell_type": "markdown",
   "id": "6e79d1e1-0423-431b-a6a8-b60e03ccf014",
   "metadata": {},
   "source": [
    " \n"
   ]
  },
  {
   "cell_type": "code",
   "execution_count": null,
   "id": "484899ee-44e8-4527-b67e-e0ebcefc499a",
   "metadata": {},
   "outputs": [],
   "source": []
  }
 ],
 "metadata": {
  "kernelspec": {
   "display_name": "prmpy39",
   "language": "python",
   "name": "prmpy39"
  },
  "language_info": {
   "codemirror_mode": {
    "name": "ipython",
    "version": 3
   },
   "file_extension": ".py",
   "mimetype": "text/x-python",
   "name": "python",
   "nbconvert_exporter": "python",
   "pygments_lexer": "ipython3",
   "version": "3.9.12"
  }
 },
 "nbformat": 4,
 "nbformat_minor": 5
}
