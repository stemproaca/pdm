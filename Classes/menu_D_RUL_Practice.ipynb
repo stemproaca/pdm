{
 "cells": [
  {
   "cell_type": "markdown",
   "metadata": {},
   "source": [
    "# RUL prediction: Practice"
   ]
  },
  {
   "cell_type": "markdown",
   "metadata": {},
   "source": [
    "# Libs"
   ]
  },
  {
   "cell_type": "code",
   "execution_count": 9,
   "metadata": {},
   "outputs": [],
   "source": [
    "import os\n",
    "import re\n",
    "import sys\n",
    "import pandas as pd\n",
    "import numpy as np\n",
    "\n",
    "#to plot the data\n",
    "import matplotlib.pyplot as plt\n",
    "import seaborn as sns\n",
    "\n",
    "import matplotlib as mpl\n",
    "mpl.rcParams.update(mpl.rcParamsDefault)\n",
    "\n",
    "import time   \n",
    "from sklearn.preprocessing import MinMaxScaler, StandardScaler, RobustScaler\n",
    "from sklearn.preprocessing import Normalizer\n",
    "from sklearn.preprocessing import minmax_scale\n",
    "from sklearn.linear_model import LinearRegression\n",
    "from sklearn.metrics import classification_report, confusion_matrix, roc_curve\n",
    "from sklearn.metrics import mean_squared_error, mean_absolute_error\n",
    "from sklearn.utils import class_weight\n",
    "\n",
    "from statsmodels.stats.outliers_influence import variance_inflation_factor\n",
    "\n",
    "from sklearn.model_selection import train_test_split\n",
    " \n",
    "from fitter import Fitter, get_common_distributions, get_distributions\n",
    "\n",
    "from collections import Counter\n",
    "import missingno as mn \n",
    "import random\n",
    "from copy import deepcopy \n",
    "\n",
    "from sklearn import ensemble \n",
    "from sklearn import tree  \n",
    "from sklearn import kernel_ridge\n",
    "\n",
    "from sklearn.preprocessing import scale\n",
    "\n",
    "from sklearn import linear_model \n",
    "from sklearn import decomposition\n",
    "from sklearn import svm \n",
    "import catboost  \n",
    "import lightgbm \n",
    "\n",
    "from sklearn.model_selection import KFold, cross_val_score, train_test_split\n",
    "from sklearn.metrics import mean_squared_error, r2_score, mean_absolute_error \n",
    "from sklearn.model_selection import RepeatedKFold\n",
    "from sklearn import model_selection\n",
    "\n",
    "from sklearn.pipeline import make_pipeline, Pipeline\n",
    "from sklearn.model_selection import GridSearchCV \n",
    "\n",
    "from scipy.stats import pearsonr \n",
    "from dtaidistance import dtw, dtw_ndim\n",
    "from kneed import DataGenerator, KneeLocator\n",
    "from  sklearn.feature_selection import VarianceThreshold\n",
    "\n",
    "from statsmodels.tsa.stattools import adfuller \n",
    "from scipy.fft import fft, ifft\n",
    "from IPython.display import display, Markdown, Image\n",
    "\n",
    "%matplotlib inline\n",
    "\n",
    "import warnings\n",
    "warnings.simplefilter(\"ignore\")"
   ]
  },
  {
   "cell_type": "code",
   "execution_count": 6,
   "metadata": {},
   "outputs": [],
   "source": [
    "#!pip install catboost lightgbm dtaidistance kneed --upgrade "
   ]
  },
  {
   "cell_type": "code",
   "execution_count": null,
   "metadata": {},
   "outputs": [],
   "source": [
    " "
   ]
  },
  {
   "cell_type": "markdown",
   "metadata": {},
   "source": [
    "# Load Data"
   ]
  },
  {
   "cell_type": "code",
   "execution_count": null,
   "metadata": {},
   "outputs": [],
   "source": [
    " "
   ]
  },
  {
   "cell_type": "code",
   "execution_count": 12,
   "metadata": {},
   "outputs": [],
   "source": [
    "current = os.getcwd() \n",
    "parent_folder = os.path.abspath(os.path.join(os.getcwd(), os.pardir))\n",
    " \n",
    "PROJECT_PATH = os.getcwd() + \"/gifs\"  \n",
    "current = os.getcwd() \n",
    "parent_folder = os.path.abspath(os.path.join(os.getcwd(), os.pardir))\n",
    "\n",
    "sys.path.insert(0, f\"{parent_folder}\\Classes\") # \n",
    "from menu_A_a_data_utility import DataUtility \n",
    "#from memu_D_features import SelectingEDAFeatures"
   ]
  },
  {
   "cell_type": "code",
   "execution_count": null,
   "metadata": {},
   "outputs": [],
   "source": [
    " "
   ]
  },
  {
   "cell_type": "code",
   "execution_count": 19,
   "metadata": {},
   "outputs": [],
   "source": [
    "def load_data(flags = None):\n",
    "    uti = DataUtility()\n",
    "    df_train, df_test, df_result = uti.prepare_dfs()\n",
    "    df_train[\"rul\"] = df_train.groupby([\"Flag\",\"id\"])[\"cycle\"].transform(\"max\")-df_train[\"cycle\"]\n",
    "    \n",
    "    if not flags:\n",
    "        return df_train, df_test, df_result\n",
    "    if type(flags) == str:\n",
    "        flags = [flags] #list \n",
    "    return df_train[df_train[\"Flag\"].isin(flags)],df_test[df_test[\"Flag\"].isin(flags)],df_result[df_result[\"Flag\"].isin(flags)]\n",
    "\n",
    "DF_TRAIN, DF_TEST, DF_RESULT = load_data(flags = \"FD001\") "
   ]
  },
  {
   "cell_type": "code",
   "execution_count": 15,
   "metadata": {},
   "outputs": [],
   "source": [
    "train, _, _ = load_data(\"FD002\")"
   ]
  },
  {
   "cell_type": "code",
   "execution_count": 18,
   "metadata": {},
   "outputs": [
    {
     "data": {
      "text/plain": [
       "((53759, 28), 260)"
      ]
     },
     "execution_count": 18,
     "metadata": {},
     "output_type": "execute_result"
    }
   ],
   "source": [
    "train.shape, train[\"id\"].nunique()"
   ]
  },
  {
   "cell_type": "code",
   "execution_count": null,
   "metadata": {},
   "outputs": [],
   "source": [
    " "
   ]
  },
  {
   "cell_type": "code",
   "execution_count": null,
   "metadata": {},
   "outputs": [],
   "source": []
  },
  {
   "cell_type": "code",
   "execution_count": null,
   "metadata": {},
   "outputs": [],
   "source": []
  },
  {
   "cell_type": "markdown",
   "metadata": {},
   "source": [
    "# Define \"Output\" -- RUL\n",
    "* visualize rul distributions and test it. "
   ]
  },
  {
   "cell_type": "markdown",
   "metadata": {},
   "source": [
    "## Life Time"
   ]
  },
  {
   "cell_type": "code",
   "execution_count": 20,
   "metadata": {},
   "outputs": [
    {
     "data": {
      "image/png": "[encoded data removed]",
      "text/plain": [
       "<Figure size 432x288 with 2 Axes>"
      ]
     },
     "metadata": {
      "needs_background": "light"
     },
     "output_type": "display_data"
    }
   ],
   "source": [
    "\n",
    "tmp = train.copy()\n",
    "tmp = train.groupby(\"id\")[\"cycle\"].max().reset_index()\n",
    "\n",
    "fig, ax1 = plt.subplots()\n",
    "kde_data = sns.kdeplot(data=tmp, x=\"cycle\", ax=ax1)\n",
    "\n",
    "ax1.set_xlim((tmp[\"cycle\"].min(), tmp[\"cycle\"].max()))\n",
    "ax2 = ax1.twinx()\n",
    "\n",
    "sns.histplot(data=tmp, x=\"cycle\", discrete=False, ax=ax2)\n",
    "plt.grid(False)\n",
    "plt.title(\"Engine Life Time Distributions\", fontsize=13)\n",
    "ax1.set_xlabel(\"Life Time (max cycle)\")\n",
    "plt.show()"
   ]
  },
  {
   "cell_type": "code",
   "execution_count": null,
   "metadata": {},
   "outputs": [],
   "source": []
  },
  {
   "cell_type": "code",
   "execution_count": null,
   "metadata": {},
   "outputs": [],
   "source": []
  },
  {
   "cell_type": "code",
   "execution_count": 27,
   "metadata": {},
   "outputs": [],
   "source": [
    "def plot(flags = None, show_fig = True): \n",
    "    plt.ioff()\n",
    "    if not flags:\n",
    "        flags = \"FD001\"\n",
    "    DF_TRAIN, _, _ = load_data(flags = flags ) \n",
    "    \n",
    "    tmp = DF_TRAIN.copy()\n",
    "    tmp = DF_TRAIN.groupby(\"id\")[\"cycle\"].max().reset_index()\n",
    "\n",
    "    fig, ax1 = plt.subplots()\n",
    "    kde_data = sns.kdeplot(data=tmp, x=\"cycle\", ax=ax1)\n",
    "\n",
    "    ax1.set_xlim((tmp[\"cycle\"].min(), tmp[\"cycle\"].max()))\n",
    "    ax2 = ax1.twinx()\n",
    "\n",
    "    sns.histplot(data=tmp, x=\"cycle\", discrete=False, ax=ax2)\n",
    "    plt.grid(False)\n",
    "    plt.title(\"Engine Life Time Distributions\", fontsize=13)\n",
    "    ax1.set_xlabel(\"Life Time (max cycle)\")\n",
    "    if show_fig: \n",
    "        plt.show()\n",
    "    \n",
    "    return kde_data\n",
    "    "
   ]
  },
  {
   "cell_type": "code",
   "execution_count": 24,
   "metadata": {},
   "outputs": [
    {
     "data": {
      "image/png": "[encoded data removed]",
      "text/plain": [
       "<Figure size 432x288 with 2 Axes>"
      ]
     },
     "metadata": {
      "needs_background": "light"
     },
     "output_type": "display_data"
    }
   ],
   "source": [
    "plot(flags = \"FD003\")"
   ]
  },
  {
   "cell_type": "markdown",
   "metadata": {},
   "source": [
    "## check distribution"
   ]
  },
  {
   "cell_type": "code",
   "execution_count": 8,
   "metadata": {},
   "outputs": [
    {
     "data": {
      "image/png": "[encoded data removed]",
      "text/plain": [
       "<Figure size 640x480 with 1 Axes>"
      ]
     },
     "metadata": {},
     "output_type": "display_data"
    }
   ],
   "source": [
    "line = kde_data.lines[0]\n",
    "x, y = line.get_data() \n",
    "fig, ax = plt.subplots()\n",
    "ax.plot(x[x>0], y[x>0]) \n",
    "plt.show()"
   ]
  },
  {
   "cell_type": "code",
   "execution_count": 26,
   "metadata": {},
   "outputs": [
    {
     "data": {
      "image/png": "[encoded data removed]",
      "text/plain": [
       "<Figure size 432x288 with 2 Axes>"
      ]
     },
     "metadata": {
      "needs_background": "light"
     },
     "output_type": "display_data"
    }
   ],
   "source": [
    "kde_data = plot(\"FD004\")\n",
    "line = kde_data.lines[0]\n",
    "x, y = line.get_data() "
   ]
  },
  {
   "cell_type": "code",
   "execution_count": 28,
   "metadata": {},
   "outputs": [
    {
     "name": "stderr",
     "output_type": "stream",
     "text": [
      "Fitting 5 distributions: 100%|███████████████████████████████████████████████████████████| 5/5 [00:02<00:00,  2.21it/s]\n"
     ]
    },
    {
     "data": {
      "text/plain": [
       "{'gamma': {'a': 0.61763270210712,\n",
       "  'loc': 7.339891161774741e-07,\n",
       "  'scale': 0.0011379817391219608}}"
      ]
     },
     "execution_count": 28,
     "metadata": {},
     "output_type": "execute_result"
    },
    {
     "data": {
      "image/png": "[encoded data removed]",
      "text/plain": [
       "<Figure size 432x288 with 1 Axes>"
      ]
     },
     "metadata": {
      "needs_background": "light"
     },
     "output_type": "display_data"
    }
   ],
   "source": [
    "f = Fitter(y,\n",
    "           distributions=['gamma',\n",
    "                          'lognorm',\n",
    "                          \"beta\",\n",
    "                          \"burr\",\n",
    "                          \"norm\"])\n",
    "f.fit()\n",
    "f.summary() \n",
    "f.get_best(method = 'sumsquare_error') "
   ]
  },
  {
   "cell_type": "markdown",
   "metadata": {},
   "source": [
    "**lognorm:**\n",
    "* In reliability analysis, the log-normal distribution is often used to model times to repair a maintainable system\n",
    "* The length of comments posted in Internet discussion forums follows a log-normal distribution"
   ]
  },
  {
   "cell_type": "code",
   "execution_count": 14,
   "metadata": {},
   "outputs": [],
   "source": [
    "def load_data(flags = None):\n",
    "    uti = DataUtility()\n",
    "    df_train, df_test, df_result = uti.prepare_dfs()\n",
    "    df_train[\"rul\"] = df_train.groupby([\"Flag\",\"id\"])[\"cycle\"].transform(\"max\")-df_train[\"cycle\"]\n",
    "    \n",
    "    if not flags:\n",
    "        return df_train, df_test, df_result\n",
    "    if type(flags) == str:\n",
    "        flags = [flags] #list \n",
    "    return df_train[df_train[\"Flag\"].isin(flags)],df_test[df_test[\"Flag\"].isin(flags)],df_result[df_result[\"Flag\"].isin(flags)]\n",
    "\n",
    "DF_TRAIN, DF_TEST, DF_RESULT = load_data(flags = \"FD001\")  "
   ]
  },
  {
   "cell_type": "markdown",
   "metadata": {},
   "source": [
    "# Round One: Model Features"
   ]
  },
  {
   "cell_type": "markdown",
   "metadata": {},
   "source": [
    "## wrap up"
   ]
  },
  {
   "cell_type": "code",
   "execution_count": 31,
   "metadata": {},
   "outputs": [],
   "source": [
    "#%%writefile memu_D_features.py\n",
    "\n",
    "from  sklearn.feature_selection import VarianceThreshold\n",
    "from collections import Counter\n",
    "from copy import deepcopy \n",
    "from dtaidistance import dtw, dtw_ndim\n",
    "from fitter import Fitter, get_common_distributions, get_distributions\n",
    "from IPython.display import display, Markdown, Image\n",
    "from kneed import DataGenerator, KneeLocator\n",
    "from scipy.fft import fft, ifft\n",
    "from scipy.stats import pearsonr \n",
    "from sklearn import decomposition\n",
    "from sklearn import ensemble \n",
    "from sklearn import kernel_ridge\n",
    "from sklearn import linear_model \n",
    "from sklearn import model_selection\n",
    "from sklearn import svm \n",
    "from sklearn import tree  \n",
    "from sklearn.linear_model import LinearRegression\n",
    "from sklearn.metrics import classification_report, confusion_matrix, roc_curve\n",
    "from sklearn.metrics import mean_squared_error, mean_absolute_error\n",
    "from sklearn.metrics import mean_squared_error, r2_score, mean_absolute_error \n",
    "from sklearn.model_selection import GridSearchCV \n",
    "from sklearn.model_selection import KFold, cross_val_score, train_test_split\n",
    "from sklearn.model_selection import RepeatedKFold\n",
    "from sklearn.model_selection import train_test_split\n",
    "from sklearn.pipeline import make_pipeline, Pipeline\n",
    "from sklearn.preprocessing import minmax_scale\n",
    "from sklearn.preprocessing import MinMaxScaler, StandardScaler, RobustScaler\n",
    "from sklearn.preprocessing import Normalizer\n",
    "from sklearn.preprocessing import scale\n",
    "from sklearn.utils import class_weight\n",
    "from statsmodels.stats.outliers_influence import variance_inflation_factor\n",
    "from statsmodels.tsa.stattools import adfuller \n",
    "import catboost  \n",
    "import lightgbm \n",
    "import matplotlib as mpl\n",
    "import matplotlib.pyplot as plt\n",
    "import missingno as mn \n",
    "import numpy as np\n",
    "import os\n",
    "import pandas as pd\n",
    "import random\n",
    "import re\n",
    "import seaborn as sns\n",
    "import sys\n",
    "import time   \n",
    "import warnings\n",
    "\n",
    "class SelectingEDAFeatures(object):\n",
    "    def __init__(self, per_missing=0.50, dominant_threshold= 0.95, \\\n",
    "                dispersion_threshold=(1-1.0e-9, 1+1.0e-9), heat_map_threshold = 0.9,\\\n",
    "                max_vif=9): \n",
    "        \"\"\"\n",
    "            documentation: \n",
    "            set thresholds\n",
    "        \"\"\" \n",
    "        self.per_missing = per_missing  \n",
    "        self.dominant_threshold = dominant_threshold\n",
    "        self.dispersion_threshold = dispersion_threshold\n",
    "        self.all_feature_columsn = [col for col in list(DF_TRAIN) if re.match(\"(op|sen)\", col)]\n",
    "        self.heat_map_threshold = heat_map_threshold\n",
    "        self.max_vif = max_vif\n",
    "    \n",
    "    def eda_features(self):\n",
    "        \"\"\"\n",
    "            doc:\n",
    "            output: conduct exploration and summarize\n",
    "        \"\"\"\n",
    "    def indentify_missing(self):\n",
    "        \"\"\"\n",
    "            documentation: \n",
    "            identify missing\n",
    "            missingno\n",
    "        \"\"\" \n",
    "        tmp = DF_TRAIN.copy()  \n",
    "        #masks = np.random.choice([True, False], size=tmp.shape, p = [p, 1-p])\n",
    "        #tmp = tmp.mask(masks)    \n",
    "        return np.array(list(tmp))[tmp.isnull().sum(axis=0)/tmp.shape[0] > self.per_missing]\n",
    "\n",
    "    def dominant(self, x, per): \n",
    "        \"\"\"\n",
    "            documentation: \n",
    "            helper fun\n",
    "        \"\"\" \n",
    "        return Counter(x).most_common(1)[0][1]/len(x) > per\n",
    "\n",
    "    def identify_constants(self):\n",
    "        \"\"\"\n",
    "            documentation: \n",
    "            identify constants\n",
    "        \"\"\" \n",
    "        tmp = DF_TRAIN.copy()\n",
    "        tmp = tmp.select_dtypes(include = \"number\")\n",
    "        tmp.drop(columns = [\"id\", \"cycle\", \"rul\"], inplace = True)\n",
    "\n",
    "        feats =  list(tmp)\n",
    "\n",
    "        # compare it in two way: threshold = 0  \n",
    "        vt = VarianceThreshold(threshold=0) #恒值\n",
    "        _ = vt.fit_transform(tmp)\n",
    "        kept_columns = vt.get_feature_names_out() \n",
    "\n",
    "        consts = [c for c in feats if c not in kept_columns] \n",
    "\n",
    "        # dominant values doesn't account for per%   \n",
    "        quasi_columns = np.array(list(tmp))[tmp.apply(lambda x: self.dominant(x, self.dominant_threshold))]\n",
    "\n",
    "        return list(set(consts + list(quasi_columns))) \n",
    "        #ROUNDONE_CONST = round_one_remove_low_variance()  \n",
    "                 \n",
    "    def plot_columns(self):\n",
    "        \"\"\"\n",
    "            documentation: \n",
    "            plotting\n",
    "        \"\"\" \n",
    "        tmp = DF_TRAIN.copy()\n",
    "        tmp = tmp.select_dtypes(include = \"number\")\n",
    "        tmp.drop(columns = [\"id\", \"cycle\", \"rul\"], inplace = True) \n",
    "        tmp.hist(bins=30, figsize=(15, 10),   layout=(-1, 4) ) \n",
    "        plt.tight_layout()\n",
    "        plt.show()\n",
    "\n",
    "    def dispersion(self,data): \n",
    "        \"\"\"\n",
    "            documentation: \n",
    "            dispersions. \n",
    "            return flat cols and dispersion values \n",
    "        \"\"\" \n",
    "        arith_mean = np.mean(data+1, axis =0 )\n",
    "        #geo_mean = np.power(np.prod(data, axis =0 ),1/data.shape[0]) \n",
    "        geo_mean = sum(np.log1p(data))/len(data)\n",
    "        geo_mean = np.exp(geo_mean) \n",
    "        return arith_mean/geo_mean  \n",
    "\n",
    "    def identify_flat_dispersion(self):\n",
    "        tmp = DF_TRAIN.copy()\n",
    "        tmp = tmp.select_dtypes(include = \"number\")\n",
    "        tmp.drop(columns = [\"id\", \"cycle\", \"rul\"], inplace = True)\n",
    "\n",
    "        dispersions = tmp.apply(lambda x: self.dispersion(x), axis=0)\n",
    "        criteria = np.where(np.logical_and(dispersions>self.dispersion_threshold[0], \\\n",
    "                                           dispersions<self.dispersion_threshold[1]))\n",
    "        low_dispersion = np.array(list(tmp))[criteria]\n",
    "        return low_dispersion, dispersions\n",
    "        #dispersions = np.array(list(tmp))[tmp.apply(lambda x: dispersion(x), axis=0)>threshold]  \n",
    "        #ROUNDONE_DISPERSION, _  = filter_by_dispersion(threshold=thresholds)\n",
    "        \n",
    "    def plot_by_id_corner(self, ids = [12,76], n_cols =5, pre_filtered_cols = None):\n",
    "        \"\"\"\n",
    "            documentation: \n",
    "            plotting corr\n",
    "        \"\"\" \n",
    "        if not pre_filtered_cols:\n",
    "            pre_filtered_cols = self.cols_for_plotting()\n",
    "\n",
    "        tmp = DF_TRAIN.copy()  \n",
    "        tmp = tmp[tmp[\"id\"].isin(ids)]\n",
    "\n",
    "        max_rul = tmp[\"rul\"].max()\n",
    "        for id_engine in ids:\n",
    "            if max_rul > tmp[tmp[\"id\"]==id_engine][\"rul\"].max():\n",
    "                max_rul = tmp[tmp[\"id\"]==id_engine][\"rul\"].max()\n",
    "        tmp = tmp[tmp[\"rul\"]<=max_rul]  \n",
    "  \n",
    "        cols = random.sample(pre_filtered_cols, n_cols)\n",
    " \n",
    "        cols.append(\"rul\") \n",
    "\n",
    "        # seaborn matplotlib\n",
    "        g = sns.PairGrid(tmp, vars = cols,diag_sharey = False, corner = True, hue = 'id' ) \n",
    "        g.map_lower(plt.scatter, alpha=0.6)\n",
    "        #g.map_diag(plt.hist, alpha=0.7 ) \n",
    "        g.map_diag(sns.kdeplot)\n",
    "\n",
    "        plt.show()   \n",
    "        #plot_by_id_corner()\n",
    "    \n",
    "    def plot_by_id_pair(self, ids = [2,76], n_cols =5, pre_filtered_cols = None):\n",
    "        \"\"\"\n",
    "            documentation: \n",
    "            plotting corr\n",
    "        \"\"\"         \n",
    "        sns.set_style(\"whitegrid\") \n",
    "        \n",
    "        if not pre_filtered_cols:\n",
    "            pre_filtered_cols = self.cols_for_plotting()\n",
    "\n",
    "        tmp = DF_TRAIN.copy()  \n",
    "        tmp = tmp[tmp[\"id\"].isin(ids)]\n",
    "\n",
    "        max_rul = tmp[\"rul\"].max()\n",
    "        for id_engine in ids:\n",
    "            if max_rul > tmp[tmp[\"id\"]==id_engine][\"rul\"].max():\n",
    "                max_rul = tmp[tmp[\"id\"]==id_engine][\"rul\"].max()\n",
    "        tmp = tmp[tmp[\"rul\"]<=max_rul]  \n",
    "\n",
    "        cols = random.sample(pre_filtered_cols, n_cols) \n",
    "        cols.append(\"rul\") \n",
    "\n",
    "        sns.pairplot(tmp, vars=cols, diag_kind = 'kde', hue=\"id\")\n",
    "\n",
    "        plt.show()   \n",
    "        #plot_by_id_pair()\n",
    "\n",
    "    def plot_by_id_strip(self, ruls=None, n_feat=5, pre_filtered_cols=None):\n",
    "        \"\"\"\n",
    "            documentation: \n",
    "            plotting corr\n",
    "        \"\"\"         \n",
    "        sns.set_style(\"whitegrid\") \n",
    "        \n",
    "        if not pre_filtered_cols:\n",
    "            pre_filtered_cols = self.cols_for_plotting() \n",
    "\n",
    "        tmp = DF_TRAIN.copy() \n",
    "\n",
    "        if not ruls:\n",
    "            ruls = [i for i in range(1, tmp[\"rul\"].max(), 50)]\n",
    "\n",
    "        tmp = tmp[tmp[\"rul\"].isin(ruls)]\n",
    "\n",
    "        cols = random.sample(pre_filtered_cols, n_feat)  \n",
    "\n",
    "        sns.stripplot(data=tmp, y=\"sensor21\", x=\"rul\",  dodge=True, jitter=False,  palette=\"deep\")\n",
    "\n",
    "        plt.show()   \n",
    "        return tmp    \n",
    "    \n",
    "    def cols_for_plotting(self):\n",
    "        \"\"\"\n",
    "            doc:\n",
    "            helper function\n",
    "        \"\"\"\n",
    "        constant_cols = self.identify_constants() \n",
    "        return [c for c in self.all_feature_columsn if c not in constant_cols] \n",
    "    \n",
    "    def heatmap_plot(self, show_fig=True, pre_filtered_cols=None ):\n",
    "        \"\"\"\n",
    "            doc:\n",
    "            return high corr cols\n",
    "        \"\"\"  \n",
    "        if not pre_filtered_cols:\n",
    "            pre_filtered_cols = self.cols_for_plotting()\n",
    "            \n",
    "        tmp = DF_TRAIN.copy()  \n",
    "        tmp_corr = tmp[pre_filtered_cols].corr(method=\"pearson\")\n",
    "        \n",
    "        if show_fig:\n",
    "            plt.figure(figsize=(9, 9))\n",
    "\n",
    "            ax = sns.heatmap(tmp_corr,  square=True, annot=True,annot_kws={\"size\": 8},\n",
    "                        center=0, fmt=\".2f\",   linewidths=.5,  #fmt=\".2g\",\n",
    "                        cmap=\"vlag\", cbar_kws={\"shrink\": 0.8});\n",
    "\n",
    "            ax.xaxis.tick_top()\n",
    "            #sns.set(font_scale=1)\n",
    "            plt.xticks(rotation = 90)\n",
    "            plt.show()\n",
    "  \n",
    "        colss = list(tmp_corr)\n",
    "        ln = len(tmp_corr)  \n",
    "        allvals = tmp_corr.values\n",
    "        pairs = []\n",
    "        for i in range(ln):\n",
    "            for j in range(i+1, ln):\n",
    "                if abs(allvals[i, j])>self.heat_map_threshold:\n",
    "                    pairs.append((colss[i], colss[j], allvals[i, j]))\n",
    "        return pairs\n",
    " \n",
    "    def filter_by_val(self, feats):   # 9.0 is conventional chosen \n",
    "        \"\"\"\n",
    "            doc:\n",
    "            return high corr cols\n",
    "        \"\"\"   \n",
    "        ss = StandardScaler() # Normalizer, RobustScaler, minmax_scale\n",
    "        tmp = DF_TRAIN.copy()   \n",
    "        tmp = tmp[feats]  \n",
    "\n",
    "        ss_tmp = ss.fit_transform(tmp) \n",
    "\n",
    "        ss_tmp = pd.DataFrame(ss_tmp, columns=list(tmp)) \n",
    "        vif_data = pd.DataFrame()\n",
    "        vif_data[\"feature\"] = ss_tmp.columns\n",
    "\n",
    "        vif_data[\"VIF\"] = [variance_inflation_factor(ss_tmp.values, i) for i in range(len(ss_tmp.columns))]\n",
    "\n",
    "        return list(vif_data[\"feature\"]), vif_data  \n",
    "  \n",
    "    def identify_high_vif_columns(self, pre_filtered_cols=None):\n",
    "        \"\"\"\n",
    "            doc:\n",
    "            return high corr cols from VIF\n",
    "            return \n",
    "        \"\"\"  \n",
    "        if not pre_filtered_cols:\n",
    "            pre_filtered_cols = self.cols_for_plotting()\n",
    "            \n",
    "        tmp = DF_TRAIN.copy()   \n",
    "        val = np.inf\n",
    "        rounds = 0 \n",
    "        max_rounds = tmp.shape[1]\n",
    "        \n",
    "        feats = deepcopy(pre_filtered_cols) \n",
    "        high_vif_col = [] \n",
    "    \n",
    "        while val > self.max_vif:  \n",
    "            rounds += 1  \n",
    "            feats, df_vals = self.filter_by_val(feats=feats) \n",
    "      \n",
    "            max_row = df_vals.loc[df_vals[\"VIF\"].idxmax()]\n",
    "\n",
    "            feat, val = max_row[0], max_row[1]\n",
    "\n",
    "            if val < self.max_vif:\n",
    "                return list(feats), high_vif_col \n",
    "            else: \n",
    "                feats.remove(feat)\n",
    "                high_vif_col.append(feat)\n",
    "            if rounds>max_rounds:\n",
    "                break\n",
    "        return feats, high_vif_col\n",
    "        \n",
    "    def eda_features(self):\n",
    "        \"\"\"\n",
    "            doc:\n",
    "            output: conduct exploration and summarize\n",
    "        \"\"\"\n",
    "        missing = self.indentify_missing()\n",
    "        const = self.identify_constants()\n",
    "        flats, _ = self.identify_flat_dispersion()\n",
    "        _, vif = self.identify_high_vif_columns()\n",
    "        \n",
    "        to_remove = list(missing) + list(const) + list(flats) + list(vif) \n",
    "      \n",
    "        return [c for c in self.all_feature_columsn if c not in to_remove]\n",
    "    \n",
    "        \n"
   ]
  },
  {
   "cell_type": "code",
   "execution_count": 32,
   "metadata": {},
   "outputs": [],
   "source": [
    "fs = SelectingEDAFeatures()\n",
    "FEATS = fs.eda_features()\n",
    "# vif \n",
    "vif_cols = fs.identify_high_vif_columns()"
   ]
  },
  {
   "cell_type": "code",
   "execution_count": 14,
   "metadata": {},
   "outputs": [
    {
     "data": {
      "text/plain": [
       "['op1',\n",
       " 'op2',\n",
       " 'sensor2',\n",
       " 'sensor3',\n",
       " 'sensor4',\n",
       " 'sensor7',\n",
       " 'sensor11',\n",
       " 'sensor12',\n",
       " 'sensor14',\n",
       " 'sensor15',\n",
       " 'sensor17',\n",
       " 'sensor20',\n",
       " 'sensor21']"
      ]
     },
     "execution_count": 14,
     "metadata": {},
     "output_type": "execute_result"
    }
   ],
   "source": [
    "FEATS"
   ]
  },
  {
   "cell_type": "code",
   "execution_count": null,
   "metadata": {},
   "outputs": [],
   "source": [
    " "
   ]
  },
  {
   "cell_type": "code",
   "execution_count": null,
   "metadata": {},
   "outputs": [],
   "source": [
    " "
   ]
  },
  {
   "cell_type": "markdown",
   "metadata": {},
   "source": [
    "# Round Two: Follow the book "
   ]
  },
  {
   "cell_type": "markdown",
   "metadata": {},
   "source": [
    "## Wrap up "
   ]
  },
  {
   "cell_type": "code",
   "execution_count": 15,
   "metadata": {},
   "outputs": [],
   "source": [
    "#%%writefile memu_D_features_reserve.py\n",
    "from  sklearn.feature_selection import VarianceThreshold\n",
    "from collections import Counter\n",
    "from copy import deepcopy \n",
    "from dtaidistance import dtw, dtw_ndim\n",
    "from fitter import Fitter, get_common_distributions, get_distributions\n",
    "from IPython.display import display, Markdown, Image\n",
    "from kneed import DataGenerator, KneeLocator\n",
    "from scipy.fft import fft, ifft\n",
    "from scipy.stats import pearsonr \n",
    "from sklearn import decomposition\n",
    "from sklearn import ensemble \n",
    "from sklearn import kernel_ridge\n",
    "from sklearn import linear_model \n",
    "from sklearn import model_selection\n",
    "from sklearn import svm \n",
    "from sklearn import tree  \n",
    "from sklearn.linear_model import LinearRegression\n",
    "from sklearn.metrics import classification_report, confusion_matrix, roc_curve\n",
    "from sklearn.metrics import mean_squared_error, mean_absolute_error\n",
    "from sklearn.metrics import mean_squared_error, r2_score, mean_absolute_error \n",
    "from sklearn.model_selection import GridSearchCV \n",
    "from sklearn.model_selection import KFold, cross_val_score, train_test_split\n",
    "from sklearn.model_selection import RepeatedKFold\n",
    "from sklearn.model_selection import train_test_split\n",
    "from sklearn.pipeline import make_pipeline, Pipeline\n",
    "from sklearn.preprocessing import minmax_scale\n",
    "from sklearn.preprocessing import MinMaxScaler, StandardScaler, RobustScaler\n",
    "from sklearn.preprocessing import Normalizer\n",
    "from sklearn.preprocessing import scale\n",
    "from sklearn.utils import class_weight\n",
    "from statsmodels.stats.outliers_influence import variance_inflation_factor\n",
    "from statsmodels.tsa.stattools import adfuller \n",
    "import catboost  \n",
    "import lightgbm \n",
    "import matplotlib as mpl\n",
    "import matplotlib.pyplot as plt\n",
    "import missingno as mn \n",
    "import numpy as np\n",
    "import os\n",
    "import pandas as pd\n",
    "import random\n",
    "import re\n",
    "import seaborn as sns\n",
    "import sys\n",
    "import time   \n",
    "import warnings\n",
    "\n",
    "from sklearn.model_selection import train_test_split\n",
    "from sklearn.feature_selection import SelectKBest\n",
    "from sklearn.feature_selection import f_regression\n",
    "from matplotlib import pyplot\n",
    "from sklearn.feature_selection import RFECV\n",
    "from sklearn.svm import SVR \n",
    "from sklearn.linear_model import Lasso\n",
    "from sklearn.feature_selection import SelectFromModel \n",
    "\n",
    "class FeatureSelection(object):\n",
    "    def __init__(self, random_state=123, test_size=0.3, features = None):\n",
    "        \"\"\"\n",
    "            documentation: \n",
    "            this module will be explained and utilized later for Classification\n",
    "        \"\"\" \n",
    "        self.test_size = test_size\n",
    "        self.random_state = random_state \n",
    "        self.features = features\n",
    "        \n",
    "    def split_df(self, df): \n",
    "        \"\"\"\n",
    "            doc: \n",
    "            this module will be explained and utilized later for Classification\n",
    "        \"\"\" \n",
    "        Y = df[\"rul\"]\n",
    "        X = df[self.feats]\n",
    "        return train_test_split(X,Y, test_size=self.test_size, random_state=self.random_state)\n",
    "\n",
    "    def select_features(self, df, to_plot=True):  \n",
    "        \"\"\"\n",
    "            doc: \n",
    "            this module will be explained and utilized later for Classification\n",
    "        \"\"\" \n",
    "        fs = SelectKBest(score_func=f_regression, k=\"all\")\n",
    "        # learn relationship from training data\n",
    "        fs.fit(X_train, y_train)\n",
    "        # transform train input data\n",
    "        X_train_fs = fs.transform(X_train)\n",
    "        # transform test input data\n",
    "        X_test_fs = fs.transform(X_test)\n",
    "        \n",
    "        if to_plot: \n",
    "            # what are scores for the features\n",
    "            for i in range(len(fs.scores_)):\n",
    "                print('Feature %d: %f' % (i, fs.scores_[i]))\n",
    "            # plot the scores\n",
    "            sns.barplot([i for i in range(len(fs.scores_))], fs.scores_) \n",
    "            plt.show() \n",
    "        return X_train_fs, X_test_fs, fs\n",
    "    \n",
    "    def wrapping(self, df, y):  \n",
    "        \"\"\"\n",
    "            doc: \n",
    "            this module will be explained and utilized later for Classification\n",
    "        \"\"\" \n",
    "        estimator = SVR(kernel=\"linear\") \n",
    "        selector = RFECV(estimator, step=1, cv=5)\n",
    "        selector = selector.fit(df, y)\n",
    "        #selector.support_ \n",
    "        #selector.ranking_ \n",
    "        return selector\n",
    "\n",
    "    def embedded(self, df): \n",
    "        scaler = StandardScaler()\n",
    "        scaler.fit(tmp) \n",
    "        sel_ = SelectFromModel(Lasso(alpha=1)) # lambda \n",
    "        sel_.fit(scaler.transform(df), y) \n",
    "        #sel_.estimator_.coef_ \n",
    "        #sel_.threshold_\n",
    "        #sel_.get_support() \n",
    "        return sel_\n"
   ]
  },
  {
   "cell_type": "code",
   "execution_count": null,
   "metadata": {},
   "outputs": [],
   "source": [
    " "
   ]
  },
  {
   "cell_type": "code",
   "execution_count": null,
   "metadata": {},
   "outputs": [],
   "source": [
    " "
   ]
  },
  {
   "cell_type": "code",
   "execution_count": null,
   "metadata": {},
   "outputs": [],
   "source": []
  },
  {
   "cell_type": "markdown",
   "metadata": {},
   "source": [
    "# Problem Revisit\n",
    "* RUL"
   ]
  },
  {
   "cell_type": "markdown",
   "metadata": {},
   "source": [
    "## rul distribution"
   ]
  },
  {
   "cell_type": "code",
   "execution_count": 9,
   "metadata": {},
   "outputs": [
    {
     "data": {
      "image/png": "[encoded data removed]",
      "text/plain": [
       "<Figure size 432x288 with 2 Axes>"
      ]
     },
     "metadata": {
      "needs_background": "light"
     },
     "output_type": "display_data"
    }
   ],
   "source": [
    "tmp = DF_TRAIN.copy()\n",
    "tmp = DF_TRAIN.groupby(\"id\")[\"cycle\"].max().reset_index()\n",
    " \n",
    "fig, ax1 = plt.subplots()\n",
    "kde_data = sns.kdeplot(data=tmp, x=\"cycle\", ax=ax1)\n",
    "ax1.set_xlim((tmp[\"cycle\"].min(), tmp[\"cycle\"].max()))\n",
    "ax2 = ax1.twinx()\n",
    "sns.histplot(data=tmp, x=\"cycle\", discrete=False, ax=ax2)\n",
    "plt.grid(False)\n",
    "plt.title(\"Engine Life Time Distributions\", fontsize=13)\n",
    "ax1.set_xlabel(\"Life Time (max cycle)\")\n",
    "plt.show()"
   ]
  },
  {
   "cell_type": "markdown",
   "metadata": {},
   "source": [
    "## predict rul"
   ]
  },
  {
   "cell_type": "code",
   "execution_count": 17,
   "metadata": {},
   "outputs": [
    {
     "data": {
      "text/html": [
       "<div>\n",
       "<style scoped>\n",
       "    .dataframe tbody tr th:only-of-type {\n",
       "        vertical-align: middle;\n",
       "    }\n",
       "\n",
       "    .dataframe tbody tr th {\n",
       "        vertical-align: top;\n",
       "    }\n",
       "\n",
       "    .dataframe thead th {\n",
       "        text-align: right;\n",
       "    }\n",
       "</style>\n",
       "<table border=\"1\" class=\"dataframe\">\n",
       "  <thead>\n",
       "    <tr style=\"text-align: right;\">\n",
       "      <th></th>\n",
       "      <th>op1</th>\n",
       "      <th>op2</th>\n",
       "      <th>sensor2</th>\n",
       "      <th>sensor3</th>\n",
       "      <th>sensor4</th>\n",
       "      <th>sensor7</th>\n",
       "      <th>sensor11</th>\n",
       "      <th>sensor12</th>\n",
       "      <th>sensor14</th>\n",
       "      <th>sensor15</th>\n",
       "      <th>sensor17</th>\n",
       "      <th>sensor20</th>\n",
       "      <th>sensor21</th>\n",
       "    </tr>\n",
       "  </thead>\n",
       "  <tbody>\n",
       "    <tr>\n",
       "      <th>0</th>\n",
       "      <td>-0.0007</td>\n",
       "      <td>-0.0004</td>\n",
       "      <td>641.82</td>\n",
       "      <td>1589.70</td>\n",
       "      <td>1400.60</td>\n",
       "      <td>554.36</td>\n",
       "      <td>47.47</td>\n",
       "      <td>521.66</td>\n",
       "      <td>8138.62</td>\n",
       "      <td>8.4195</td>\n",
       "      <td>392</td>\n",
       "      <td>39.06</td>\n",
       "      <td>23.4190</td>\n",
       "    </tr>\n",
       "    <tr>\n",
       "      <th>1</th>\n",
       "      <td>0.0019</td>\n",
       "      <td>-0.0003</td>\n",
       "      <td>642.15</td>\n",
       "      <td>1591.82</td>\n",
       "      <td>1403.14</td>\n",
       "      <td>553.75</td>\n",
       "      <td>47.49</td>\n",
       "      <td>522.28</td>\n",
       "      <td>8131.49</td>\n",
       "      <td>8.4318</td>\n",
       "      <td>392</td>\n",
       "      <td>39.00</td>\n",
       "      <td>23.4236</td>\n",
       "    </tr>\n",
       "  </tbody>\n",
       "</table>\n",
       "</div>"
      ],
      "text/plain": [
       "      op1     op2  sensor2  sensor3  sensor4  sensor7  sensor11  sensor12  \\\n",
       "0 -0.0007 -0.0004   641.82  1589.70  1400.60   554.36     47.47    521.66   \n",
       "1  0.0019 -0.0003   642.15  1591.82  1403.14   553.75     47.49    522.28   \n",
       "\n",
       "   sensor14  sensor15  sensor17  sensor20  sensor21  \n",
       "0   8138.62    8.4195       392     39.06   23.4190  \n",
       "1   8131.49    8.4318       392     39.00   23.4236  "
      ]
     },
     "execution_count": 17,
     "metadata": {},
     "output_type": "execute_result"
    }
   ],
   "source": [
    "FEATS = fs.eda_features()\n",
    "\n",
    "tmp = DF_TRAIN.copy()\n",
    "tmp[FEATS].head(2)\n",
    "# lognorm"
   ]
  },
  {
   "cell_type": "code",
   "execution_count": 18,
   "metadata": {},
   "outputs": [],
   "source": [
    "fs = SelectingEDAFeatures()\n",
    "FEATS = fs.eda_features()"
   ]
  },
  {
   "cell_type": "code",
   "execution_count": 32,
   "metadata": {},
   "outputs": [],
   "source": [
    "import numpy as np\n",
    "from sklearn import datasets, linear_model, metrics\n",
    "from sklearn.metrics import  mean_squared_error, r2_score\n",
    "random_state = 123   \n",
    "\n",
    "def lin_train_rul(tmp, output_col = None, last_only = True): \n",
    "    #FEATS= round_one_final() \n",
    "    \n",
    "    if not output_col:\n",
    "        y = tmp.pop(\"rul\")\n",
    "    else: \n",
    "        y = tmp.pop(output_col) \n",
    "        \n",
    "    X = tmp[FEATS]\n",
    "\n",
    "    ss = MinMaxScaler() \n",
    "     \n",
    "    X_train, X_test, y_train, y_test = train_test_split(X, y, test_size=0.4, random_state=random_state)\n",
    "    \n",
    "    if last_only:\n",
    "        X_test = DF_TEST.copy()\n",
    "        X_test = X_test.drop('cycle', axis=1).groupby('id').last().copy().reset_index()# get last row of each engine \n",
    "        y_test = X_test['remaining_rul'].copy()\n",
    "        X_test = X_test[FEATS] \n",
    "         \n",
    "    X_train = pd.DataFrame(ss.fit_transform(X_train))\n",
    "    X_train.columns = FEATS\n",
    "\n",
    "    X_test = pd.DataFrame(ss.transform(X_test))\n",
    "    X_test.columns = FEATS \n",
    "\n",
    "    # create linear regression object\n",
    "    reg = linear_model.LinearRegression(fit_intercept=False) \n",
    "    # train the model using the training sets\n",
    "    reg.fit(X_train, y_train )\n",
    "\n",
    "    # regression coefficients\n",
    "    print('Coefficients: ', reg.coef_)\n",
    "\n",
    "    # variance score: 1 means perfect prediction\n",
    "    print('Variance score: {}'.format(reg.score(X_test, y_test)))\n",
    "\n",
    "    # plot for residual error  \n",
    "    ## setting plot style\n",
    "    plt.style.use('fivethirtyeight')\n",
    "\n",
    "    ## plotting residual errors in training data\n",
    "    plt.scatter(reg.predict(X_train), reg.predict(X_train) - y_train,\n",
    "                color = \"green\", s = 10, label = 'Train data')\n",
    "\n",
    "    ## plotting residual errors in test data\n",
    "    predictions = reg.predict(X_test) \n",
    "    plt.scatter(predictions, predictions - y_test,\n",
    "                color = \"blue\", s = 10, label = 'Test data')\n",
    "\n",
    "    ## plotting line for zero residual error\n",
    "    xmax = max(predictions) \n",
    "    \n",
    "    plt.hlines(y = 0, xmin = 0, xmax = xmax, linewidth = 2)\n",
    "\n",
    "    ## plotting legend\n",
    "    plt.legend(loc = 'upper left') \n",
    "    ## plot title\n",
    "    plt.title(\"Residual errors\") \n",
    "    ## method call for showing the plot\n",
    "    plt.show()\n",
    "    \n",
    "    r2 = r2_score(y_test, predictions)\n",
    "    mse = mean_squared_error(y_test, predictions)\n",
    "    pearsonr = np.corrcoef(np.array(y_test), np.array(predictions))\n",
    "    return  reg.coef_, predictions, X_train, FEATS,  r2, mse, pearsonr"
   ]
  },
  {
   "cell_type": "code",
   "execution_count": 33,
   "metadata": {},
   "outputs": [
    {
     "name": "stdout",
     "output_type": "stream",
     "text": [
      "Coefficients:  [   7.26250398    5.07398333   -3.97665083   -6.23020036  -17.86041646\n",
      "   78.13633697  -28.88410802   99.16566293 -123.47479179  -13.05998067\n",
      "   -1.82110431   55.73362489   52.88035788]\n",
      "Variance score: 0.3849596502920525\n"
     ]
    },
    {
     "data": {
      "image/png": "[encoded data removed]",
      "text/plain": [
       "<Figure size 432x288 with 1 Axes>"
      ]
     },
     "metadata": {},
     "output_type": "display_data"
    }
   ],
   "source": [
    "tmp = DF_TRAIN.copy()\n",
    "_, predictions, _, _, r2, mse, pearsonr = lin_train_rul(tmp = tmp)"
   ]
  },
  {
   "cell_type": "code",
   "execution_count": null,
   "metadata": {},
   "outputs": [],
   "source": [
    " "
   ]
  },
  {
   "cell_type": "code",
   "execution_count": null,
   "metadata": {},
   "outputs": [],
   "source": []
  },
  {
   "cell_type": "markdown",
   "metadata": {},
   "source": [
    "# Regression models: a comprehensive list"
   ]
  },
  {
   "cell_type": "code",
   "execution_count": 4,
   "metadata": {},
   "outputs": [],
   "source": [
    "FEATS = ['op1',\n",
    " 'op2',\n",
    " 'sensor2',\n",
    " 'sensor3',\n",
    " 'sensor4',\n",
    " 'sensor7',\n",
    " 'sensor8',\n",
    " 'sensor11',\n",
    " 'sensor12',\n",
    " 'sensor13',\n",
    " 'sensor14',\n",
    " 'sensor15',\n",
    " 'sensor17',\n",
    " 'sensor20',\n",
    " 'sensor21']"
   ]
  },
  {
   "cell_type": "code",
   "execution_count": 5,
   "metadata": {},
   "outputs": [],
   "source": [
    "def prepare(random_state = 123):\n",
    "    tmp = DF_TRAIN.copy()\n",
    "    X = tmp[FEATS] \n",
    "    y = tmp.pop(\"rul\") \n",
    "    X_train, X_test, y_train, y_test = train_test_split(X, y, test_size=0.4, random_state=random_state)\n",
    "    return X_train, X_test, y_train, y_test"
   ]
  },
  {
   "cell_type": "code",
   "execution_count": null,
   "metadata": {},
   "outputs": [],
   "source": [
    " "
   ]
  },
  {
   "cell_type": "markdown",
   "metadata": {},
   "source": [
    "* linear reg"
   ]
  },
  {
   "cell_type": "code",
   "execution_count": 30,
   "metadata": {},
   "outputs": [
    {
     "data": {
      "text/plain": [
       "(0.5717578899081595,\n",
       " 34.550372946477246,\n",
       " array([-1.16503705e+02,  2.17927030e+03, -5.58470905e+00, -4.76883740e-01,\n",
       "        -7.81227522e-01,  6.05390672e+00, -1.12841090e+01, -3.83718625e+01,\n",
       "         1.13002585e+01, -1.80985275e+01, -6.69849454e-01, -1.27265418e+02,\n",
       "        -1.77472626e+00,  2.30102074e+01,  4.34351929e+01]))"
      ]
     },
     "execution_count": 30,
     "metadata": {},
     "output_type": "execute_result"
    }
   ],
   "source": [
    "from sklearn import linear_model\n",
    "reg = linear_model.LinearRegression(fit_intercept=True) \n",
    "reg.fit(X_train, y_train) \n",
    "\n",
    "predictions = reg.predict(X_test)\n",
    "r2 = r2_score(y_test, predictions) \n",
    "mse = mean_absolute_error( y_test, predictions)\n",
    "r2, mse, reg.coef_"
   ]
  },
  {
   "cell_type": "markdown",
   "metadata": {},
   "source": [
    "* LassoLars"
   ]
  },
  {
   "cell_type": "code",
   "execution_count": 71,
   "metadata": {},
   "outputs": [
    {
     "data": {
      "text/plain": [
       "(0.5703402343505695,\n",
       " 34.58987999059144,\n",
       " array([  0.        ,   0.        ,  -6.67250055,  -0.61201974,\n",
       "         -1.02119579,   7.81275644,   0.        , -40.39803671,\n",
       "         13.82198983,   0.        ,  -0.65105249,   0.        ,\n",
       "         -2.31899146,  20.42295018,  26.90840273]))"
      ]
     },
     "execution_count": 71,
     "metadata": {},
     "output_type": "execute_result"
    }
   ],
   "source": [
    "from sklearn import linear_model\n",
    "reg = linear_model.LassoLars(alpha=.1, normalize=False)\n",
    "reg.fit(X_train, y_train) \n",
    "\n",
    "predictions = reg.predict(X_test)\n",
    "r2 = r2_score(y_test, predictions) \n",
    "mse = mean_absolute_error( y_test, predictions)\n",
    "r2, mse, reg.coef_"
   ]
  },
  {
   "cell_type": "markdown",
   "metadata": {},
   "source": [
    "* Ridge"
   ]
  },
  {
   "cell_type": "code",
   "execution_count": 73,
   "metadata": {},
   "outputs": [
    {
     "data": {
      "text/plain": [
       "(0.5718929232799095,\n",
       " 34.545020746860914,\n",
       " array([ -11.75549457,    4.57537319,   -5.65275632,   -0.4798882 ,\n",
       "          -0.78906327,    6.12241778,  -11.70441106,  -38.5886947 ,\n",
       "          11.38580344,  -18.06812031,   -0.67125703, -116.58631706,\n",
       "          -1.78856513,   23.11514555,   43.31601452]))"
      ]
     },
     "execution_count": 73,
     "metadata": {},
     "output_type": "execute_result"
    }
   ],
   "source": [
    "reg = linear_model.Ridge(alpha=.5) \n",
    "reg.fit(X_train, y_train)  \n",
    "predictions = reg.predict(X_test)\n",
    "r2 = r2_score(y_test, predictions) \n",
    "mse = mean_absolute_error( y_test, predictions)\n",
    "r2, mse, reg.coef_"
   ]
  },
  {
   "cell_type": "markdown",
   "metadata": {},
   "source": [
    "* bayesian <br>\n",
    "Bayesian linear regression is a form of regression analysis technique used in machine learning that uses Bayes' theorem to calculate the regression coefficients' values. Rather than determining the least-squares, this technique determines the features' posterior distribution. As a result, the approach outperforms ordinary linear regression in terms of stability.Bayesian linear regression is a form of regression analysis technique used in machine learning that uses Bayes' theorem to calculate the regression coefficients' values. Rather than determining the least-squares, this technique determines the features' posterior distribution. As a result, the approach outperforms ordinary linear regression in terms of stability."
   ]
  },
  {
   "cell_type": "code",
   "execution_count": 75,
   "metadata": {},
   "outputs": [
    {
     "data": {
      "text/plain": [
       "(0.5718814311340489,\n",
       " 34.542581211122986,\n",
       " array([ -3.63677664,   1.28553115,  -5.77769076,  -0.48825218,\n",
       "         -0.80420206,   6.26161541, -12.40231807, -38.87495113,\n",
       "         11.58826815, -17.97630194,  -0.67389004, -96.44038357,\n",
       "         -1.83201373,  23.33892431,  42.7361165 ]))"
      ]
     },
     "execution_count": 75,
     "metadata": {},
     "output_type": "execute_result"
    }
   ],
   "source": [
    "reg = linear_model.BayesianRidge()   \n",
    "reg.fit(X_train, y_train)  \n",
    "predictions = reg.predict(X_test)\n",
    "r2 = r2_score(y_test, predictions) \n",
    "mse = mean_absolute_error( y_test, predictions)\n",
    "r2, mse, reg.coef_"
   ]
  },
  {
   "cell_type": "markdown",
   "metadata": {},
   "source": [
    "* Generalized Linear Model"
   ]
  },
  {
   "cell_type": "code",
   "execution_count": 79,
   "metadata": {},
   "outputs": [
    {
     "data": {
      "text/plain": [
       "(-0.000233535648204386,\n",
       " 57.068808187319355,\n",
       " array([0., 0., 0., 0., 0., 0., 0., 0., 0., 0., 0., 0., 0., 0., 0.]))"
      ]
     },
     "execution_count": 79,
     "metadata": {},
     "output_type": "execute_result"
    }
   ],
   "source": [
    "reg = linear_model.TweedieRegressor(power=1, alpha=0.5, link='log')   \n",
    "reg.fit(X_train, y_train)  \n",
    "predictions = reg.predict(X_test)\n",
    "r2 = r2_score(y_test, predictions) \n",
    "mse = mean_absolute_error( y_test, predictions)\n",
    "r2, mse, reg.coef_"
   ]
  },
  {
   "cell_type": "markdown",
   "metadata": {},
   "source": [
    "* poly nomial"
   ]
  },
  {
   "cell_type": "code",
   "execution_count": 31,
   "metadata": {},
   "outputs": [
    {
     "data": {
      "text/plain": [
       "(0.604769728948796, 31.9306847403501, array([2.02585659e+02, 4.30279227e-02]))"
      ]
     },
     "execution_count": 31,
     "metadata": {},
     "output_type": "execute_result"
    }
   ],
   "source": [
    "from sklearn.preprocessing import PolynomialFeatures\n",
    "from sklearn.linear_model import LinearRegression\n",
    "from sklearn.pipeline import Pipeline\n",
    "import numpy as np\n",
    "model = Pipeline([('poly', PolynomialFeatures(degree=3)), ('linear', LinearRegression(fit_intercept=False))]) \n",
    " \n",
    "model = model.fit(X_train, y_train)\n",
    "model.named_steps['linear'].coef_\n",
    "\n",
    "predictions = model.predict(X_test)\n",
    "r2 = r2_score(y_test, predictions) \n",
    "mse = mean_absolute_error( y_test, predictions)\n",
    "r2, mse, model[\"linear\"].coef_[:2]"
   ]
  },
  {
   "cell_type": "markdown",
   "metadata": {},
   "source": [
    "* QuantileRegressor --- very slow"
   ]
  },
  {
   "cell_type": "code",
   "execution_count": null,
   "metadata": {},
   "outputs": [],
   "source": [
    "reg = linear_model.QuantileRegressor(quantile=0.5, alpha=0)    \n",
    "reg.fit(X_train, y_train)  \n",
    "predictions = reg.predict(X_test)\n",
    "r2 = r2_score(y_test, predictions) \n",
    "mse = mean_absolute_error( y_test, predictions)\n",
    "r2, mse, reg.coef_"
   ]
  },
  {
   "cell_type": "markdown",
   "metadata": {},
   "source": [
    "* OMP"
   ]
  },
  {
   "cell_type": "code",
   "execution_count": 32,
   "metadata": {},
   "outputs": [
    {
     "data": {
      "text/plain": [
       "(0.4560704404555609,\n",
       " 39.4177479151354,\n",
       " array([ 0.       ,  0.       ,  0.       ,  0.       , -5.1903585,\n",
       "         0.       ,  0.       ,  0.       ,  0.       ,  0.       ,\n",
       "         0.       ,  0.       ,  0.       ,  0.       ,  0.       ]))"
      ]
     },
     "execution_count": 32,
     "metadata": {},
     "output_type": "execute_result"
    }
   ],
   "source": [
    "reg = linear_model.OrthogonalMatchingPursuit(normalize=False).fit(X, y)   \n",
    "reg.fit(X_train, y_train)  \n",
    "predictions = reg.predict(X_test)\n",
    "r2 = r2_score(y_test, predictions) \n",
    "mse = mean_absolute_error( y_test, predictions)\n",
    "r2, mse, reg.coef_"
   ]
  },
  {
   "cell_type": "markdown",
   "metadata": {},
   "source": [
    "* logit"
   ]
  },
  {
   "cell_type": "code",
   "execution_count": 34,
   "metadata": {},
   "outputs": [
    {
     "data": {
      "text/plain": [
       "(0.4560704404555609,\n",
       " 39.4177479151354,\n",
       " array([ 0.       ,  0.       ,  0.       ,  0.       , -5.1903585,\n",
       "         0.       ,  0.       ,  0.       ,  0.       ,  0.       ,\n",
       "         0.       ,  0.       ,  0.       ,  0.       ,  0.       ]))"
      ]
     },
     "execution_count": 34,
     "metadata": {},
     "output_type": "execute_result"
    }
   ],
   "source": [
    "regi = linear_model.LogisticRegression(penalty='l2')\n",
    "reg.fit(X_train, y_train)  \n",
    "predictions = reg.predict(X_test)\n",
    "r2 = r2_score(y_test, predictions) \n",
    "mse = mean_absolute_error( y_test, predictions)\n",
    "r2, mse, reg.coef_"
   ]
  },
  {
   "cell_type": "code",
   "execution_count": null,
   "metadata": {},
   "outputs": [],
   "source": []
  },
  {
   "cell_type": "markdown",
   "metadata": {},
   "source": [
    "* SGD"
   ]
  },
  {
   "cell_type": "code",
   "execution_count": null,
   "metadata": {},
   "outputs": [],
   "source": [
    " "
   ]
  },
  {
   "cell_type": "code",
   "execution_count": null,
   "metadata": {
    "tags": []
   },
   "outputs": [],
   "source": [
    "reg = linear_model.SGDRegressor(loss='squared_error',   penalty='l2')  \n",
    "reg.fit(X_train, y_train)  \n",
    "predictions = reg.predict(X_test)\n",
    "r2 = r2_score(y_test, predictions) \n",
    "mae = mean_absolute_error( y_test, predictions)\n",
    "mse = mean_squared_error( y_test, predictions)\n",
    "r2, mae, reg.coef_ , mse"
   ]
  },
  {
   "cell_type": "markdown",
   "metadata": {},
   "source": [
    "* PassiveAggressiveRegressor\n",
    "`are a family of algorithms for large-scale learning`"
   ]
  },
  {
   "cell_type": "code",
   "execution_count": 37,
   "metadata": {},
   "outputs": [
    {
     "data": {
      "text/plain": [
       "(0.4396722611334192,\n",
       " 40.12515903613922,\n",
       " array([-2.66678001e-05,  7.25088817e-07,  1.61802475e-01, -1.33668057e+00,\n",
       "        -2.83578795e+00,  6.88644339e-01,  1.31702272e+00, -9.56951565e-02,\n",
       "         6.16983738e-01,  1.31661790e+00, -8.80255505e-02, -1.11415478e-02,\n",
       "        -3.95604578e-01,  9.70938790e-02,  5.85344433e-02]))"
      ]
     },
     "execution_count": 37,
     "metadata": {},
     "output_type": "execute_result"
    }
   ],
   "source": [
    "reg = linear_model.PassiveAggressiveRegressor(max_iter=100, random_state=0, tol=1e-3)\n",
    "reg.fit(X_train, y_train)  \n",
    "predictions = reg.predict(X_test)\n",
    "r2 = r2_score(y_test, predictions) \n",
    "mse = mean_absolute_error( y_test, predictions)\n",
    "r2, mse, reg.coef_\n"
   ]
  },
  {
   "cell_type": "markdown",
   "metadata": {},
   "source": [
    "* robust"
   ]
  },
  {
   "cell_type": "code",
   "execution_count": 54,
   "metadata": {},
   "outputs": [
    {
     "data": {
      "text/plain": [
       "(0.3424253423110277, 42.73620117155814)"
      ]
     },
     "execution_count": 54,
     "metadata": {},
     "output_type": "execute_result"
    }
   ],
   "source": [
    "lr = linear_model.LinearRegression()\n",
    "lr.fit(X_train, y_train)\n",
    "\n",
    "X,y = X_train.values, y_train.values\n",
    "# Robustly fit linear model with RANSAC algorithm\n",
    "ransac = linear_model.RANSACRegressor()\n",
    "ransac.fit(X, y) \n",
    "\n",
    "predictions = ransac.predict(X_test)\n",
    "r2 = r2_score(y_test, predictions) \n",
    "mse = mean_absolute_error( y_test, predictions)\n",
    "r2, mse \n",
    " "
   ]
  },
  {
   "cell_type": "code",
   "execution_count": null,
   "metadata": {},
   "outputs": [],
   "source": [
    " "
   ]
  },
  {
   "cell_type": "markdown",
   "metadata": {},
   "source": [
    "* elastic model"
   ]
  },
  {
   "cell_type": "code",
   "execution_count": 62,
   "metadata": {},
   "outputs": [
    {
     "data": {
      "text/plain": [
       "(0.5527274073405888,\n",
       " 35.356029964683195,\n",
       " array([-0.        ,  0.        , -4.48782098, -1.34554266, -2.30492111,\n",
       "         7.8218061 , -0.        , -3.54031339,  8.47016134, -0.        ,\n",
       "        -0.61163027, -0.        , -4.36971552,  1.74928615,  0.73629206]))"
      ]
     },
     "execution_count": 62,
     "metadata": {},
     "output_type": "execute_result"
    }
   ],
   "source": [
    "reg = linear_model.ElasticNet(alpha=0.5)\n",
    "reg.fit(X_train, y_train)  \n",
    "predictions = reg.predict(X_test)\n",
    "r2 = r2_score(y_test, predictions) \n",
    "mse = mean_absolute_error( y_test, predictions)\n",
    "r2, mse, reg.coef_\n",
    " "
   ]
  },
  {
   "cell_type": "code",
   "execution_count": null,
   "metadata": {},
   "outputs": [],
   "source": []
  },
  {
   "cell_type": "markdown",
   "metadata": {},
   "source": [
    "* lasso"
   ]
  },
  {
   "cell_type": "code",
   "execution_count": 49,
   "metadata": {},
   "outputs": [
    {
     "data": {
      "text/plain": [
       "(0.570340007762357,\n",
       " 34.589907740337345,\n",
       " array([ -0.        ,   0.        ,  -6.66847336,  -0.61183543,\n",
       "         -1.02158297,   7.82014008,  -0.        , -40.415231  ,\n",
       "         13.81801591,  -0.        ,  -0.65108889,  -0.        ,\n",
       "         -2.31776092,  20.4044511 ,  26.87852948]))"
      ]
     },
     "execution_count": 49,
     "metadata": {},
     "output_type": "execute_result"
    }
   ],
   "source": [
    "reg = linear_model.Lasso(alpha=0.1)\n",
    "reg.fit(X_train, y_train)  \n",
    "predictions = reg.predict(X_test)\n",
    "r2 = r2_score(y_test, predictions) \n",
    "mse = mean_absolute_error( y_test, predictions)\n",
    "r2, mse, reg.coef_ "
   ]
  },
  {
   "cell_type": "code",
   "execution_count": null,
   "metadata": {},
   "outputs": [],
   "source": []
  },
  {
   "cell_type": "markdown",
   "metadata": {},
   "source": [
    "* SVR"
   ]
  },
  {
   "cell_type": "code",
   "execution_count": 65,
   "metadata": {},
   "outputs": [
    {
     "data": {
      "text/plain": [
       "(-0.008399729377851939, 57.00613473893578)"
      ]
     },
     "execution_count": 65,
     "metadata": {},
     "output_type": "execute_result"
    }
   ],
   "source": [
    "from sklearn.svm import SVR\n",
    "# Epsilon-Support Vector Regression\n",
    "reg = SVR(C=1.0, epsilon=0.2) # C: l1 or l2 penalty\n",
    "# epsilon; Epsilon in the epsilon-SVR model. It specifies the epsilon-tube within\n",
    "# which no penalty is associated in the training loss function with points predicted within a distance epsilon from the actual value.\n",
    "reg.fit(X_train, y_train)  \n",
    "predictions = reg.predict(X_test)\n",
    "r2 = r2_score(y_test, predictions) \n",
    "mse = mean_absolute_error( y_test, predictions)\n",
    "r2, mse \n",
    " "
   ]
  },
  {
   "cell_type": "code",
   "execution_count": 67,
   "metadata": {},
   "outputs": [
    {
     "data": {
      "text/plain": [
       "array([101.80204823, 101.68857293, 101.76745079, ..., 101.79541261,\n",
       "       101.8145923 , 101.71052907])"
      ]
     },
     "execution_count": 67,
     "metadata": {},
     "output_type": "execute_result"
    }
   ],
   "source": [
    "predictions"
   ]
  },
  {
   "cell_type": "code",
   "execution_count": 68,
   "metadata": {},
   "outputs": [],
   "source": [
    "# cat boost"
   ]
  },
  {
   "cell_type": "code",
   "execution_count": 23,
   "metadata": {},
   "outputs": [],
   "source": [
    "import catboost"
   ]
  },
  {
   "cell_type": "code",
   "execution_count": 43,
   "metadata": {
    "collapsed": true,
    "jupyter": {
     "outputs_hidden": true
    },
    "tags": []
   },
   "outputs": [
    {
     "name": "stdout",
     "output_type": "stream",
     "text": [
      "Learning rate set to 0.060928\n",
      "0:\tlearn: 47.9628003\ttotal: 5.88ms\tremaining: 5.87s\n",
      "1:\tlearn: 46.0881193\ttotal: 9.41ms\tremaining: 4.7s\n",
      "2:\tlearn: 44.3415702\ttotal: 13.1ms\tremaining: 4.35s\n",
      "3:\tlearn: 42.7571601\ttotal: 16.3ms\tremaining: 4.05s\n",
      "4:\tlearn: 41.2585001\ttotal: 19.6ms\tremaining: 3.9s\n",
      "5:\tlearn: 39.8643915\ttotal: 22.8ms\tremaining: 3.78s\n",
      "6:\tlearn: 38.6074357\ttotal: 26.3ms\tremaining: 3.73s\n",
      "7:\tlearn: 37.3886445\ttotal: 29.8ms\tremaining: 3.7s\n",
      "8:\tlearn: 36.2972960\ttotal: 33.3ms\tremaining: 3.66s\n",
      "9:\tlearn: 35.3031034\ttotal: 36.9ms\tremaining: 3.65s\n",
      "10:\tlearn: 34.3727543\ttotal: 40.6ms\tremaining: 3.65s\n",
      "11:\tlearn: 33.4957048\ttotal: 44.5ms\tremaining: 3.66s\n",
      "12:\tlearn: 32.6957371\ttotal: 48.3ms\tremaining: 3.67s\n",
      "13:\tlearn: 31.9401453\ttotal: 52.2ms\tremaining: 3.68s\n",
      "14:\tlearn: 31.3013602\ttotal: 55.9ms\tremaining: 3.67s\n",
      "15:\tlearn: 30.6553803\ttotal: 59.8ms\tremaining: 3.68s\n",
      "16:\tlearn: 30.0866325\ttotal: 63.3ms\tremaining: 3.66s\n",
      "17:\tlearn: 29.5544293\ttotal: 67.4ms\tremaining: 3.68s\n",
      "18:\tlearn: 29.0805823\ttotal: 71.4ms\tremaining: 3.68s\n",
      "19:\tlearn: 28.6541702\ttotal: 75ms\tremaining: 3.68s\n",
      "20:\tlearn: 28.2443984\ttotal: 78.6ms\tremaining: 3.67s\n",
      "21:\tlearn: 27.8808561\ttotal: 82.2ms\tremaining: 3.65s\n",
      "22:\tlearn: 27.5380316\ttotal: 85.7ms\tremaining: 3.64s\n",
      "23:\tlearn: 27.2469517\ttotal: 89.4ms\tremaining: 3.64s\n",
      "24:\tlearn: 26.9465304\ttotal: 93.4ms\tremaining: 3.64s\n",
      "25:\tlearn: 26.6886722\ttotal: 96.8ms\tremaining: 3.63s\n",
      "26:\tlearn: 26.4405094\ttotal: 101ms\tremaining: 3.62s\n",
      "27:\tlearn: 26.2224611\ttotal: 104ms\tremaining: 3.62s\n",
      "28:\tlearn: 26.0189372\ttotal: 108ms\tremaining: 3.61s\n",
      "29:\tlearn: 25.8257563\ttotal: 111ms\tremaining: 3.6s\n",
      "30:\tlearn: 25.6533189\ttotal: 115ms\tremaining: 3.59s\n",
      "31:\tlearn: 25.4953942\ttotal: 118ms\tremaining: 3.58s\n",
      "32:\tlearn: 25.3507346\ttotal: 122ms\tremaining: 3.57s\n",
      "33:\tlearn: 25.2089815\ttotal: 125ms\tremaining: 3.56s\n",
      "34:\tlearn: 25.0853571\ttotal: 129ms\tremaining: 3.55s\n",
      "35:\tlearn: 24.9753902\ttotal: 133ms\tremaining: 3.55s\n",
      "36:\tlearn: 24.8759617\ttotal: 137ms\tremaining: 3.57s\n",
      "37:\tlearn: 24.7784671\ttotal: 141ms\tremaining: 3.58s\n",
      "38:\tlearn: 24.6956810\ttotal: 146ms\tremaining: 3.61s\n",
      "39:\tlearn: 24.6146077\ttotal: 150ms\tremaining: 3.61s\n",
      "40:\tlearn: 24.5284333\ttotal: 154ms\tremaining: 3.61s\n",
      "41:\tlearn: 24.4567235\ttotal: 158ms\tremaining: 3.6s\n",
      "42:\tlearn: 24.3818706\ttotal: 162ms\tremaining: 3.6s\n",
      "43:\tlearn: 24.3166912\ttotal: 166ms\tremaining: 3.6s\n",
      "44:\tlearn: 24.2567842\ttotal: 170ms\tremaining: 3.6s\n",
      "45:\tlearn: 24.2199457\ttotal: 173ms\tremaining: 3.59s\n",
      "46:\tlearn: 24.1728834\ttotal: 177ms\tremaining: 3.59s\n",
      "47:\tlearn: 24.1300289\ttotal: 181ms\tremaining: 3.59s\n",
      "48:\tlearn: 24.0918477\ttotal: 185ms\tremaining: 3.6s\n",
      "49:\tlearn: 24.0521361\ttotal: 190ms\tremaining: 3.6s\n",
      "50:\tlearn: 24.0194945\ttotal: 194ms\tremaining: 3.61s\n",
      "51:\tlearn: 23.9792279\ttotal: 198ms\tremaining: 3.61s\n",
      "52:\tlearn: 23.9493404\ttotal: 202ms\tremaining: 3.62s\n",
      "53:\tlearn: 23.9236944\ttotal: 207ms\tremaining: 3.62s\n",
      "54:\tlearn: 23.8960883\ttotal: 211ms\tremaining: 3.63s\n",
      "55:\tlearn: 23.8696237\ttotal: 215ms\tremaining: 3.63s\n",
      "56:\tlearn: 23.8469390\ttotal: 219ms\tremaining: 3.62s\n",
      "57:\tlearn: 23.8243020\ttotal: 224ms\tremaining: 3.63s\n",
      "58:\tlearn: 23.8035371\ttotal: 228ms\tremaining: 3.64s\n",
      "59:\tlearn: 23.7933901\ttotal: 233ms\tremaining: 3.65s\n",
      "60:\tlearn: 23.7788070\ttotal: 237ms\tremaining: 3.65s\n",
      "61:\tlearn: 23.7542938\ttotal: 242ms\tremaining: 3.66s\n",
      "62:\tlearn: 23.7378376\ttotal: 246ms\tremaining: 3.66s\n",
      "63:\tlearn: 23.7209532\ttotal: 250ms\tremaining: 3.66s\n",
      "64:\tlearn: 23.7100390\ttotal: 254ms\tremaining: 3.66s\n",
      "65:\tlearn: 23.6912784\ttotal: 258ms\tremaining: 3.65s\n",
      "66:\tlearn: 23.6756482\ttotal: 262ms\tremaining: 3.65s\n",
      "67:\tlearn: 23.6602796\ttotal: 266ms\tremaining: 3.65s\n",
      "68:\tlearn: 23.6532419\ttotal: 271ms\tremaining: 3.65s\n",
      "69:\tlearn: 23.6405981\ttotal: 275ms\tremaining: 3.65s\n",
      "70:\tlearn: 23.6269287\ttotal: 279ms\tremaining: 3.65s\n",
      "71:\tlearn: 23.6193849\ttotal: 284ms\tremaining: 3.65s\n",
      "72:\tlearn: 23.6079660\ttotal: 288ms\tremaining: 3.66s\n",
      "73:\tlearn: 23.5979648\ttotal: 293ms\tremaining: 3.66s\n",
      "74:\tlearn: 23.5870943\ttotal: 297ms\tremaining: 3.67s\n",
      "75:\tlearn: 23.5760578\ttotal: 302ms\tremaining: 3.67s\n",
      "76:\tlearn: 23.5697532\ttotal: 307ms\tremaining: 3.68s\n",
      "77:\tlearn: 23.5594695\ttotal: 311ms\tremaining: 3.67s\n",
      "78:\tlearn: 23.5501698\ttotal: 315ms\tremaining: 3.68s\n",
      "79:\tlearn: 23.5424920\ttotal: 320ms\tremaining: 3.68s\n",
      "80:\tlearn: 23.5321382\ttotal: 324ms\tremaining: 3.67s\n",
      "81:\tlearn: 23.5174509\ttotal: 328ms\tremaining: 3.67s\n",
      "82:\tlearn: 23.5076715\ttotal: 333ms\tremaining: 3.68s\n",
      "83:\tlearn: 23.5028472\ttotal: 337ms\tremaining: 3.68s\n",
      "84:\tlearn: 23.4943839\ttotal: 342ms\tremaining: 3.69s\n",
      "85:\tlearn: 23.4842001\ttotal: 348ms\tremaining: 3.69s\n",
      "86:\tlearn: 23.4762634\ttotal: 352ms\tremaining: 3.7s\n",
      "87:\tlearn: 23.4696886\ttotal: 357ms\tremaining: 3.7s\n",
      "88:\tlearn: 23.4626045\ttotal: 362ms\tremaining: 3.71s\n",
      "89:\tlearn: 23.4590580\ttotal: 367ms\tremaining: 3.71s\n",
      "90:\tlearn: 23.4489016\ttotal: 371ms\tremaining: 3.71s\n",
      "91:\tlearn: 23.4431037\ttotal: 376ms\tremaining: 3.71s\n",
      "92:\tlearn: 23.4370836\ttotal: 381ms\tremaining: 3.71s\n",
      "93:\tlearn: 23.4262479\ttotal: 385ms\tremaining: 3.71s\n",
      "94:\tlearn: 23.4232605\ttotal: 389ms\tremaining: 3.71s\n",
      "95:\tlearn: 23.4193479\ttotal: 394ms\tremaining: 3.71s\n",
      "96:\tlearn: 23.4105612\ttotal: 398ms\tremaining: 3.71s\n",
      "97:\tlearn: 23.4075525\ttotal: 404ms\tremaining: 3.71s\n",
      "98:\tlearn: 23.4023353\ttotal: 408ms\tremaining: 3.71s\n",
      "99:\tlearn: 23.3962209\ttotal: 413ms\tremaining: 3.71s\n",
      "100:\tlearn: 23.3892721\ttotal: 417ms\tremaining: 3.71s\n",
      "101:\tlearn: 23.3834369\ttotal: 422ms\tremaining: 3.71s\n",
      "102:\tlearn: 23.3794403\ttotal: 426ms\tremaining: 3.71s\n",
      "103:\tlearn: 23.3697418\ttotal: 431ms\tremaining: 3.71s\n",
      "104:\tlearn: 23.3627984\ttotal: 435ms\tremaining: 3.71s\n",
      "105:\tlearn: 23.3582813\ttotal: 439ms\tremaining: 3.71s\n",
      "106:\tlearn: 23.3525276\ttotal: 444ms\tremaining: 3.7s\n",
      "107:\tlearn: 23.3472225\ttotal: 448ms\tremaining: 3.7s\n",
      "108:\tlearn: 23.3425427\ttotal: 453ms\tremaining: 3.7s\n",
      "109:\tlearn: 23.3376003\ttotal: 457ms\tremaining: 3.69s\n",
      "110:\tlearn: 23.3322246\ttotal: 461ms\tremaining: 3.69s\n",
      "111:\tlearn: 23.3244191\ttotal: 465ms\tremaining: 3.68s\n",
      "112:\tlearn: 23.3192975\ttotal: 469ms\tremaining: 3.68s\n",
      "113:\tlearn: 23.3149199\ttotal: 473ms\tremaining: 3.68s\n",
      "114:\tlearn: 23.3094412\ttotal: 477ms\tremaining: 3.67s\n",
      "115:\tlearn: 23.2991143\ttotal: 482ms\tremaining: 3.67s\n",
      "116:\tlearn: 23.2929516\ttotal: 486ms\tremaining: 3.67s\n",
      "117:\tlearn: 23.2862976\ttotal: 490ms\tremaining: 3.66s\n",
      "118:\tlearn: 23.2765419\ttotal: 494ms\tremaining: 3.66s\n",
      "119:\tlearn: 23.2709132\ttotal: 498ms\tremaining: 3.65s\n",
      "120:\tlearn: 23.2589168\ttotal: 503ms\tremaining: 3.65s\n",
      "121:\tlearn: 23.2512880\ttotal: 507ms\tremaining: 3.65s\n",
      "122:\tlearn: 23.2431176\ttotal: 511ms\tremaining: 3.65s\n",
      "123:\tlearn: 23.2360256\ttotal: 516ms\tremaining: 3.64s\n",
      "124:\tlearn: 23.2230402\ttotal: 520ms\tremaining: 3.64s\n",
      "125:\tlearn: 23.2174204\ttotal: 525ms\tremaining: 3.64s\n",
      "126:\tlearn: 23.2082063\ttotal: 530ms\tremaining: 3.64s\n",
      "127:\tlearn: 23.2025542\ttotal: 535ms\tremaining: 3.64s\n",
      "128:\tlearn: 23.1982519\ttotal: 539ms\tremaining: 3.64s\n",
      "129:\tlearn: 23.1903796\ttotal: 544ms\tremaining: 3.64s\n",
      "130:\tlearn: 23.1859500\ttotal: 548ms\tremaining: 3.63s\n",
      "131:\tlearn: 23.1820476\ttotal: 552ms\tremaining: 3.63s\n",
      "132:\tlearn: 23.1770275\ttotal: 557ms\tremaining: 3.63s\n",
      "133:\tlearn: 23.1707202\ttotal: 561ms\tremaining: 3.63s\n",
      "134:\tlearn: 23.1633402\ttotal: 565ms\tremaining: 3.62s\n",
      "135:\tlearn: 23.1533846\ttotal: 570ms\tremaining: 3.62s\n",
      "136:\tlearn: 23.1499945\ttotal: 575ms\tremaining: 3.62s\n",
      "137:\tlearn: 23.1452042\ttotal: 579ms\tremaining: 3.62s\n",
      "138:\tlearn: 23.1401902\ttotal: 583ms\tremaining: 3.61s\n",
      "139:\tlearn: 23.1284300\ttotal: 589ms\tremaining: 3.62s\n",
      "140:\tlearn: 23.1230279\ttotal: 593ms\tremaining: 3.62s\n",
      "141:\tlearn: 23.1103361\ttotal: 598ms\tremaining: 3.61s\n",
      "142:\tlearn: 23.1026765\ttotal: 602ms\tremaining: 3.61s\n",
      "143:\tlearn: 23.0937786\ttotal: 606ms\tremaining: 3.6s\n",
      "144:\tlearn: 23.0806396\ttotal: 611ms\tremaining: 3.6s\n",
      "145:\tlearn: 23.0727397\ttotal: 615ms\tremaining: 3.6s\n",
      "146:\tlearn: 23.0616138\ttotal: 619ms\tremaining: 3.59s\n",
      "147:\tlearn: 23.0522736\ttotal: 624ms\tremaining: 3.59s\n",
      "148:\tlearn: 23.0435772\ttotal: 628ms\tremaining: 3.59s\n",
      "149:\tlearn: 23.0413370\ttotal: 632ms\tremaining: 3.58s\n",
      "150:\tlearn: 23.0357254\ttotal: 636ms\tremaining: 3.58s\n",
      "151:\tlearn: 23.0313649\ttotal: 641ms\tremaining: 3.58s\n",
      "152:\tlearn: 23.0257519\ttotal: 645ms\tremaining: 3.57s\n",
      "153:\tlearn: 23.0155417\ttotal: 649ms\tremaining: 3.57s\n",
      "154:\tlearn: 23.0103623\ttotal: 654ms\tremaining: 3.56s\n",
      "155:\tlearn: 23.0004287\ttotal: 658ms\tremaining: 3.56s\n",
      "156:\tlearn: 22.9952903\ttotal: 662ms\tremaining: 3.55s\n",
      "157:\tlearn: 22.9905141\ttotal: 666ms\tremaining: 3.55s\n",
      "158:\tlearn: 22.9832634\ttotal: 670ms\tremaining: 3.54s\n",
      "159:\tlearn: 22.9752729\ttotal: 674ms\tremaining: 3.54s\n",
      "160:\tlearn: 22.9656142\ttotal: 678ms\tremaining: 3.54s\n",
      "161:\tlearn: 22.9579970\ttotal: 683ms\tremaining: 3.53s\n",
      "162:\tlearn: 22.9534088\ttotal: 687ms\tremaining: 3.53s\n",
      "163:\tlearn: 22.9491519\ttotal: 691ms\tremaining: 3.52s\n",
      "164:\tlearn: 22.9405276\ttotal: 695ms\tremaining: 3.52s\n",
      "165:\tlearn: 22.9352999\ttotal: 699ms\tremaining: 3.51s\n",
      "166:\tlearn: 22.9221709\ttotal: 704ms\tremaining: 3.51s\n",
      "167:\tlearn: 22.9134168\ttotal: 709ms\tremaining: 3.51s\n",
      "168:\tlearn: 22.9086958\ttotal: 714ms\tremaining: 3.51s\n",
      "169:\tlearn: 22.9038064\ttotal: 718ms\tremaining: 3.5s\n",
      "170:\tlearn: 22.8930148\ttotal: 722ms\tremaining: 3.5s\n",
      "171:\tlearn: 22.8821814\ttotal: 727ms\tremaining: 3.5s\n",
      "172:\tlearn: 22.8753799\ttotal: 731ms\tremaining: 3.49s\n",
      "173:\tlearn: 22.8687582\ttotal: 736ms\tremaining: 3.49s\n",
      "174:\tlearn: 22.8633066\ttotal: 740ms\tremaining: 3.49s\n",
      "175:\tlearn: 22.8543461\ttotal: 745ms\tremaining: 3.48s\n",
      "176:\tlearn: 22.8480312\ttotal: 749ms\tremaining: 3.48s\n",
      "177:\tlearn: 22.8389044\ttotal: 753ms\tremaining: 3.48s\n",
      "178:\tlearn: 22.8287924\ttotal: 758ms\tremaining: 3.47s\n",
      "179:\tlearn: 22.8247608\ttotal: 762ms\tremaining: 3.47s\n",
      "180:\tlearn: 22.8178318\ttotal: 767ms\tremaining: 3.47s\n",
      "181:\tlearn: 22.8061027\ttotal: 773ms\tremaining: 3.47s\n",
      "182:\tlearn: 22.7982232\ttotal: 778ms\tremaining: 3.47s\n",
      "183:\tlearn: 22.7910582\ttotal: 782ms\tremaining: 3.47s\n",
      "184:\tlearn: 22.7852057\ttotal: 787ms\tremaining: 3.47s\n",
      "185:\tlearn: 22.7792044\ttotal: 791ms\tremaining: 3.46s\n",
      "186:\tlearn: 22.7669252\ttotal: 796ms\tremaining: 3.46s\n",
      "187:\tlearn: 22.7592041\ttotal: 801ms\tremaining: 3.46s\n",
      "188:\tlearn: 22.7544005\ttotal: 805ms\tremaining: 3.45s\n",
      "189:\tlearn: 22.7421074\ttotal: 810ms\tremaining: 3.45s\n",
      "190:\tlearn: 22.7362683\ttotal: 814ms\tremaining: 3.45s\n",
      "191:\tlearn: 22.7287075\ttotal: 819ms\tremaining: 3.45s\n",
      "192:\tlearn: 22.7205700\ttotal: 824ms\tremaining: 3.44s\n",
      "193:\tlearn: 22.7125480\ttotal: 828ms\tremaining: 3.44s\n",
      "194:\tlearn: 22.7031008\ttotal: 833ms\tremaining: 3.44s\n",
      "195:\tlearn: 22.6953916\ttotal: 837ms\tremaining: 3.43s\n",
      "196:\tlearn: 22.6844698\ttotal: 842ms\tremaining: 3.43s\n",
      "197:\tlearn: 22.6765533\ttotal: 846ms\tremaining: 3.43s\n",
      "198:\tlearn: 22.6698227\ttotal: 851ms\tremaining: 3.42s\n",
      "199:\tlearn: 22.6622743\ttotal: 855ms\tremaining: 3.42s\n",
      "200:\tlearn: 22.6523181\ttotal: 860ms\tremaining: 3.42s\n",
      "201:\tlearn: 22.6472241\ttotal: 864ms\tremaining: 3.41s\n",
      "202:\tlearn: 22.6381447\ttotal: 869ms\tremaining: 3.41s\n",
      "203:\tlearn: 22.6323950\ttotal: 873ms\tremaining: 3.41s\n",
      "204:\tlearn: 22.6274479\ttotal: 878ms\tremaining: 3.4s\n",
      "205:\tlearn: 22.6223856\ttotal: 882ms\tremaining: 3.4s\n",
      "206:\tlearn: 22.6163684\ttotal: 888ms\tremaining: 3.4s\n",
      "207:\tlearn: 22.6108966\ttotal: 892ms\tremaining: 3.4s\n",
      "208:\tlearn: 22.6048134\ttotal: 897ms\tremaining: 3.39s\n",
      "209:\tlearn: 22.5986410\ttotal: 901ms\tremaining: 3.39s\n",
      "210:\tlearn: 22.5920686\ttotal: 906ms\tremaining: 3.39s\n",
      "211:\tlearn: 22.5788087\ttotal: 911ms\tremaining: 3.38s\n",
      "212:\tlearn: 22.5688503\ttotal: 915ms\tremaining: 3.38s\n",
      "213:\tlearn: 22.5602542\ttotal: 920ms\tremaining: 3.38s\n",
      "214:\tlearn: 22.5542409\ttotal: 925ms\tremaining: 3.38s\n",
      "215:\tlearn: 22.5443595\ttotal: 930ms\tremaining: 3.37s\n",
      "216:\tlearn: 22.5353855\ttotal: 935ms\tremaining: 3.37s\n",
      "217:\tlearn: 22.5301586\ttotal: 940ms\tremaining: 3.37s\n",
      "218:\tlearn: 22.5244642\ttotal: 945ms\tremaining: 3.37s\n",
      "219:\tlearn: 22.5180159\ttotal: 949ms\tremaining: 3.37s\n",
      "220:\tlearn: 22.5109105\ttotal: 956ms\tremaining: 3.37s\n",
      "221:\tlearn: 22.5048932\ttotal: 961ms\tremaining: 3.37s\n",
      "222:\tlearn: 22.4982992\ttotal: 966ms\tremaining: 3.37s\n",
      "223:\tlearn: 22.4872054\ttotal: 971ms\tremaining: 3.36s\n",
      "224:\tlearn: 22.4772442\ttotal: 977ms\tremaining: 3.37s\n",
      "225:\tlearn: 22.4715173\ttotal: 983ms\tremaining: 3.37s\n",
      "226:\tlearn: 22.4595654\ttotal: 988ms\tremaining: 3.36s\n",
      "227:\tlearn: 22.4513897\ttotal: 992ms\tremaining: 3.36s\n",
      "228:\tlearn: 22.4430234\ttotal: 997ms\tremaining: 3.36s\n",
      "229:\tlearn: 22.4385908\ttotal: 1s\tremaining: 3.35s\n",
      "230:\tlearn: 22.4265748\ttotal: 1.01s\tremaining: 3.35s\n",
      "231:\tlearn: 22.4220078\ttotal: 1.01s\tremaining: 3.35s\n",
      "232:\tlearn: 22.4184405\ttotal: 1.01s\tremaining: 3.34s\n",
      "233:\tlearn: 22.4078792\ttotal: 1.02s\tremaining: 3.34s\n",
      "234:\tlearn: 22.4024690\ttotal: 1.02s\tremaining: 3.34s\n",
      "235:\tlearn: 22.3938161\ttotal: 1.03s\tremaining: 3.33s\n",
      "236:\tlearn: 22.3892052\ttotal: 1.03s\tremaining: 3.33s\n",
      "237:\tlearn: 22.3814735\ttotal: 1.04s\tremaining: 3.33s\n",
      "238:\tlearn: 22.3764394\ttotal: 1.04s\tremaining: 3.32s\n",
      "239:\tlearn: 22.3678453\ttotal: 1.05s\tremaining: 3.32s\n",
      "240:\tlearn: 22.3636433\ttotal: 1.05s\tremaining: 3.31s\n",
      "241:\tlearn: 22.3587511\ttotal: 1.06s\tremaining: 3.31s\n",
      "242:\tlearn: 22.3496683\ttotal: 1.06s\tremaining: 3.31s\n",
      "243:\tlearn: 22.3401760\ttotal: 1.07s\tremaining: 3.31s\n",
      "244:\tlearn: 22.3368830\ttotal: 1.07s\tremaining: 3.3s\n",
      "245:\tlearn: 22.3282635\ttotal: 1.07s\tremaining: 3.3s\n",
      "246:\tlearn: 22.3177244\ttotal: 1.08s\tremaining: 3.29s\n",
      "247:\tlearn: 22.3079373\ttotal: 1.08s\tremaining: 3.29s\n",
      "248:\tlearn: 22.3016247\ttotal: 1.09s\tremaining: 3.29s\n",
      "249:\tlearn: 22.2922875\ttotal: 1.09s\tremaining: 3.28s\n",
      "250:\tlearn: 22.2857927\ttotal: 1.1s\tremaining: 3.28s\n",
      "251:\tlearn: 22.2805093\ttotal: 1.1s\tremaining: 3.27s\n",
      "252:\tlearn: 22.2725773\ttotal: 1.11s\tremaining: 3.27s\n",
      "253:\tlearn: 22.2690884\ttotal: 1.11s\tremaining: 3.27s\n",
      "254:\tlearn: 22.2646476\ttotal: 1.12s\tremaining: 3.26s\n",
      "255:\tlearn: 22.2593665\ttotal: 1.12s\tremaining: 3.26s\n",
      "256:\tlearn: 22.2530181\ttotal: 1.13s\tremaining: 3.26s\n",
      "257:\tlearn: 22.2496550\ttotal: 1.13s\tremaining: 3.25s\n",
      "258:\tlearn: 22.2430737\ttotal: 1.14s\tremaining: 3.25s\n",
      "259:\tlearn: 22.2331279\ttotal: 1.14s\tremaining: 3.24s\n",
      "260:\tlearn: 22.2240493\ttotal: 1.14s\tremaining: 3.24s\n",
      "261:\tlearn: 22.2167855\ttotal: 1.15s\tremaining: 3.24s\n",
      "262:\tlearn: 22.2046973\ttotal: 1.15s\tremaining: 3.23s\n",
      "263:\tlearn: 22.1985763\ttotal: 1.16s\tremaining: 3.23s\n",
      "264:\tlearn: 22.1914613\ttotal: 1.16s\tremaining: 3.23s\n",
      "265:\tlearn: 22.1842199\ttotal: 1.17s\tremaining: 3.22s\n",
      "266:\tlearn: 22.1798125\ttotal: 1.17s\tremaining: 3.22s\n",
      "267:\tlearn: 22.1684158\ttotal: 1.18s\tremaining: 3.21s\n",
      "268:\tlearn: 22.1637571\ttotal: 1.18s\tremaining: 3.21s\n",
      "269:\tlearn: 22.1579997\ttotal: 1.19s\tremaining: 3.21s\n",
      "270:\tlearn: 22.1500992\ttotal: 1.19s\tremaining: 3.2s\n",
      "271:\tlearn: 22.1427740\ttotal: 1.19s\tremaining: 3.2s\n",
      "272:\tlearn: 22.1390294\ttotal: 1.2s\tremaining: 3.19s\n",
      "273:\tlearn: 22.1336333\ttotal: 1.2s\tremaining: 3.19s\n",
      "274:\tlearn: 22.1261365\ttotal: 1.21s\tremaining: 3.18s\n",
      "275:\tlearn: 22.1195163\ttotal: 1.21s\tremaining: 3.18s\n",
      "276:\tlearn: 22.1143632\ttotal: 1.22s\tremaining: 3.17s\n",
      "277:\tlearn: 22.1060006\ttotal: 1.22s\tremaining: 3.17s\n",
      "278:\tlearn: 22.0950432\ttotal: 1.22s\tremaining: 3.16s\n",
      "279:\tlearn: 22.0909675\ttotal: 1.23s\tremaining: 3.16s\n",
      "280:\tlearn: 22.0834489\ttotal: 1.23s\tremaining: 3.16s\n",
      "281:\tlearn: 22.0792671\ttotal: 1.24s\tremaining: 3.15s\n",
      "282:\tlearn: 22.0760745\ttotal: 1.24s\tremaining: 3.15s\n",
      "283:\tlearn: 22.0646241\ttotal: 1.25s\tremaining: 3.15s\n",
      "284:\tlearn: 22.0542588\ttotal: 1.25s\tremaining: 3.15s\n",
      "285:\tlearn: 22.0500849\ttotal: 1.26s\tremaining: 3.14s\n",
      "286:\tlearn: 22.0442413\ttotal: 1.26s\tremaining: 3.14s\n",
      "287:\tlearn: 22.0400665\ttotal: 1.27s\tremaining: 3.13s\n",
      "288:\tlearn: 22.0342560\ttotal: 1.27s\tremaining: 3.13s\n",
      "289:\tlearn: 22.0305318\ttotal: 1.27s\tremaining: 3.12s\n",
      "290:\tlearn: 22.0231611\ttotal: 1.28s\tremaining: 3.12s\n",
      "291:\tlearn: 22.0171085\ttotal: 1.28s\tremaining: 3.11s\n",
      "292:\tlearn: 22.0143498\ttotal: 1.29s\tremaining: 3.11s\n",
      "293:\tlearn: 22.0024972\ttotal: 1.29s\tremaining: 3.1s\n",
      "294:\tlearn: 21.9977066\ttotal: 1.3s\tremaining: 3.1s\n",
      "295:\tlearn: 21.9923490\ttotal: 1.3s\tremaining: 3.1s\n",
      "296:\tlearn: 21.9889045\ttotal: 1.3s\tremaining: 3.09s\n",
      "297:\tlearn: 21.9832312\ttotal: 1.31s\tremaining: 3.09s\n",
      "298:\tlearn: 21.9790054\ttotal: 1.31s\tremaining: 3.08s\n",
      "299:\tlearn: 21.9743758\ttotal: 1.32s\tremaining: 3.08s\n",
      "300:\tlearn: 21.9653033\ttotal: 1.32s\tremaining: 3.07s\n",
      "301:\tlearn: 21.9601012\ttotal: 1.33s\tremaining: 3.07s\n",
      "302:\tlearn: 21.9541184\ttotal: 1.33s\tremaining: 3.07s\n",
      "303:\tlearn: 21.9491265\ttotal: 1.34s\tremaining: 3.06s\n",
      "304:\tlearn: 21.9450278\ttotal: 1.34s\tremaining: 3.06s\n",
      "305:\tlearn: 21.9396201\ttotal: 1.35s\tremaining: 3.06s\n",
      "306:\tlearn: 21.9320930\ttotal: 1.35s\tremaining: 3.05s\n",
      "307:\tlearn: 21.9274667\ttotal: 1.36s\tremaining: 3.05s\n",
      "308:\tlearn: 21.9212604\ttotal: 1.36s\tremaining: 3.04s\n",
      "309:\tlearn: 21.9117227\ttotal: 1.36s\tremaining: 3.04s\n",
      "310:\tlearn: 21.9081625\ttotal: 1.37s\tremaining: 3.03s\n",
      "311:\tlearn: 21.8990012\ttotal: 1.37s\tremaining: 3.03s\n",
      "312:\tlearn: 21.8903073\ttotal: 1.38s\tremaining: 3.02s\n",
      "313:\tlearn: 21.8812762\ttotal: 1.38s\tremaining: 3.02s\n",
      "314:\tlearn: 21.8780769\ttotal: 1.39s\tremaining: 3.01s\n",
      "315:\tlearn: 21.8755272\ttotal: 1.39s\tremaining: 3.01s\n",
      "316:\tlearn: 21.8722140\ttotal: 1.39s\tremaining: 3s\n",
      "317:\tlearn: 21.8665839\ttotal: 1.4s\tremaining: 3s\n",
      "318:\tlearn: 21.8599221\ttotal: 1.4s\tremaining: 2.99s\n",
      "319:\tlearn: 21.8523459\ttotal: 1.41s\tremaining: 2.99s\n",
      "320:\tlearn: 21.8460308\ttotal: 1.41s\tremaining: 2.98s\n",
      "321:\tlearn: 21.8431652\ttotal: 1.42s\tremaining: 2.98s\n",
      "322:\tlearn: 21.8346342\ttotal: 1.42s\tremaining: 2.98s\n",
      "323:\tlearn: 21.8286715\ttotal: 1.42s\tremaining: 2.97s\n",
      "324:\tlearn: 21.8194831\ttotal: 1.43s\tremaining: 2.97s\n",
      "325:\tlearn: 21.8139197\ttotal: 1.43s\tremaining: 2.96s\n",
      "326:\tlearn: 21.8096647\ttotal: 1.44s\tremaining: 2.96s\n",
      "327:\tlearn: 21.7990672\ttotal: 1.44s\tremaining: 2.96s\n",
      "328:\tlearn: 21.7962383\ttotal: 1.45s\tremaining: 2.96s\n",
      "329:\tlearn: 21.7913652\ttotal: 1.45s\tremaining: 2.95s\n",
      "330:\tlearn: 21.7840915\ttotal: 1.46s\tremaining: 2.94s\n",
      "331:\tlearn: 21.7787827\ttotal: 1.46s\tremaining: 2.94s\n",
      "332:\tlearn: 21.7726250\ttotal: 1.47s\tremaining: 2.94s\n",
      "333:\tlearn: 21.7640406\ttotal: 1.47s\tremaining: 2.93s\n",
      "334:\tlearn: 21.7600180\ttotal: 1.48s\tremaining: 2.93s\n",
      "335:\tlearn: 21.7540506\ttotal: 1.48s\tremaining: 2.93s\n",
      "336:\tlearn: 21.7511038\ttotal: 1.49s\tremaining: 2.92s\n",
      "337:\tlearn: 21.7477149\ttotal: 1.49s\tremaining: 2.92s\n",
      "338:\tlearn: 21.7444204\ttotal: 1.5s\tremaining: 2.92s\n",
      "339:\tlearn: 21.7411655\ttotal: 1.5s\tremaining: 2.91s\n",
      "340:\tlearn: 21.7373487\ttotal: 1.5s\tremaining: 2.91s\n",
      "341:\tlearn: 21.7340513\ttotal: 1.51s\tremaining: 2.9s\n",
      "342:\tlearn: 21.7276769\ttotal: 1.51s\tremaining: 2.9s\n",
      "343:\tlearn: 21.7173377\ttotal: 1.52s\tremaining: 2.89s\n",
      "344:\tlearn: 21.7101459\ttotal: 1.52s\tremaining: 2.89s\n",
      "345:\tlearn: 21.7044614\ttotal: 1.53s\tremaining: 2.88s\n",
      "346:\tlearn: 21.6921203\ttotal: 1.53s\tremaining: 2.88s\n",
      "347:\tlearn: 21.6857454\ttotal: 1.53s\tremaining: 2.88s\n",
      "348:\tlearn: 21.6805614\ttotal: 1.54s\tremaining: 2.87s\n",
      "349:\tlearn: 21.6755927\ttotal: 1.54s\tremaining: 2.87s\n",
      "350:\tlearn: 21.6630305\ttotal: 1.55s\tremaining: 2.86s\n",
      "351:\tlearn: 21.6564013\ttotal: 1.55s\tremaining: 2.86s\n",
      "352:\tlearn: 21.6522287\ttotal: 1.56s\tremaining: 2.85s\n",
      "353:\tlearn: 21.6463919\ttotal: 1.56s\tremaining: 2.85s\n",
      "354:\tlearn: 21.6410050\ttotal: 1.56s\tremaining: 2.84s\n",
      "355:\tlearn: 21.6364939\ttotal: 1.57s\tremaining: 2.84s\n",
      "356:\tlearn: 21.6315783\ttotal: 1.57s\tremaining: 2.83s\n",
      "357:\tlearn: 21.6224028\ttotal: 1.58s\tremaining: 2.83s\n",
      "358:\tlearn: 21.6184957\ttotal: 1.58s\tremaining: 2.83s\n",
      "359:\tlearn: 21.6132501\ttotal: 1.59s\tremaining: 2.82s\n",
      "360:\tlearn: 21.6051698\ttotal: 1.59s\tremaining: 2.82s\n",
      "361:\tlearn: 21.5995671\ttotal: 1.6s\tremaining: 2.81s\n",
      "362:\tlearn: 21.5935678\ttotal: 1.6s\tremaining: 2.81s\n",
      "363:\tlearn: 21.5907474\ttotal: 1.6s\tremaining: 2.81s\n",
      "364:\tlearn: 21.5858103\ttotal: 1.61s\tremaining: 2.8s\n",
      "365:\tlearn: 21.5765729\ttotal: 1.61s\tremaining: 2.8s\n",
      "366:\tlearn: 21.5741864\ttotal: 1.62s\tremaining: 2.79s\n",
      "367:\tlearn: 21.5716420\ttotal: 1.62s\tremaining: 2.79s\n",
      "368:\tlearn: 21.5661522\ttotal: 1.63s\tremaining: 2.78s\n",
      "369:\tlearn: 21.5595246\ttotal: 1.63s\tremaining: 2.78s\n",
      "370:\tlearn: 21.5506380\ttotal: 1.64s\tremaining: 2.77s\n",
      "371:\tlearn: 21.5431106\ttotal: 1.64s\tremaining: 2.77s\n",
      "372:\tlearn: 21.5338017\ttotal: 1.65s\tremaining: 2.77s\n",
      "373:\tlearn: 21.5311997\ttotal: 1.65s\tremaining: 2.76s\n",
      "374:\tlearn: 21.5258179\ttotal: 1.66s\tremaining: 2.76s\n",
      "375:\tlearn: 21.5175197\ttotal: 1.66s\tremaining: 2.75s\n",
      "376:\tlearn: 21.5138658\ttotal: 1.66s\tremaining: 2.75s\n",
      "377:\tlearn: 21.5110374\ttotal: 1.67s\tremaining: 2.75s\n",
      "378:\tlearn: 21.5067505\ttotal: 1.67s\tremaining: 2.74s\n",
      "379:\tlearn: 21.4987000\ttotal: 1.68s\tremaining: 2.74s\n",
      "380:\tlearn: 21.4873978\ttotal: 1.68s\tremaining: 2.73s\n",
      "381:\tlearn: 21.4806342\ttotal: 1.69s\tremaining: 2.73s\n",
      "382:\tlearn: 21.4710347\ttotal: 1.69s\tremaining: 2.73s\n",
      "383:\tlearn: 21.4680415\ttotal: 1.7s\tremaining: 2.72s\n",
      "384:\tlearn: 21.4596360\ttotal: 1.7s\tremaining: 2.71s\n",
      "385:\tlearn: 21.4493076\ttotal: 1.7s\tremaining: 2.71s\n",
      "386:\tlearn: 21.4465963\ttotal: 1.71s\tremaining: 2.71s\n",
      "387:\tlearn: 21.4394910\ttotal: 1.71s\tremaining: 2.7s\n",
      "388:\tlearn: 21.4323623\ttotal: 1.72s\tremaining: 2.7s\n",
      "389:\tlearn: 21.4234360\ttotal: 1.72s\tremaining: 2.69s\n",
      "390:\tlearn: 21.4168099\ttotal: 1.73s\tremaining: 2.69s\n",
      "391:\tlearn: 21.4088487\ttotal: 1.73s\tremaining: 2.69s\n",
      "392:\tlearn: 21.4046753\ttotal: 1.74s\tremaining: 2.68s\n",
      "393:\tlearn: 21.3969928\ttotal: 1.74s\tremaining: 2.68s\n",
      "394:\tlearn: 21.3949647\ttotal: 1.75s\tremaining: 2.67s\n",
      "395:\tlearn: 21.3885427\ttotal: 1.75s\tremaining: 2.67s\n",
      "396:\tlearn: 21.3822133\ttotal: 1.75s\tremaining: 2.67s\n",
      "397:\tlearn: 21.3764450\ttotal: 1.76s\tremaining: 2.66s\n",
      "398:\tlearn: 21.3674004\ttotal: 1.76s\tremaining: 2.66s\n",
      "399:\tlearn: 21.3591386\ttotal: 1.77s\tremaining: 2.65s\n",
      "400:\tlearn: 21.3494422\ttotal: 1.77s\tremaining: 2.65s\n",
      "401:\tlearn: 21.3413782\ttotal: 1.78s\tremaining: 2.65s\n",
      "402:\tlearn: 21.3360218\ttotal: 1.79s\tremaining: 2.65s\n",
      "403:\tlearn: 21.3314422\ttotal: 1.79s\tremaining: 2.64s\n",
      "404:\tlearn: 21.3214551\ttotal: 1.8s\tremaining: 2.64s\n",
      "405:\tlearn: 21.3166759\ttotal: 1.8s\tremaining: 2.64s\n",
      "406:\tlearn: 21.3097319\ttotal: 1.81s\tremaining: 2.63s\n",
      "407:\tlearn: 21.3047304\ttotal: 1.81s\tremaining: 2.63s\n",
      "408:\tlearn: 21.2959731\ttotal: 1.82s\tremaining: 2.63s\n",
      "409:\tlearn: 21.2880919\ttotal: 1.82s\tremaining: 2.62s\n",
      "410:\tlearn: 21.2848651\ttotal: 1.83s\tremaining: 2.62s\n",
      "411:\tlearn: 21.2772606\ttotal: 1.83s\tremaining: 2.62s\n",
      "412:\tlearn: 21.2703962\ttotal: 1.84s\tremaining: 2.62s\n",
      "413:\tlearn: 21.2611726\ttotal: 1.85s\tremaining: 2.61s\n",
      "414:\tlearn: 21.2592365\ttotal: 1.85s\tremaining: 2.61s\n",
      "415:\tlearn: 21.2512881\ttotal: 1.86s\tremaining: 2.61s\n",
      "416:\tlearn: 21.2469679\ttotal: 1.86s\tremaining: 2.6s\n",
      "417:\tlearn: 21.2385390\ttotal: 1.87s\tremaining: 2.6s\n",
      "418:\tlearn: 21.2304044\ttotal: 1.87s\tremaining: 2.6s\n",
      "419:\tlearn: 21.2253078\ttotal: 1.88s\tremaining: 2.6s\n",
      "420:\tlearn: 21.2199332\ttotal: 1.89s\tremaining: 2.6s\n",
      "421:\tlearn: 21.2114414\ttotal: 1.89s\tremaining: 2.59s\n",
      "422:\tlearn: 21.2059465\ttotal: 1.9s\tremaining: 2.59s\n",
      "423:\tlearn: 21.1972501\ttotal: 1.9s\tremaining: 2.59s\n",
      "424:\tlearn: 21.1930375\ttotal: 1.91s\tremaining: 2.58s\n",
      "425:\tlearn: 21.1872209\ttotal: 1.91s\tremaining: 2.58s\n",
      "426:\tlearn: 21.1786498\ttotal: 1.92s\tremaining: 2.58s\n",
      "427:\tlearn: 21.1751285\ttotal: 1.92s\tremaining: 2.57s\n",
      "428:\tlearn: 21.1627589\ttotal: 1.93s\tremaining: 2.57s\n",
      "429:\tlearn: 21.1568685\ttotal: 1.93s\tremaining: 2.56s\n",
      "430:\tlearn: 21.1510346\ttotal: 1.94s\tremaining: 2.56s\n",
      "431:\tlearn: 21.1451104\ttotal: 1.94s\tremaining: 2.56s\n",
      "432:\tlearn: 21.1391690\ttotal: 1.95s\tremaining: 2.55s\n",
      "433:\tlearn: 21.1310848\ttotal: 1.95s\tremaining: 2.55s\n",
      "434:\tlearn: 21.1243104\ttotal: 1.96s\tremaining: 2.54s\n",
      "435:\tlearn: 21.1195728\ttotal: 1.96s\tremaining: 2.54s\n",
      "436:\tlearn: 21.1129194\ttotal: 1.97s\tremaining: 2.54s\n",
      "437:\tlearn: 21.1107417\ttotal: 1.97s\tremaining: 2.53s\n",
      "438:\tlearn: 21.1068749\ttotal: 1.98s\tremaining: 2.53s\n",
      "439:\tlearn: 21.1029038\ttotal: 1.98s\tremaining: 2.52s\n",
      "440:\tlearn: 21.0913024\ttotal: 1.99s\tremaining: 2.52s\n",
      "441:\tlearn: 21.0868954\ttotal: 1.99s\tremaining: 2.51s\n",
      "442:\tlearn: 21.0804387\ttotal: 2s\tremaining: 2.51s\n",
      "443:\tlearn: 21.0761768\ttotal: 2s\tremaining: 2.5s\n",
      "444:\tlearn: 21.0699859\ttotal: 2s\tremaining: 2.5s\n",
      "445:\tlearn: 21.0635127\ttotal: 2.01s\tremaining: 2.5s\n",
      "446:\tlearn: 21.0567879\ttotal: 2.02s\tremaining: 2.5s\n",
      "447:\tlearn: 21.0526124\ttotal: 2.02s\tremaining: 2.49s\n",
      "448:\tlearn: 21.0478059\ttotal: 2.03s\tremaining: 2.49s\n",
      "449:\tlearn: 21.0445517\ttotal: 2.04s\tremaining: 2.49s\n",
      "450:\tlearn: 21.0384303\ttotal: 2.04s\tremaining: 2.48s\n",
      "451:\tlearn: 21.0305688\ttotal: 2.04s\tremaining: 2.48s\n",
      "452:\tlearn: 21.0232976\ttotal: 2.05s\tremaining: 2.47s\n",
      "453:\tlearn: 21.0181579\ttotal: 2.05s\tremaining: 2.47s\n",
      "454:\tlearn: 21.0090981\ttotal: 2.06s\tremaining: 2.47s\n",
      "455:\tlearn: 21.0034715\ttotal: 2.06s\tremaining: 2.46s\n",
      "456:\tlearn: 20.9936596\ttotal: 2.07s\tremaining: 2.46s\n",
      "457:\tlearn: 20.9887877\ttotal: 2.07s\tremaining: 2.45s\n",
      "458:\tlearn: 20.9841538\ttotal: 2.08s\tremaining: 2.45s\n",
      "459:\tlearn: 20.9800158\ttotal: 2.08s\tremaining: 2.44s\n",
      "460:\tlearn: 20.9738946\ttotal: 2.08s\tremaining: 2.44s\n",
      "461:\tlearn: 20.9702703\ttotal: 2.09s\tremaining: 2.43s\n",
      "462:\tlearn: 20.9639282\ttotal: 2.09s\tremaining: 2.43s\n",
      "463:\tlearn: 20.9591568\ttotal: 2.1s\tremaining: 2.42s\n",
      "464:\tlearn: 20.9544076\ttotal: 2.1s\tremaining: 2.42s\n",
      "465:\tlearn: 20.9498283\ttotal: 2.11s\tremaining: 2.42s\n",
      "466:\tlearn: 20.9458640\ttotal: 2.11s\tremaining: 2.41s\n",
      "467:\tlearn: 20.9362227\ttotal: 2.12s\tremaining: 2.41s\n",
      "468:\tlearn: 20.9298959\ttotal: 2.12s\tremaining: 2.4s\n",
      "469:\tlearn: 20.9257873\ttotal: 2.13s\tremaining: 2.4s\n",
      "470:\tlearn: 20.9192787\ttotal: 2.13s\tremaining: 2.39s\n",
      "471:\tlearn: 20.9123840\ttotal: 2.13s\tremaining: 2.39s\n",
      "472:\tlearn: 20.9069211\ttotal: 2.14s\tremaining: 2.38s\n",
      "473:\tlearn: 20.9019156\ttotal: 2.15s\tremaining: 2.38s\n",
      "474:\tlearn: 20.8939823\ttotal: 2.15s\tremaining: 2.38s\n",
      "475:\tlearn: 20.8870950\ttotal: 2.15s\tremaining: 2.37s\n",
      "476:\tlearn: 20.8787021\ttotal: 2.16s\tremaining: 2.37s\n",
      "477:\tlearn: 20.8737379\ttotal: 2.16s\tremaining: 2.36s\n",
      "478:\tlearn: 20.8668599\ttotal: 2.17s\tremaining: 2.36s\n",
      "479:\tlearn: 20.8615913\ttotal: 2.17s\tremaining: 2.35s\n",
      "480:\tlearn: 20.8567985\ttotal: 2.18s\tremaining: 2.35s\n",
      "481:\tlearn: 20.8524822\ttotal: 2.18s\tremaining: 2.35s\n",
      "482:\tlearn: 20.8435950\ttotal: 2.19s\tremaining: 2.34s\n",
      "483:\tlearn: 20.8358281\ttotal: 2.19s\tremaining: 2.34s\n",
      "484:\tlearn: 20.8298429\ttotal: 2.2s\tremaining: 2.33s\n",
      "485:\tlearn: 20.8296968\ttotal: 2.2s\tremaining: 2.33s\n",
      "486:\tlearn: 20.8205506\ttotal: 2.21s\tremaining: 2.32s\n",
      "487:\tlearn: 20.8178129\ttotal: 2.21s\tremaining: 2.32s\n",
      "488:\tlearn: 20.8100056\ttotal: 2.21s\tremaining: 2.31s\n",
      "489:\tlearn: 20.8026722\ttotal: 2.22s\tremaining: 2.31s\n",
      "490:\tlearn: 20.7965396\ttotal: 2.22s\tremaining: 2.3s\n",
      "491:\tlearn: 20.7917398\ttotal: 2.23s\tremaining: 2.3s\n",
      "492:\tlearn: 20.7882552\ttotal: 2.23s\tremaining: 2.29s\n",
      "493:\tlearn: 20.7848284\ttotal: 2.24s\tremaining: 2.29s\n",
      "494:\tlearn: 20.7764625\ttotal: 2.24s\tremaining: 2.29s\n",
      "495:\tlearn: 20.7714714\ttotal: 2.24s\tremaining: 2.28s\n",
      "496:\tlearn: 20.7651441\ttotal: 2.25s\tremaining: 2.28s\n",
      "497:\tlearn: 20.7598629\ttotal: 2.25s\tremaining: 2.27s\n",
      "498:\tlearn: 20.7530500\ttotal: 2.26s\tremaining: 2.27s\n",
      "499:\tlearn: 20.7489325\ttotal: 2.26s\tremaining: 2.26s\n",
      "500:\tlearn: 20.7425145\ttotal: 2.27s\tremaining: 2.26s\n",
      "501:\tlearn: 20.7397637\ttotal: 2.27s\tremaining: 2.25s\n",
      "502:\tlearn: 20.7375516\ttotal: 2.27s\tremaining: 2.25s\n",
      "503:\tlearn: 20.7298527\ttotal: 2.28s\tremaining: 2.24s\n",
      "504:\tlearn: 20.7229152\ttotal: 2.28s\tremaining: 2.24s\n",
      "505:\tlearn: 20.7170340\ttotal: 2.29s\tremaining: 2.23s\n",
      "506:\tlearn: 20.7112639\ttotal: 2.29s\tremaining: 2.23s\n",
      "507:\tlearn: 20.7037319\ttotal: 2.3s\tremaining: 2.23s\n",
      "508:\tlearn: 20.6989080\ttotal: 2.3s\tremaining: 2.22s\n",
      "509:\tlearn: 20.6876755\ttotal: 2.31s\tremaining: 2.22s\n",
      "510:\tlearn: 20.6839030\ttotal: 2.31s\tremaining: 2.21s\n",
      "511:\tlearn: 20.6837842\ttotal: 2.31s\tremaining: 2.21s\n",
      "512:\tlearn: 20.6787610\ttotal: 2.32s\tremaining: 2.2s\n",
      "513:\tlearn: 20.6681579\ttotal: 2.33s\tremaining: 2.2s\n",
      "514:\tlearn: 20.6648670\ttotal: 2.33s\tremaining: 2.19s\n",
      "515:\tlearn: 20.6574977\ttotal: 2.33s\tremaining: 2.19s\n",
      "516:\tlearn: 20.6516729\ttotal: 2.34s\tremaining: 2.19s\n",
      "517:\tlearn: 20.6467202\ttotal: 2.34s\tremaining: 2.18s\n",
      "518:\tlearn: 20.6399289\ttotal: 2.35s\tremaining: 2.18s\n",
      "519:\tlearn: 20.6335043\ttotal: 2.35s\tremaining: 2.17s\n",
      "520:\tlearn: 20.6246138\ttotal: 2.36s\tremaining: 2.17s\n",
      "521:\tlearn: 20.6176727\ttotal: 2.36s\tremaining: 2.16s\n",
      "522:\tlearn: 20.6114562\ttotal: 2.37s\tremaining: 2.16s\n",
      "523:\tlearn: 20.6056676\ttotal: 2.37s\tremaining: 2.15s\n",
      "524:\tlearn: 20.5991845\ttotal: 2.38s\tremaining: 2.15s\n",
      "525:\tlearn: 20.5921397\ttotal: 2.38s\tremaining: 2.15s\n",
      "526:\tlearn: 20.5864536\ttotal: 2.39s\tremaining: 2.14s\n",
      "527:\tlearn: 20.5840234\ttotal: 2.39s\tremaining: 2.14s\n",
      "528:\tlearn: 20.5793277\ttotal: 2.4s\tremaining: 2.13s\n",
      "529:\tlearn: 20.5703245\ttotal: 2.4s\tremaining: 2.13s\n",
      "530:\tlearn: 20.5676169\ttotal: 2.41s\tremaining: 2.13s\n",
      "531:\tlearn: 20.5599905\ttotal: 2.41s\tremaining: 2.12s\n",
      "532:\tlearn: 20.5536780\ttotal: 2.42s\tremaining: 2.12s\n",
      "533:\tlearn: 20.5496719\ttotal: 2.42s\tremaining: 2.11s\n",
      "534:\tlearn: 20.5392188\ttotal: 2.42s\tremaining: 2.11s\n",
      "535:\tlearn: 20.5341766\ttotal: 2.43s\tremaining: 2.1s\n",
      "536:\tlearn: 20.5278971\ttotal: 2.43s\tremaining: 2.1s\n",
      "537:\tlearn: 20.5216648\ttotal: 2.44s\tremaining: 2.09s\n",
      "538:\tlearn: 20.5158965\ttotal: 2.44s\tremaining: 2.09s\n",
      "539:\tlearn: 20.5153366\ttotal: 2.45s\tremaining: 2.08s\n",
      "540:\tlearn: 20.5071134\ttotal: 2.45s\tremaining: 2.08s\n",
      "541:\tlearn: 20.4999588\ttotal: 2.46s\tremaining: 2.08s\n",
      "542:\tlearn: 20.4909519\ttotal: 2.46s\tremaining: 2.07s\n",
      "543:\tlearn: 20.4870247\ttotal: 2.46s\tremaining: 2.06s\n",
      "544:\tlearn: 20.4802897\ttotal: 2.47s\tremaining: 2.06s\n",
      "545:\tlearn: 20.4798329\ttotal: 2.47s\tremaining: 2.06s\n",
      "546:\tlearn: 20.4744489\ttotal: 2.48s\tremaining: 2.05s\n",
      "547:\tlearn: 20.4722490\ttotal: 2.48s\tremaining: 2.05s\n",
      "548:\tlearn: 20.4679920\ttotal: 2.49s\tremaining: 2.04s\n",
      "549:\tlearn: 20.4621244\ttotal: 2.49s\tremaining: 2.04s\n",
      "550:\tlearn: 20.4594392\ttotal: 2.5s\tremaining: 2.03s\n",
      "551:\tlearn: 20.4554566\ttotal: 2.5s\tremaining: 2.03s\n",
      "552:\tlearn: 20.4508498\ttotal: 2.5s\tremaining: 2.02s\n",
      "553:\tlearn: 20.4466472\ttotal: 2.51s\tremaining: 2.02s\n",
      "554:\tlearn: 20.4406409\ttotal: 2.51s\tremaining: 2.02s\n",
      "555:\tlearn: 20.4335516\ttotal: 2.52s\tremaining: 2.01s\n",
      "556:\tlearn: 20.4248274\ttotal: 2.52s\tremaining: 2.01s\n",
      "557:\tlearn: 20.4192135\ttotal: 2.53s\tremaining: 2s\n",
      "558:\tlearn: 20.4135121\ttotal: 2.53s\tremaining: 2s\n",
      "559:\tlearn: 20.4089931\ttotal: 2.54s\tremaining: 1.99s\n",
      "560:\tlearn: 20.4044230\ttotal: 2.54s\tremaining: 1.99s\n",
      "561:\tlearn: 20.3951698\ttotal: 2.54s\tremaining: 1.98s\n",
      "562:\tlearn: 20.3871748\ttotal: 2.55s\tremaining: 1.98s\n",
      "563:\tlearn: 20.3820918\ttotal: 2.56s\tremaining: 1.98s\n",
      "564:\tlearn: 20.3770381\ttotal: 2.56s\tremaining: 1.97s\n",
      "565:\tlearn: 20.3721057\ttotal: 2.56s\tremaining: 1.97s\n",
      "566:\tlearn: 20.3653792\ttotal: 2.57s\tremaining: 1.96s\n",
      "567:\tlearn: 20.3593648\ttotal: 2.58s\tremaining: 1.96s\n",
      "568:\tlearn: 20.3549312\ttotal: 2.58s\tremaining: 1.95s\n",
      "569:\tlearn: 20.3541755\ttotal: 2.58s\tremaining: 1.95s\n",
      "570:\tlearn: 20.3496813\ttotal: 2.59s\tremaining: 1.94s\n",
      "571:\tlearn: 20.3438105\ttotal: 2.59s\tremaining: 1.94s\n",
      "572:\tlearn: 20.3368265\ttotal: 2.6s\tremaining: 1.94s\n",
      "573:\tlearn: 20.3313789\ttotal: 2.6s\tremaining: 1.93s\n",
      "574:\tlearn: 20.3235029\ttotal: 2.61s\tremaining: 1.93s\n",
      "575:\tlearn: 20.3177663\ttotal: 2.61s\tremaining: 1.92s\n",
      "576:\tlearn: 20.3117102\ttotal: 2.61s\tremaining: 1.92s\n",
      "577:\tlearn: 20.3071962\ttotal: 2.62s\tremaining: 1.91s\n",
      "578:\tlearn: 20.3015889\ttotal: 2.62s\tremaining: 1.91s\n",
      "579:\tlearn: 20.2956347\ttotal: 2.63s\tremaining: 1.9s\n",
      "580:\tlearn: 20.2880305\ttotal: 2.63s\tremaining: 1.9s\n",
      "581:\tlearn: 20.2766923\ttotal: 2.64s\tremaining: 1.89s\n",
      "582:\tlearn: 20.2734802\ttotal: 2.64s\tremaining: 1.89s\n",
      "583:\tlearn: 20.2686014\ttotal: 2.65s\tremaining: 1.88s\n",
      "584:\tlearn: 20.2636539\ttotal: 2.65s\tremaining: 1.88s\n",
      "585:\tlearn: 20.2596428\ttotal: 2.65s\tremaining: 1.88s\n",
      "586:\tlearn: 20.2539173\ttotal: 2.66s\tremaining: 1.87s\n",
      "587:\tlearn: 20.2451102\ttotal: 2.66s\tremaining: 1.87s\n",
      "588:\tlearn: 20.2381872\ttotal: 2.67s\tremaining: 1.86s\n",
      "589:\tlearn: 20.2305387\ttotal: 2.67s\tremaining: 1.86s\n",
      "590:\tlearn: 20.2249911\ttotal: 2.68s\tremaining: 1.85s\n",
      "591:\tlearn: 20.2198520\ttotal: 2.68s\tremaining: 1.85s\n",
      "592:\tlearn: 20.2169423\ttotal: 2.69s\tremaining: 1.84s\n",
      "593:\tlearn: 20.2114642\ttotal: 2.69s\tremaining: 1.84s\n",
      "594:\tlearn: 20.2019907\ttotal: 2.7s\tremaining: 1.83s\n",
      "595:\tlearn: 20.1955285\ttotal: 2.7s\tremaining: 1.83s\n",
      "596:\tlearn: 20.1899578\ttotal: 2.71s\tremaining: 1.83s\n",
      "597:\tlearn: 20.1846989\ttotal: 2.71s\tremaining: 1.82s\n",
      "598:\tlearn: 20.1774718\ttotal: 2.71s\tremaining: 1.82s\n",
      "599:\tlearn: 20.1704948\ttotal: 2.72s\tremaining: 1.81s\n",
      "600:\tlearn: 20.1646500\ttotal: 2.73s\tremaining: 1.81s\n",
      "601:\tlearn: 20.1605035\ttotal: 2.73s\tremaining: 1.8s\n",
      "602:\tlearn: 20.1508044\ttotal: 2.73s\tremaining: 1.8s\n",
      "603:\tlearn: 20.1423363\ttotal: 2.74s\tremaining: 1.8s\n",
      "604:\tlearn: 20.1391009\ttotal: 2.74s\tremaining: 1.79s\n",
      "605:\tlearn: 20.1378875\ttotal: 2.75s\tremaining: 1.79s\n",
      "606:\tlearn: 20.1355256\ttotal: 2.75s\tremaining: 1.78s\n",
      "607:\tlearn: 20.1290856\ttotal: 2.76s\tremaining: 1.78s\n",
      "608:\tlearn: 20.1236111\ttotal: 2.76s\tremaining: 1.77s\n",
      "609:\tlearn: 20.1194105\ttotal: 2.77s\tremaining: 1.77s\n",
      "610:\tlearn: 20.1172263\ttotal: 2.77s\tremaining: 1.76s\n",
      "611:\tlearn: 20.1102192\ttotal: 2.78s\tremaining: 1.76s\n",
      "612:\tlearn: 20.1001260\ttotal: 2.78s\tremaining: 1.76s\n",
      "613:\tlearn: 20.0973857\ttotal: 2.79s\tremaining: 1.75s\n",
      "614:\tlearn: 20.0894296\ttotal: 2.79s\tremaining: 1.75s\n",
      "615:\tlearn: 20.0810598\ttotal: 2.8s\tremaining: 1.74s\n",
      "616:\tlearn: 20.0748996\ttotal: 2.8s\tremaining: 1.74s\n",
      "617:\tlearn: 20.0655191\ttotal: 2.81s\tremaining: 1.73s\n",
      "618:\tlearn: 20.0588082\ttotal: 2.81s\tremaining: 1.73s\n",
      "619:\tlearn: 20.0520198\ttotal: 2.81s\tremaining: 1.73s\n",
      "620:\tlearn: 20.0468321\ttotal: 2.82s\tremaining: 1.72s\n",
      "621:\tlearn: 20.0393520\ttotal: 2.82s\tremaining: 1.72s\n",
      "622:\tlearn: 20.0364567\ttotal: 2.83s\tremaining: 1.71s\n",
      "623:\tlearn: 20.0300266\ttotal: 2.83s\tremaining: 1.71s\n",
      "624:\tlearn: 20.0252491\ttotal: 2.84s\tremaining: 1.7s\n",
      "625:\tlearn: 20.0251241\ttotal: 2.84s\tremaining: 1.7s\n",
      "626:\tlearn: 20.0173356\ttotal: 2.85s\tremaining: 1.69s\n",
      "627:\tlearn: 20.0128504\ttotal: 2.85s\tremaining: 1.69s\n",
      "628:\tlearn: 20.0059131\ttotal: 2.86s\tremaining: 1.69s\n",
      "629:\tlearn: 20.0020662\ttotal: 2.86s\tremaining: 1.68s\n",
      "630:\tlearn: 19.9964643\ttotal: 2.87s\tremaining: 1.68s\n",
      "631:\tlearn: 19.9913383\ttotal: 2.87s\tremaining: 1.67s\n",
      "632:\tlearn: 19.9879075\ttotal: 2.88s\tremaining: 1.67s\n",
      "633:\tlearn: 19.9802261\ttotal: 2.88s\tremaining: 1.66s\n",
      "634:\tlearn: 19.9721238\ttotal: 2.89s\tremaining: 1.66s\n",
      "635:\tlearn: 19.9651340\ttotal: 2.89s\tremaining: 1.66s\n",
      "636:\tlearn: 19.9648049\ttotal: 2.9s\tremaining: 1.65s\n",
      "637:\tlearn: 19.9583668\ttotal: 2.9s\tremaining: 1.65s\n",
      "638:\tlearn: 19.9549034\ttotal: 2.91s\tremaining: 1.64s\n",
      "639:\tlearn: 19.9516313\ttotal: 2.91s\tremaining: 1.64s\n",
      "640:\tlearn: 19.9468880\ttotal: 2.92s\tremaining: 1.63s\n",
      "641:\tlearn: 19.9396871\ttotal: 2.92s\tremaining: 1.63s\n",
      "642:\tlearn: 19.9338029\ttotal: 2.93s\tremaining: 1.63s\n",
      "643:\tlearn: 19.9289569\ttotal: 2.93s\tremaining: 1.62s\n",
      "644:\tlearn: 19.9257428\ttotal: 2.94s\tremaining: 1.62s\n",
      "645:\tlearn: 19.9217335\ttotal: 2.94s\tremaining: 1.61s\n",
      "646:\tlearn: 19.9178133\ttotal: 2.95s\tremaining: 1.61s\n",
      "647:\tlearn: 19.9131217\ttotal: 2.95s\tremaining: 1.6s\n",
      "648:\tlearn: 19.9081374\ttotal: 2.96s\tremaining: 1.6s\n",
      "649:\tlearn: 19.9012236\ttotal: 2.96s\tremaining: 1.59s\n",
      "650:\tlearn: 19.8958482\ttotal: 2.96s\tremaining: 1.59s\n",
      "651:\tlearn: 19.8899569\ttotal: 2.97s\tremaining: 1.58s\n",
      "652:\tlearn: 19.8851300\ttotal: 2.97s\tremaining: 1.58s\n",
      "653:\tlearn: 19.8799008\ttotal: 2.98s\tremaining: 1.57s\n",
      "654:\tlearn: 19.8741621\ttotal: 2.98s\tremaining: 1.57s\n",
      "655:\tlearn: 19.8687212\ttotal: 2.98s\tremaining: 1.56s\n",
      "656:\tlearn: 19.8663100\ttotal: 2.99s\tremaining: 1.56s\n",
      "657:\tlearn: 19.8615035\ttotal: 2.99s\tremaining: 1.56s\n",
      "658:\tlearn: 19.8536783\ttotal: 3s\tremaining: 1.55s\n",
      "659:\tlearn: 19.8477745\ttotal: 3s\tremaining: 1.55s\n",
      "660:\tlearn: 19.8419418\ttotal: 3.01s\tremaining: 1.54s\n",
      "661:\tlearn: 19.8335405\ttotal: 3.01s\tremaining: 1.54s\n",
      "662:\tlearn: 19.8278877\ttotal: 3.02s\tremaining: 1.53s\n",
      "663:\tlearn: 19.8215417\ttotal: 3.02s\tremaining: 1.53s\n",
      "664:\tlearn: 19.8137384\ttotal: 3.02s\tremaining: 1.52s\n",
      "665:\tlearn: 19.8088880\ttotal: 3.03s\tremaining: 1.52s\n",
      "666:\tlearn: 19.8041687\ttotal: 3.03s\tremaining: 1.51s\n",
      "667:\tlearn: 19.7988281\ttotal: 3.04s\tremaining: 1.51s\n",
      "668:\tlearn: 19.7945356\ttotal: 3.04s\tremaining: 1.5s\n",
      "669:\tlearn: 19.7904662\ttotal: 3.05s\tremaining: 1.5s\n",
      "670:\tlearn: 19.7863133\ttotal: 3.05s\tremaining: 1.5s\n",
      "671:\tlearn: 19.7801982\ttotal: 3.06s\tremaining: 1.49s\n",
      "672:\tlearn: 19.7753179\ttotal: 3.06s\tremaining: 1.49s\n",
      "673:\tlearn: 19.7699193\ttotal: 3.06s\tremaining: 1.48s\n",
      "674:\tlearn: 19.7638450\ttotal: 3.07s\tremaining: 1.48s\n",
      "675:\tlearn: 19.7589315\ttotal: 3.07s\tremaining: 1.47s\n",
      "676:\tlearn: 19.7526174\ttotal: 3.08s\tremaining: 1.47s\n",
      "677:\tlearn: 19.7464617\ttotal: 3.08s\tremaining: 1.46s\n",
      "678:\tlearn: 19.7406468\ttotal: 3.09s\tremaining: 1.46s\n",
      "679:\tlearn: 19.7358435\ttotal: 3.09s\tremaining: 1.45s\n",
      "680:\tlearn: 19.7269819\ttotal: 3.1s\tremaining: 1.45s\n",
      "681:\tlearn: 19.7244360\ttotal: 3.1s\tremaining: 1.45s\n",
      "682:\tlearn: 19.7170270\ttotal: 3.1s\tremaining: 1.44s\n",
      "683:\tlearn: 19.7128005\ttotal: 3.11s\tremaining: 1.44s\n",
      "684:\tlearn: 19.7076928\ttotal: 3.12s\tremaining: 1.43s\n",
      "685:\tlearn: 19.7031188\ttotal: 3.12s\tremaining: 1.43s\n",
      "686:\tlearn: 19.6974157\ttotal: 3.12s\tremaining: 1.42s\n",
      "687:\tlearn: 19.6937292\ttotal: 3.13s\tremaining: 1.42s\n",
      "688:\tlearn: 19.6883767\ttotal: 3.13s\tremaining: 1.41s\n",
      "689:\tlearn: 19.6853416\ttotal: 3.14s\tremaining: 1.41s\n",
      "690:\tlearn: 19.6791933\ttotal: 3.14s\tremaining: 1.4s\n",
      "691:\tlearn: 19.6723860\ttotal: 3.14s\tremaining: 1.4s\n",
      "692:\tlearn: 19.6613296\ttotal: 3.15s\tremaining: 1.39s\n",
      "693:\tlearn: 19.6530076\ttotal: 3.15s\tremaining: 1.39s\n",
      "694:\tlearn: 19.6477614\ttotal: 3.16s\tremaining: 1.39s\n",
      "695:\tlearn: 19.6447529\ttotal: 3.16s\tremaining: 1.38s\n",
      "696:\tlearn: 19.6415928\ttotal: 3.17s\tremaining: 1.38s\n",
      "697:\tlearn: 19.6401446\ttotal: 3.17s\tremaining: 1.37s\n",
      "698:\tlearn: 19.6374377\ttotal: 3.17s\tremaining: 1.37s\n",
      "699:\tlearn: 19.6325975\ttotal: 3.18s\tremaining: 1.36s\n",
      "700:\tlearn: 19.6302128\ttotal: 3.18s\tremaining: 1.36s\n",
      "701:\tlearn: 19.6277490\ttotal: 3.19s\tremaining: 1.35s\n",
      "702:\tlearn: 19.6246250\ttotal: 3.19s\tremaining: 1.35s\n",
      "703:\tlearn: 19.6195075\ttotal: 3.19s\tremaining: 1.34s\n",
      "704:\tlearn: 19.6182286\ttotal: 3.2s\tremaining: 1.34s\n",
      "705:\tlearn: 19.6127487\ttotal: 3.2s\tremaining: 1.33s\n",
      "706:\tlearn: 19.6063550\ttotal: 3.21s\tremaining: 1.33s\n",
      "707:\tlearn: 19.5993384\ttotal: 3.21s\tremaining: 1.32s\n",
      "708:\tlearn: 19.5940391\ttotal: 3.22s\tremaining: 1.32s\n",
      "709:\tlearn: 19.5871399\ttotal: 3.22s\tremaining: 1.31s\n",
      "710:\tlearn: 19.5820003\ttotal: 3.23s\tremaining: 1.31s\n",
      "711:\tlearn: 19.5714210\ttotal: 3.23s\tremaining: 1.31s\n",
      "712:\tlearn: 19.5711339\ttotal: 3.23s\tremaining: 1.3s\n",
      "713:\tlearn: 19.5663827\ttotal: 3.24s\tremaining: 1.3s\n",
      "714:\tlearn: 19.5637455\ttotal: 3.24s\tremaining: 1.29s\n",
      "715:\tlearn: 19.5585288\ttotal: 3.25s\tremaining: 1.29s\n",
      "716:\tlearn: 19.5516140\ttotal: 3.25s\tremaining: 1.28s\n",
      "717:\tlearn: 19.5472688\ttotal: 3.26s\tremaining: 1.28s\n",
      "718:\tlearn: 19.5410065\ttotal: 3.26s\tremaining: 1.27s\n",
      "719:\tlearn: 19.5366899\ttotal: 3.27s\tremaining: 1.27s\n",
      "720:\tlearn: 19.5314587\ttotal: 3.27s\tremaining: 1.27s\n",
      "721:\tlearn: 19.5263250\ttotal: 3.28s\tremaining: 1.26s\n",
      "722:\tlearn: 19.5224446\ttotal: 3.28s\tremaining: 1.26s\n",
      "723:\tlearn: 19.5132949\ttotal: 3.29s\tremaining: 1.25s\n",
      "724:\tlearn: 19.5059407\ttotal: 3.29s\tremaining: 1.25s\n",
      "725:\tlearn: 19.5030346\ttotal: 3.29s\tremaining: 1.24s\n",
      "726:\tlearn: 19.4965979\ttotal: 3.3s\tremaining: 1.24s\n",
      "727:\tlearn: 19.4915510\ttotal: 3.31s\tremaining: 1.23s\n",
      "728:\tlearn: 19.4848037\ttotal: 3.31s\tremaining: 1.23s\n",
      "729:\tlearn: 19.4827177\ttotal: 3.31s\tremaining: 1.23s\n",
      "730:\tlearn: 19.4743513\ttotal: 3.32s\tremaining: 1.22s\n",
      "731:\tlearn: 19.4688509\ttotal: 3.32s\tremaining: 1.22s\n",
      "732:\tlearn: 19.4653642\ttotal: 3.33s\tremaining: 1.21s\n",
      "733:\tlearn: 19.4620333\ttotal: 3.33s\tremaining: 1.21s\n",
      "734:\tlearn: 19.4588968\ttotal: 3.34s\tremaining: 1.2s\n",
      "735:\tlearn: 19.4526842\ttotal: 3.34s\tremaining: 1.2s\n",
      "736:\tlearn: 19.4467265\ttotal: 3.35s\tremaining: 1.19s\n",
      "737:\tlearn: 19.4413264\ttotal: 3.35s\tremaining: 1.19s\n",
      "738:\tlearn: 19.4322048\ttotal: 3.35s\tremaining: 1.18s\n",
      "739:\tlearn: 19.4278711\ttotal: 3.36s\tremaining: 1.18s\n",
      "740:\tlearn: 19.4187964\ttotal: 3.36s\tremaining: 1.18s\n",
      "741:\tlearn: 19.4128796\ttotal: 3.37s\tremaining: 1.17s\n",
      "742:\tlearn: 19.4078379\ttotal: 3.37s\tremaining: 1.17s\n",
      "743:\tlearn: 19.4036133\ttotal: 3.38s\tremaining: 1.16s\n",
      "744:\tlearn: 19.3931774\ttotal: 3.38s\tremaining: 1.16s\n",
      "745:\tlearn: 19.3887082\ttotal: 3.39s\tremaining: 1.15s\n",
      "746:\tlearn: 19.3838167\ttotal: 3.39s\tremaining: 1.15s\n",
      "747:\tlearn: 19.3798042\ttotal: 3.4s\tremaining: 1.14s\n",
      "748:\tlearn: 19.3739578\ttotal: 3.4s\tremaining: 1.14s\n",
      "749:\tlearn: 19.3674263\ttotal: 3.4s\tremaining: 1.14s\n",
      "750:\tlearn: 19.3616861\ttotal: 3.41s\tremaining: 1.13s\n",
      "751:\tlearn: 19.3574504\ttotal: 3.41s\tremaining: 1.13s\n",
      "752:\tlearn: 19.3546861\ttotal: 3.42s\tremaining: 1.12s\n",
      "753:\tlearn: 19.3505398\ttotal: 3.42s\tremaining: 1.12s\n",
      "754:\tlearn: 19.3450581\ttotal: 3.43s\tremaining: 1.11s\n",
      "755:\tlearn: 19.3412827\ttotal: 3.43s\tremaining: 1.11s\n",
      "756:\tlearn: 19.3380639\ttotal: 3.44s\tremaining: 1.1s\n",
      "757:\tlearn: 19.3345365\ttotal: 3.44s\tremaining: 1.1s\n",
      "758:\tlearn: 19.3316755\ttotal: 3.45s\tremaining: 1.09s\n",
      "759:\tlearn: 19.3282417\ttotal: 3.45s\tremaining: 1.09s\n",
      "760:\tlearn: 19.3226485\ttotal: 3.46s\tremaining: 1.08s\n",
      "761:\tlearn: 19.3187536\ttotal: 3.46s\tremaining: 1.08s\n",
      "762:\tlearn: 19.3147912\ttotal: 3.46s\tremaining: 1.08s\n",
      "763:\tlearn: 19.3084673\ttotal: 3.47s\tremaining: 1.07s\n",
      "764:\tlearn: 19.3037011\ttotal: 3.48s\tremaining: 1.07s\n",
      "765:\tlearn: 19.2997304\ttotal: 3.48s\tremaining: 1.06s\n",
      "766:\tlearn: 19.2954802\ttotal: 3.48s\tremaining: 1.06s\n",
      "767:\tlearn: 19.2918819\ttotal: 3.49s\tremaining: 1.05s\n",
      "768:\tlearn: 19.2861301\ttotal: 3.49s\tremaining: 1.05s\n",
      "769:\tlearn: 19.2784446\ttotal: 3.5s\tremaining: 1.04s\n",
      "770:\tlearn: 19.2760950\ttotal: 3.5s\tremaining: 1.04s\n",
      "771:\tlearn: 19.2697232\ttotal: 3.5s\tremaining: 1.03s\n",
      "772:\tlearn: 19.2665154\ttotal: 3.51s\tremaining: 1.03s\n",
      "773:\tlearn: 19.2626355\ttotal: 3.51s\tremaining: 1.03s\n",
      "774:\tlearn: 19.2576804\ttotal: 3.52s\tremaining: 1.02s\n",
      "775:\tlearn: 19.2528702\ttotal: 3.52s\tremaining: 1.02s\n",
      "776:\tlearn: 19.2487031\ttotal: 3.53s\tremaining: 1.01s\n",
      "777:\tlearn: 19.2423405\ttotal: 3.53s\tremaining: 1.01s\n",
      "778:\tlearn: 19.2342172\ttotal: 3.54s\tremaining: 1s\n",
      "779:\tlearn: 19.2304286\ttotal: 3.54s\tremaining: 999ms\n",
      "780:\tlearn: 19.2257396\ttotal: 3.54s\tremaining: 994ms\n",
      "781:\tlearn: 19.2222816\ttotal: 3.55s\tremaining: 990ms\n",
      "782:\tlearn: 19.2173281\ttotal: 3.55s\tremaining: 985ms\n",
      "783:\tlearn: 19.2127460\ttotal: 3.56s\tremaining: 980ms\n",
      "784:\tlearn: 19.2080403\ttotal: 3.56s\tremaining: 976ms\n",
      "785:\tlearn: 19.2045226\ttotal: 3.57s\tremaining: 971ms\n",
      "786:\tlearn: 19.1968583\ttotal: 3.57s\tremaining: 967ms\n",
      "787:\tlearn: 19.1907530\ttotal: 3.58s\tremaining: 962ms\n",
      "788:\tlearn: 19.1893449\ttotal: 3.58s\tremaining: 957ms\n",
      "789:\tlearn: 19.1856760\ttotal: 3.58s\tremaining: 953ms\n",
      "790:\tlearn: 19.1789325\ttotal: 3.59s\tremaining: 948ms\n",
      "791:\tlearn: 19.1758747\ttotal: 3.59s\tremaining: 944ms\n",
      "792:\tlearn: 19.1669011\ttotal: 3.6s\tremaining: 939ms\n",
      "793:\tlearn: 19.1626350\ttotal: 3.6s\tremaining: 935ms\n",
      "794:\tlearn: 19.1557898\ttotal: 3.61s\tremaining: 930ms\n",
      "795:\tlearn: 19.1503066\ttotal: 3.61s\tremaining: 926ms\n",
      "796:\tlearn: 19.1457193\ttotal: 3.62s\tremaining: 921ms\n",
      "797:\tlearn: 19.1420176\ttotal: 3.62s\tremaining: 917ms\n",
      "798:\tlearn: 19.1388024\ttotal: 3.63s\tremaining: 912ms\n",
      "799:\tlearn: 19.1323542\ttotal: 3.63s\tremaining: 908ms\n",
      "800:\tlearn: 19.1287958\ttotal: 3.63s\tremaining: 903ms\n",
      "801:\tlearn: 19.1253191\ttotal: 3.64s\tremaining: 898ms\n",
      "802:\tlearn: 19.1231692\ttotal: 3.64s\tremaining: 894ms\n",
      "803:\tlearn: 19.1181857\ttotal: 3.65s\tremaining: 889ms\n",
      "804:\tlearn: 19.1133047\ttotal: 3.65s\tremaining: 885ms\n",
      "805:\tlearn: 19.1112304\ttotal: 3.66s\tremaining: 880ms\n",
      "806:\tlearn: 19.1046986\ttotal: 3.66s\tremaining: 876ms\n",
      "807:\tlearn: 19.0991761\ttotal: 3.67s\tremaining: 871ms\n",
      "808:\tlearn: 19.0949804\ttotal: 3.67s\tremaining: 867ms\n",
      "809:\tlearn: 19.0903894\ttotal: 3.67s\tremaining: 862ms\n",
      "810:\tlearn: 19.0824005\ttotal: 3.68s\tremaining: 857ms\n",
      "811:\tlearn: 19.0755931\ttotal: 3.68s\tremaining: 853ms\n",
      "812:\tlearn: 19.0701569\ttotal: 3.69s\tremaining: 848ms\n",
      "813:\tlearn: 19.0655245\ttotal: 3.69s\tremaining: 844ms\n",
      "814:\tlearn: 19.0604820\ttotal: 3.7s\tremaining: 839ms\n",
      "815:\tlearn: 19.0541963\ttotal: 3.7s\tremaining: 834ms\n",
      "816:\tlearn: 19.0505430\ttotal: 3.7s\tremaining: 830ms\n",
      "817:\tlearn: 19.0480253\ttotal: 3.71s\tremaining: 825ms\n",
      "818:\tlearn: 19.0457866\ttotal: 3.71s\tremaining: 821ms\n",
      "819:\tlearn: 19.0403106\ttotal: 3.72s\tremaining: 816ms\n",
      "820:\tlearn: 19.0376578\ttotal: 3.72s\tremaining: 811ms\n",
      "821:\tlearn: 19.0352977\ttotal: 3.73s\tremaining: 807ms\n",
      "822:\tlearn: 19.0294272\ttotal: 3.73s\tremaining: 802ms\n",
      "823:\tlearn: 19.0229313\ttotal: 3.73s\tremaining: 798ms\n",
      "824:\tlearn: 19.0192792\ttotal: 3.74s\tremaining: 793ms\n",
      "825:\tlearn: 19.0170354\ttotal: 3.74s\tremaining: 789ms\n",
      "826:\tlearn: 19.0111229\ttotal: 3.75s\tremaining: 784ms\n",
      "827:\tlearn: 19.0050750\ttotal: 3.75s\tremaining: 780ms\n",
      "828:\tlearn: 18.9983528\ttotal: 3.76s\tremaining: 775ms\n",
      "829:\tlearn: 18.9951784\ttotal: 3.76s\tremaining: 771ms\n",
      "830:\tlearn: 18.9911781\ttotal: 3.77s\tremaining: 766ms\n",
      "831:\tlearn: 18.9848260\ttotal: 3.77s\tremaining: 762ms\n",
      "832:\tlearn: 18.9805956\ttotal: 3.78s\tremaining: 757ms\n",
      "833:\tlearn: 18.9787175\ttotal: 3.78s\tremaining: 753ms\n",
      "834:\tlearn: 18.9732612\ttotal: 3.79s\tremaining: 748ms\n",
      "835:\tlearn: 18.9710379\ttotal: 3.79s\tremaining: 744ms\n",
      "836:\tlearn: 18.9662686\ttotal: 3.79s\tremaining: 739ms\n",
      "837:\tlearn: 18.9635447\ttotal: 3.8s\tremaining: 735ms\n",
      "838:\tlearn: 18.9576179\ttotal: 3.81s\tremaining: 730ms\n",
      "839:\tlearn: 18.9525341\ttotal: 3.81s\tremaining: 726ms\n",
      "840:\tlearn: 18.9454800\ttotal: 3.81s\tremaining: 721ms\n",
      "841:\tlearn: 18.9408221\ttotal: 3.82s\tremaining: 717ms\n",
      "842:\tlearn: 18.9333669\ttotal: 3.83s\tremaining: 712ms\n",
      "843:\tlearn: 18.9290034\ttotal: 3.83s\tremaining: 708ms\n",
      "844:\tlearn: 18.9255417\ttotal: 3.83s\tremaining: 703ms\n",
      "845:\tlearn: 18.9213179\ttotal: 3.84s\tremaining: 699ms\n",
      "846:\tlearn: 18.9139033\ttotal: 3.85s\tremaining: 695ms\n",
      "847:\tlearn: 18.9059929\ttotal: 3.85s\tremaining: 690ms\n",
      "848:\tlearn: 18.9008921\ttotal: 3.85s\tremaining: 685ms\n",
      "849:\tlearn: 18.8949787\ttotal: 3.86s\tremaining: 681ms\n",
      "850:\tlearn: 18.8923222\ttotal: 3.86s\tremaining: 676ms\n",
      "851:\tlearn: 18.8869131\ttotal: 3.87s\tremaining: 672ms\n",
      "852:\tlearn: 18.8803394\ttotal: 3.87s\tremaining: 667ms\n",
      "853:\tlearn: 18.8738574\ttotal: 3.88s\tremaining: 663ms\n",
      "854:\tlearn: 18.8690593\ttotal: 3.88s\tremaining: 658ms\n",
      "855:\tlearn: 18.8653140\ttotal: 3.88s\tremaining: 653ms\n",
      "856:\tlearn: 18.8598152\ttotal: 3.89s\tremaining: 649ms\n",
      "857:\tlearn: 18.8530023\ttotal: 3.89s\tremaining: 644ms\n",
      "858:\tlearn: 18.8484881\ttotal: 3.9s\tremaining: 640ms\n",
      "859:\tlearn: 18.8444899\ttotal: 3.9s\tremaining: 635ms\n",
      "860:\tlearn: 18.8418113\ttotal: 3.91s\tremaining: 631ms\n",
      "861:\tlearn: 18.8392110\ttotal: 3.91s\tremaining: 626ms\n",
      "862:\tlearn: 18.8350031\ttotal: 3.92s\tremaining: 622ms\n",
      "863:\tlearn: 18.8286332\ttotal: 3.92s\tremaining: 617ms\n",
      "864:\tlearn: 18.8235480\ttotal: 3.92s\tremaining: 613ms\n",
      "865:\tlearn: 18.8197469\ttotal: 3.93s\tremaining: 608ms\n",
      "866:\tlearn: 18.8168071\ttotal: 3.94s\tremaining: 604ms\n",
      "867:\tlearn: 18.8080452\ttotal: 3.94s\tremaining: 599ms\n",
      "868:\tlearn: 18.8030496\ttotal: 3.94s\tremaining: 595ms\n",
      "869:\tlearn: 18.7981297\ttotal: 3.95s\tremaining: 590ms\n",
      "870:\tlearn: 18.7932220\ttotal: 3.95s\tremaining: 586ms\n",
      "871:\tlearn: 18.7910409\ttotal: 3.96s\tremaining: 581ms\n",
      "872:\tlearn: 18.7880310\ttotal: 3.96s\tremaining: 577ms\n",
      "873:\tlearn: 18.7829578\ttotal: 3.97s\tremaining: 572ms\n",
      "874:\tlearn: 18.7775965\ttotal: 3.97s\tremaining: 568ms\n",
      "875:\tlearn: 18.7752603\ttotal: 3.98s\tremaining: 563ms\n",
      "876:\tlearn: 18.7707728\ttotal: 3.98s\tremaining: 558ms\n",
      "877:\tlearn: 18.7657523\ttotal: 3.99s\tremaining: 554ms\n",
      "878:\tlearn: 18.7607024\ttotal: 3.99s\tremaining: 549ms\n",
      "879:\tlearn: 18.7541587\ttotal: 4s\tremaining: 545ms\n",
      "880:\tlearn: 18.7490795\ttotal: 4s\tremaining: 540ms\n",
      "881:\tlearn: 18.7455386\ttotal: 4.01s\tremaining: 536ms\n",
      "882:\tlearn: 18.7394255\ttotal: 4.01s\tremaining: 531ms\n",
      "883:\tlearn: 18.7335163\ttotal: 4.01s\tremaining: 527ms\n",
      "884:\tlearn: 18.7295289\ttotal: 4.02s\tremaining: 522ms\n",
      "885:\tlearn: 18.7246496\ttotal: 4.03s\tremaining: 518ms\n",
      "886:\tlearn: 18.7191513\ttotal: 4.03s\tremaining: 514ms\n",
      "887:\tlearn: 18.7144951\ttotal: 4.04s\tremaining: 509ms\n",
      "888:\tlearn: 18.7117574\ttotal: 4.04s\tremaining: 504ms\n",
      "889:\tlearn: 18.7063496\ttotal: 4.04s\tremaining: 500ms\n",
      "890:\tlearn: 18.7024752\ttotal: 4.05s\tremaining: 495ms\n",
      "891:\tlearn: 18.6975694\ttotal: 4.05s\tremaining: 491ms\n",
      "892:\tlearn: 18.6936146\ttotal: 4.06s\tremaining: 486ms\n",
      "893:\tlearn: 18.6904135\ttotal: 4.06s\tremaining: 482ms\n",
      "894:\tlearn: 18.6860227\ttotal: 4.07s\tremaining: 477ms\n",
      "895:\tlearn: 18.6794204\ttotal: 4.07s\tremaining: 473ms\n",
      "896:\tlearn: 18.6749797\ttotal: 4.08s\tremaining: 468ms\n",
      "897:\tlearn: 18.6698835\ttotal: 4.08s\tremaining: 464ms\n",
      "898:\tlearn: 18.6644741\ttotal: 4.09s\tremaining: 459ms\n",
      "899:\tlearn: 18.6628775\ttotal: 4.09s\tremaining: 455ms\n",
      "900:\tlearn: 18.6584595\ttotal: 4.1s\tremaining: 450ms\n",
      "901:\tlearn: 18.6567552\ttotal: 4.1s\tremaining: 446ms\n",
      "902:\tlearn: 18.6529307\ttotal: 4.11s\tremaining: 441ms\n",
      "903:\tlearn: 18.6488794\ttotal: 4.11s\tremaining: 436ms\n",
      "904:\tlearn: 18.6454131\ttotal: 4.11s\tremaining: 432ms\n",
      "905:\tlearn: 18.6417655\ttotal: 4.12s\tremaining: 427ms\n",
      "906:\tlearn: 18.6355219\ttotal: 4.12s\tremaining: 423ms\n",
      "907:\tlearn: 18.6286560\ttotal: 4.13s\tremaining: 418ms\n",
      "908:\tlearn: 18.6238892\ttotal: 4.13s\tremaining: 414ms\n",
      "909:\tlearn: 18.6199514\ttotal: 4.14s\tremaining: 409ms\n",
      "910:\tlearn: 18.6146427\ttotal: 4.14s\tremaining: 405ms\n",
      "911:\tlearn: 18.6098956\ttotal: 4.15s\tremaining: 400ms\n",
      "912:\tlearn: 18.6067659\ttotal: 4.15s\tremaining: 396ms\n",
      "913:\tlearn: 18.5995160\ttotal: 4.16s\tremaining: 391ms\n",
      "914:\tlearn: 18.5969470\ttotal: 4.16s\tremaining: 387ms\n",
      "915:\tlearn: 18.5929705\ttotal: 4.17s\tremaining: 382ms\n",
      "916:\tlearn: 18.5928949\ttotal: 4.17s\tremaining: 377ms\n",
      "917:\tlearn: 18.5857555\ttotal: 4.17s\tremaining: 373ms\n",
      "918:\tlearn: 18.5828536\ttotal: 4.18s\tremaining: 368ms\n",
      "919:\tlearn: 18.5776497\ttotal: 4.19s\tremaining: 364ms\n",
      "920:\tlearn: 18.5741271\ttotal: 4.19s\tremaining: 360ms\n",
      "921:\tlearn: 18.5710591\ttotal: 4.2s\tremaining: 355ms\n",
      "922:\tlearn: 18.5655576\ttotal: 4.2s\tremaining: 350ms\n",
      "923:\tlearn: 18.5569204\ttotal: 4.2s\tremaining: 346ms\n",
      "924:\tlearn: 18.5497702\ttotal: 4.21s\tremaining: 341ms\n",
      "925:\tlearn: 18.5457731\ttotal: 4.21s\tremaining: 337ms\n",
      "926:\tlearn: 18.5407044\ttotal: 4.22s\tremaining: 332ms\n",
      "927:\tlearn: 18.5350866\ttotal: 4.22s\tremaining: 328ms\n",
      "928:\tlearn: 18.5338447\ttotal: 4.23s\tremaining: 323ms\n",
      "929:\tlearn: 18.5292462\ttotal: 4.23s\tremaining: 319ms\n",
      "930:\tlearn: 18.5263139\ttotal: 4.24s\tremaining: 314ms\n",
      "931:\tlearn: 18.5212748\ttotal: 4.24s\tremaining: 309ms\n",
      "932:\tlearn: 18.5180145\ttotal: 4.25s\tremaining: 305ms\n",
      "933:\tlearn: 18.5157293\ttotal: 4.25s\tremaining: 300ms\n",
      "934:\tlearn: 18.5095880\ttotal: 4.25s\tremaining: 296ms\n",
      "935:\tlearn: 18.5032478\ttotal: 4.26s\tremaining: 291ms\n",
      "936:\tlearn: 18.4975094\ttotal: 4.26s\tremaining: 287ms\n",
      "937:\tlearn: 18.4948100\ttotal: 4.27s\tremaining: 282ms\n",
      "938:\tlearn: 18.4947413\ttotal: 4.27s\tremaining: 278ms\n",
      "939:\tlearn: 18.4907524\ttotal: 4.28s\tremaining: 273ms\n",
      "940:\tlearn: 18.4855360\ttotal: 4.28s\tremaining: 269ms\n",
      "941:\tlearn: 18.4825574\ttotal: 4.29s\tremaining: 264ms\n",
      "942:\tlearn: 18.4775731\ttotal: 4.29s\tremaining: 259ms\n",
      "943:\tlearn: 18.4721385\ttotal: 4.3s\tremaining: 255ms\n",
      "944:\tlearn: 18.4680979\ttotal: 4.3s\tremaining: 250ms\n",
      "945:\tlearn: 18.4627083\ttotal: 4.31s\tremaining: 246ms\n",
      "946:\tlearn: 18.4585788\ttotal: 4.31s\tremaining: 241ms\n",
      "947:\tlearn: 18.4534416\ttotal: 4.32s\tremaining: 237ms\n",
      "948:\tlearn: 18.4483738\ttotal: 4.32s\tremaining: 232ms\n",
      "949:\tlearn: 18.4445053\ttotal: 4.33s\tremaining: 228ms\n",
      "950:\tlearn: 18.4418481\ttotal: 4.33s\tremaining: 223ms\n",
      "951:\tlearn: 18.4365582\ttotal: 4.33s\tremaining: 219ms\n",
      "952:\tlearn: 18.4325295\ttotal: 4.34s\tremaining: 214ms\n",
      "953:\tlearn: 18.4279081\ttotal: 4.34s\tremaining: 209ms\n",
      "954:\tlearn: 18.4258752\ttotal: 4.35s\tremaining: 205ms\n",
      "955:\tlearn: 18.4194402\ttotal: 4.35s\tremaining: 200ms\n",
      "956:\tlearn: 18.4163091\ttotal: 4.36s\tremaining: 196ms\n",
      "957:\tlearn: 18.4097711\ttotal: 4.36s\tremaining: 191ms\n",
      "958:\tlearn: 18.4046164\ttotal: 4.37s\tremaining: 187ms\n",
      "959:\tlearn: 18.3995608\ttotal: 4.37s\tremaining: 182ms\n",
      "960:\tlearn: 18.3972426\ttotal: 4.38s\tremaining: 178ms\n",
      "961:\tlearn: 18.3905292\ttotal: 4.38s\tremaining: 173ms\n",
      "962:\tlearn: 18.3850802\ttotal: 4.39s\tremaining: 169ms\n",
      "963:\tlearn: 18.3802425\ttotal: 4.39s\tremaining: 164ms\n",
      "964:\tlearn: 18.3756808\ttotal: 4.4s\tremaining: 160ms\n",
      "965:\tlearn: 18.3723545\ttotal: 4.4s\tremaining: 155ms\n",
      "966:\tlearn: 18.3685701\ttotal: 4.41s\tremaining: 150ms\n",
      "967:\tlearn: 18.3650917\ttotal: 4.41s\tremaining: 146ms\n",
      "968:\tlearn: 18.3605661\ttotal: 4.42s\tremaining: 141ms\n",
      "969:\tlearn: 18.3554920\ttotal: 4.42s\tremaining: 137ms\n",
      "970:\tlearn: 18.3502760\ttotal: 4.43s\tremaining: 132ms\n",
      "971:\tlearn: 18.3436027\ttotal: 4.43s\tremaining: 128ms\n",
      "972:\tlearn: 18.3400542\ttotal: 4.43s\tremaining: 123ms\n",
      "973:\tlearn: 18.3322933\ttotal: 4.44s\tremaining: 119ms\n",
      "974:\tlearn: 18.3286793\ttotal: 4.44s\tremaining: 114ms\n",
      "975:\tlearn: 18.3223859\ttotal: 4.45s\tremaining: 109ms\n",
      "976:\tlearn: 18.3180160\ttotal: 4.45s\tremaining: 105ms\n",
      "977:\tlearn: 18.3144710\ttotal: 4.46s\tremaining: 100ms\n",
      "978:\tlearn: 18.3072984\ttotal: 4.46s\tremaining: 95.7ms\n",
      "979:\tlearn: 18.3034815\ttotal: 4.47s\tremaining: 91.2ms\n",
      "980:\tlearn: 18.3008148\ttotal: 4.47s\tremaining: 86.6ms\n",
      "981:\tlearn: 18.2964450\ttotal: 4.48s\tremaining: 82.1ms\n",
      "982:\tlearn: 18.2921969\ttotal: 4.48s\tremaining: 77.5ms\n",
      "983:\tlearn: 18.2874965\ttotal: 4.49s\tremaining: 73ms\n",
      "984:\tlearn: 18.2831170\ttotal: 4.49s\tremaining: 68.4ms\n",
      "985:\tlearn: 18.2745813\ttotal: 4.5s\tremaining: 63.8ms\n",
      "986:\tlearn: 18.2695183\ttotal: 4.5s\tremaining: 59.3ms\n",
      "987:\tlearn: 18.2672575\ttotal: 4.5s\tremaining: 54.7ms\n",
      "988:\tlearn: 18.2635991\ttotal: 4.51s\tremaining: 50.2ms\n",
      "989:\tlearn: 18.2605562\ttotal: 4.51s\tremaining: 45.6ms\n",
      "990:\tlearn: 18.2538373\ttotal: 4.52s\tremaining: 41.1ms\n",
      "991:\tlearn: 18.2509075\ttotal: 4.53s\tremaining: 36.5ms\n",
      "992:\tlearn: 18.2446075\ttotal: 4.53s\tremaining: 31.9ms\n",
      "993:\tlearn: 18.2412902\ttotal: 4.54s\tremaining: 27.4ms\n",
      "994:\tlearn: 18.2371087\ttotal: 4.54s\tremaining: 22.8ms\n",
      "995:\tlearn: 18.2347945\ttotal: 4.54s\tremaining: 18.3ms\n",
      "996:\tlearn: 18.2297233\ttotal: 4.55s\tremaining: 13.7ms\n",
      "997:\tlearn: 18.2235841\ttotal: 4.55s\tremaining: 9.13ms\n",
      "998:\tlearn: 18.2209477\ttotal: 4.56s\tremaining: 4.56ms\n",
      "999:\tlearn: 18.2162079\ttotal: 4.56s\tremaining: 0us\n"
     ]
    },
    {
     "ename": "CatBoostError",
     "evalue": "Bad value for num_feature[non_default_doc_idx=0,feature_idx=25]=\"FD001\": Cannot convert 'b'FD001'' to float",
     "output_type": "error",
     "traceback": [
      "\u001b[1;31m---------------------------------------------------------------------------\u001b[0m",
      "\u001b[1;31mTypeError\u001b[0m                                 Traceback (most recent call last)",
      "File \u001b[1;32m_catboost.pyx:2286\u001b[0m, in \u001b[0;36m_catboost.get_float_feature\u001b[1;34m()\u001b[0m\n",
      "File \u001b[1;32m_catboost.pyx:1139\u001b[0m, in \u001b[0;36m_catboost._FloatOrNan\u001b[1;34m()\u001b[0m\n",
      "File \u001b[1;32m_catboost.pyx:951\u001b[0m, in \u001b[0;36m_catboost._FloatOrNanFromString\u001b[1;34m()\u001b[0m\n",
      "\u001b[1;31mTypeError\u001b[0m: Cannot convert 'b'FD001'' to float",
      "\nDuring handling of the above exception, another exception occurred:\n",
      "\u001b[1;31mCatBoostError\u001b[0m                             Traceback (most recent call last)",
      "Input \u001b[1;32mIn [43]\u001b[0m, in \u001b[0;36m<cell line: 4>\u001b[1;34m()\u001b[0m\n\u001b[0;32m      2\u001b[0m y_train \u001b[38;5;241m=\u001b[39m y_train\u001b[38;5;241m.\u001b[39mclip(upper\u001b[38;5;241m=\u001b[39m\u001b[38;5;241m150\u001b[39m)\n\u001b[0;32m      3\u001b[0m reg\u001b[38;5;241m.\u001b[39mfit(X_train, y_train)  \n\u001b[1;32m----> 4\u001b[0m predictions \u001b[38;5;241m=\u001b[39m \u001b[43mreg\u001b[49m\u001b[38;5;241;43m.\u001b[39;49m\u001b[43mpredict\u001b[49m\u001b[43m(\u001b[49m\u001b[43mX_test\u001b[49m\u001b[43m)\u001b[49m\n\u001b[0;32m      5\u001b[0m r2 \u001b[38;5;241m=\u001b[39m r2_score(y_test, predictions)\n",
      "File \u001b[1;32m~\\anaconda3\\lib\\site-packages\\catboost\\core.py:5775\u001b[0m, in \u001b[0;36mCatBoostRegressor.predict\u001b[1;34m(self, data, prediction_type, ntree_start, ntree_end, thread_count, verbose, task_type)\u001b[0m\n\u001b[0;32m   5773\u001b[0m \u001b[38;5;28;01mif\u001b[39;00m prediction_type \u001b[38;5;129;01mis\u001b[39;00m \u001b[38;5;28;01mNone\u001b[39;00m:\n\u001b[0;32m   5774\u001b[0m     prediction_type \u001b[38;5;241m=\u001b[39m \u001b[38;5;28mself\u001b[39m\u001b[38;5;241m.\u001b[39m_get_default_prediction_type()\n\u001b[1;32m-> 5775\u001b[0m \u001b[38;5;28;01mreturn\u001b[39;00m \u001b[38;5;28;43mself\u001b[39;49m\u001b[38;5;241;43m.\u001b[39;49m\u001b[43m_predict\u001b[49m\u001b[43m(\u001b[49m\u001b[43mdata\u001b[49m\u001b[43m,\u001b[49m\u001b[43m \u001b[49m\u001b[43mprediction_type\u001b[49m\u001b[43m,\u001b[49m\u001b[43m \u001b[49m\u001b[43mntree_start\u001b[49m\u001b[43m,\u001b[49m\u001b[43m \u001b[49m\u001b[43mntree_end\u001b[49m\u001b[43m,\u001b[49m\u001b[43m \u001b[49m\u001b[43mthread_count\u001b[49m\u001b[43m,\u001b[49m\u001b[43m \u001b[49m\u001b[43mverbose\u001b[49m\u001b[43m,\u001b[49m\u001b[43m \u001b[49m\u001b[38;5;124;43m'\u001b[39;49m\u001b[38;5;124;43mpredict\u001b[39;49m\u001b[38;5;124;43m'\u001b[39;49m\u001b[43m,\u001b[49m\u001b[43m \u001b[49m\u001b[43mtask_type\u001b[49m\u001b[43m)\u001b[49m\n",
      "File \u001b[1;32m~\\anaconda3\\lib\\site-packages\\catboost\\core.py:2541\u001b[0m, in \u001b[0;36mCatBoost._predict\u001b[1;34m(self, data, prediction_type, ntree_start, ntree_end, thread_count, verbose, parent_method_name, task_type)\u001b[0m\n\u001b[0;32m   2539\u001b[0m \u001b[38;5;28;01mif\u001b[39;00m verbose \u001b[38;5;129;01mis\u001b[39;00m \u001b[38;5;28;01mNone\u001b[39;00m:\n\u001b[0;32m   2540\u001b[0m     verbose \u001b[38;5;241m=\u001b[39m \u001b[38;5;28;01mFalse\u001b[39;00m\n\u001b[1;32m-> 2541\u001b[0m data, data_is_single_object \u001b[38;5;241m=\u001b[39m \u001b[38;5;28;43mself\u001b[39;49m\u001b[38;5;241;43m.\u001b[39;49m\u001b[43m_process_predict_input_data\u001b[49m\u001b[43m(\u001b[49m\u001b[43mdata\u001b[49m\u001b[43m,\u001b[49m\u001b[43m \u001b[49m\u001b[43mparent_method_name\u001b[49m\u001b[43m,\u001b[49m\u001b[43m \u001b[49m\u001b[43mthread_count\u001b[49m\u001b[43m)\u001b[49m\n\u001b[0;32m   2542\u001b[0m \u001b[38;5;28mself\u001b[39m\u001b[38;5;241m.\u001b[39m_validate_prediction_type(prediction_type)\n\u001b[0;32m   2544\u001b[0m predictions \u001b[38;5;241m=\u001b[39m \u001b[38;5;28mself\u001b[39m\u001b[38;5;241m.\u001b[39m_base_predict(data, prediction_type, ntree_start, ntree_end, thread_count, verbose, task_type)\n",
      "File \u001b[1;32m~\\anaconda3\\lib\\site-packages\\catboost\\core.py:2521\u001b[0m, in \u001b[0;36mCatBoost._process_predict_input_data\u001b[1;34m(self, data, parent_method_name, thread_count, label)\u001b[0m\n\u001b[0;32m   2519\u001b[0m is_single_object \u001b[38;5;241m=\u001b[39m _is_data_single_object(data)\n\u001b[0;32m   2520\u001b[0m \u001b[38;5;28;01mif\u001b[39;00m \u001b[38;5;129;01mnot\u001b[39;00m \u001b[38;5;28misinstance\u001b[39m(data, Pool):\n\u001b[1;32m-> 2521\u001b[0m     data \u001b[38;5;241m=\u001b[39m \u001b[43mPool\u001b[49m\u001b[43m(\u001b[49m\n\u001b[0;32m   2522\u001b[0m \u001b[43m        \u001b[49m\u001b[43mdata\u001b[49m\u001b[38;5;241;43m=\u001b[39;49m\u001b[43m[\u001b[49m\u001b[43mdata\u001b[49m\u001b[43m]\u001b[49m\u001b[43m \u001b[49m\u001b[38;5;28;43;01mif\u001b[39;49;00m\u001b[43m \u001b[49m\u001b[43mis_single_object\u001b[49m\u001b[43m \u001b[49m\u001b[38;5;28;43;01melse\u001b[39;49;00m\u001b[43m \u001b[49m\u001b[43mdata\u001b[49m\u001b[43m,\u001b[49m\n\u001b[0;32m   2523\u001b[0m \u001b[43m        \u001b[49m\u001b[43mlabel\u001b[49m\u001b[38;5;241;43m=\u001b[39;49m\u001b[43mlabel\u001b[49m\u001b[43m,\u001b[49m\n\u001b[0;32m   2524\u001b[0m \u001b[43m        \u001b[49m\u001b[43mcat_features\u001b[49m\u001b[38;5;241;43m=\u001b[39;49m\u001b[38;5;28;43mself\u001b[39;49m\u001b[38;5;241;43m.\u001b[39;49m\u001b[43m_get_cat_feature_indices\u001b[49m\u001b[43m(\u001b[49m\u001b[43m)\u001b[49m\u001b[43m \u001b[49m\u001b[38;5;28;43;01mif\u001b[39;49;00m\u001b[43m \u001b[49m\u001b[38;5;129;43;01mnot\u001b[39;49;00m\u001b[43m \u001b[49m\u001b[38;5;28;43misinstance\u001b[39;49m\u001b[43m(\u001b[49m\u001b[43mdata\u001b[49m\u001b[43m,\u001b[49m\u001b[43m \u001b[49m\u001b[43mFeaturesData\u001b[49m\u001b[43m)\u001b[49m\u001b[43m \u001b[49m\u001b[38;5;28;43;01melse\u001b[39;49;00m\u001b[43m \u001b[49m\u001b[38;5;28;43;01mNone\u001b[39;49;00m\u001b[43m,\u001b[49m\n\u001b[0;32m   2525\u001b[0m \u001b[43m        \u001b[49m\u001b[43mtext_features\u001b[49m\u001b[38;5;241;43m=\u001b[39;49m\u001b[38;5;28;43mself\u001b[39;49m\u001b[38;5;241;43m.\u001b[39;49m\u001b[43m_get_text_feature_indices\u001b[49m\u001b[43m(\u001b[49m\u001b[43m)\u001b[49m\u001b[43m \u001b[49m\u001b[38;5;28;43;01mif\u001b[39;49;00m\u001b[43m \u001b[49m\u001b[38;5;129;43;01mnot\u001b[39;49;00m\u001b[43m \u001b[49m\u001b[38;5;28;43misinstance\u001b[39;49m\u001b[43m(\u001b[49m\u001b[43mdata\u001b[49m\u001b[43m,\u001b[49m\u001b[43m \u001b[49m\u001b[43mFeaturesData\u001b[49m\u001b[43m)\u001b[49m\u001b[43m \u001b[49m\u001b[38;5;28;43;01melse\u001b[39;49;00m\u001b[43m \u001b[49m\u001b[38;5;28;43;01mNone\u001b[39;49;00m\u001b[43m,\u001b[49m\n\u001b[0;32m   2526\u001b[0m \u001b[43m        \u001b[49m\u001b[43membedding_features\u001b[49m\u001b[38;5;241;43m=\u001b[39;49m\u001b[38;5;28;43mself\u001b[39;49m\u001b[38;5;241;43m.\u001b[39;49m\u001b[43m_get_embedding_feature_indices\u001b[49m\u001b[43m(\u001b[49m\u001b[43m)\u001b[49m\u001b[43m \u001b[49m\u001b[38;5;28;43;01mif\u001b[39;49;00m\u001b[43m \u001b[49m\u001b[38;5;129;43;01mnot\u001b[39;49;00m\u001b[43m \u001b[49m\u001b[38;5;28;43misinstance\u001b[39;49m\u001b[43m(\u001b[49m\u001b[43mdata\u001b[49m\u001b[43m,\u001b[49m\u001b[43m \u001b[49m\u001b[43mFeaturesData\u001b[49m\u001b[43m)\u001b[49m\u001b[43m \u001b[49m\u001b[38;5;28;43;01melse\u001b[39;49;00m\u001b[43m \u001b[49m\u001b[38;5;28;43;01mNone\u001b[39;49;00m\u001b[43m,\u001b[49m\n\u001b[0;32m   2527\u001b[0m \u001b[43m        \u001b[49m\u001b[43mthread_count\u001b[49m\u001b[38;5;241;43m=\u001b[39;49m\u001b[43mthread_count\u001b[49m\n\u001b[0;32m   2528\u001b[0m \u001b[43m    \u001b[49m\u001b[43m)\u001b[49m\n\u001b[0;32m   2529\u001b[0m \u001b[38;5;28;01mreturn\u001b[39;00m data, is_single_object\n",
      "File \u001b[1;32m~\\anaconda3\\lib\\site-packages\\catboost\\core.py:792\u001b[0m, in \u001b[0;36mPool.__init__\u001b[1;34m(self, data, label, cat_features, text_features, embedding_features, embedding_features_data, column_description, pairs, delimiter, has_header, ignore_csv_quoting, weight, group_id, group_weight, subgroup_id, pairs_weight, baseline, timestamp, feature_names, feature_tags, thread_count, log_cout, log_cerr)\u001b[0m\n\u001b[0;32m    786\u001b[0m         \u001b[38;5;28;01mif\u001b[39;00m \u001b[38;5;28misinstance\u001b[39m(feature_names, PATH_TYPES):\n\u001b[0;32m    787\u001b[0m             \u001b[38;5;28;01mraise\u001b[39;00m CatBoostError(\n\u001b[0;32m    788\u001b[0m                 \u001b[38;5;124m\"\u001b[39m\u001b[38;5;124mfeature_names must be None or have non-string type when the pool is created from \u001b[39m\u001b[38;5;124m\"\u001b[39m\n\u001b[0;32m    789\u001b[0m                 \u001b[38;5;124m\"\u001b[39m\u001b[38;5;124mpython objects.\u001b[39m\u001b[38;5;124m\"\u001b[39m\n\u001b[0;32m    790\u001b[0m             )\n\u001b[1;32m--> 792\u001b[0m         \u001b[38;5;28;43mself\u001b[39;49m\u001b[38;5;241;43m.\u001b[39;49m\u001b[43m_init\u001b[49m\u001b[43m(\u001b[49m\u001b[43mdata\u001b[49m\u001b[43m,\u001b[49m\u001b[43m \u001b[49m\u001b[43mlabel\u001b[49m\u001b[43m,\u001b[49m\u001b[43m \u001b[49m\u001b[43mcat_features\u001b[49m\u001b[43m,\u001b[49m\u001b[43m \u001b[49m\u001b[43mtext_features\u001b[49m\u001b[43m,\u001b[49m\u001b[43m \u001b[49m\u001b[43membedding_features\u001b[49m\u001b[43m,\u001b[49m\u001b[43m \u001b[49m\u001b[43membedding_features_data\u001b[49m\u001b[43m,\u001b[49m\u001b[43m \u001b[49m\u001b[43mpairs\u001b[49m\u001b[43m,\u001b[49m\u001b[43m \u001b[49m\u001b[43mweight\u001b[49m\u001b[43m,\u001b[49m\n\u001b[0;32m    793\u001b[0m \u001b[43m                   \u001b[49m\u001b[43mgroup_id\u001b[49m\u001b[43m,\u001b[49m\u001b[43m \u001b[49m\u001b[43mgroup_weight\u001b[49m\u001b[43m,\u001b[49m\u001b[43m \u001b[49m\u001b[43msubgroup_id\u001b[49m\u001b[43m,\u001b[49m\u001b[43m \u001b[49m\u001b[43mpairs_weight\u001b[49m\u001b[43m,\u001b[49m\u001b[43m \u001b[49m\u001b[43mbaseline\u001b[49m\u001b[43m,\u001b[49m\u001b[43m \u001b[49m\u001b[43mtimestamp\u001b[49m\u001b[43m,\u001b[49m\u001b[43m \u001b[49m\u001b[43mfeature_names\u001b[49m\u001b[43m,\u001b[49m\u001b[43m \u001b[49m\u001b[43mfeature_tags\u001b[49m\u001b[43m,\u001b[49m\u001b[43m \u001b[49m\u001b[43mthread_count\u001b[49m\u001b[43m)\u001b[49m\n\u001b[0;32m    794\u001b[0m \u001b[38;5;28msuper\u001b[39m(Pool, \u001b[38;5;28mself\u001b[39m)\u001b[38;5;241m.\u001b[39m\u001b[38;5;21m__init__\u001b[39m()\n",
      "File \u001b[1;32m~\\anaconda3\\lib\\site-packages\\catboost\\core.py:1419\u001b[0m, in \u001b[0;36mPool._init\u001b[1;34m(self, data, label, cat_features, text_features, embedding_features, embedding_features_data, pairs, weight, group_id, group_weight, subgroup_id, pairs_weight, baseline, timestamp, feature_names, feature_tags, thread_count)\u001b[0m\n\u001b[0;32m   1417\u001b[0m \u001b[38;5;28;01mif\u001b[39;00m feature_tags \u001b[38;5;129;01mis\u001b[39;00m \u001b[38;5;129;01mnot\u001b[39;00m \u001b[38;5;28;01mNone\u001b[39;00m:\n\u001b[0;32m   1418\u001b[0m     feature_tags \u001b[38;5;241m=\u001b[39m \u001b[38;5;28mself\u001b[39m\u001b[38;5;241m.\u001b[39m_check_transform_tags(feature_tags, feature_names)\n\u001b[1;32m-> 1419\u001b[0m \u001b[38;5;28;43mself\u001b[39;49m\u001b[38;5;241;43m.\u001b[39;49m\u001b[43m_init_pool\u001b[49m\u001b[43m(\u001b[49m\u001b[43mdata\u001b[49m\u001b[43m,\u001b[49m\u001b[43m \u001b[49m\u001b[43mlabel\u001b[49m\u001b[43m,\u001b[49m\u001b[43m \u001b[49m\u001b[43mcat_features\u001b[49m\u001b[43m,\u001b[49m\u001b[43m \u001b[49m\u001b[43mtext_features\u001b[49m\u001b[43m,\u001b[49m\u001b[43m \u001b[49m\u001b[43membedding_features\u001b[49m\u001b[43m,\u001b[49m\u001b[43m \u001b[49m\u001b[43membedding_features_data\u001b[49m\u001b[43m,\u001b[49m\u001b[43m \u001b[49m\u001b[43mpairs\u001b[49m\u001b[43m,\u001b[49m\u001b[43m \u001b[49m\u001b[43mweight\u001b[49m\u001b[43m,\u001b[49m\n\u001b[0;32m   1420\u001b[0m \u001b[43m                \u001b[49m\u001b[43mgroup_id\u001b[49m\u001b[43m,\u001b[49m\u001b[43m \u001b[49m\u001b[43mgroup_weight\u001b[49m\u001b[43m,\u001b[49m\u001b[43m \u001b[49m\u001b[43msubgroup_id\u001b[49m\u001b[43m,\u001b[49m\u001b[43m \u001b[49m\u001b[43mpairs_weight\u001b[49m\u001b[43m,\u001b[49m\u001b[43m \u001b[49m\u001b[43mbaseline\u001b[49m\u001b[43m,\u001b[49m\u001b[43m \u001b[49m\u001b[43mtimestamp\u001b[49m\u001b[43m,\u001b[49m\u001b[43m \u001b[49m\u001b[43mfeature_names\u001b[49m\u001b[43m,\u001b[49m\u001b[43m \u001b[49m\u001b[43mfeature_tags\u001b[49m\u001b[43m,\u001b[49m\u001b[43m \u001b[49m\u001b[43mthread_count\u001b[49m\u001b[43m)\u001b[49m\n",
      "File \u001b[1;32m_catboost.pyx:3954\u001b[0m, in \u001b[0;36m_catboost._PoolBase._init_pool\u001b[1;34m()\u001b[0m\n",
      "File \u001b[1;32m_catboost.pyx:4004\u001b[0m, in \u001b[0;36m_catboost._PoolBase._init_pool\u001b[1;34m()\u001b[0m\n",
      "File \u001b[1;32m_catboost.pyx:3820\u001b[0m, in \u001b[0;36m_catboost._PoolBase._init_features_order_layout_pool\u001b[1;34m()\u001b[0m\n",
      "File \u001b[1;32m_catboost.pyx:2786\u001b[0m, in \u001b[0;36m_catboost._set_features_order_data_pd_data_frame\u001b[1;34m()\u001b[0m\n",
      "File \u001b[1;32m_catboost.pyx:2327\u001b[0m, in \u001b[0;36m_catboost.create_num_factor_data\u001b[1;34m()\u001b[0m\n",
      "File \u001b[1;32m_catboost.pyx:2288\u001b[0m, in \u001b[0;36m_catboost.get_float_feature\u001b[1;34m()\u001b[0m\n",
      "\u001b[1;31mCatBoostError\u001b[0m: Bad value for num_feature[non_default_doc_idx=0,feature_idx=25]=\"FD001\": Cannot convert 'b'FD001'' to float"
     ]
    }
   ],
   "source": [
    "reg = catboost.CatBoostRegressor(loss_function=\"RMSE\")\n",
    "y_train = y_train.clip(upper=150)\n",
    "reg.fit(X_train, y_train)  \n",
    "predictions = reg.predict(X_test)\n",
    "r2 = r2_score(y_test, predictions) \n",
    "#mse = mean_absolute_error( y_test, predictions)\n",
    " "
   ]
  },
  {
   "cell_type": "code",
   "execution_count": null,
   "metadata": {},
   "outputs": [],
   "source": [
    " "
   ]
  },
  {
   "cell_type": "code",
   "execution_count": 61,
   "metadata": {},
   "outputs": [],
   "source": [
    "FEATS = [c for c in list(DF_TRAIN) if re.match(\"(op|sen)\", c)]  \n",
    "feats = deepcopy(FEATS)\n",
    "\n",
    "\n",
    "tmp = DF_TRAIN.copy()\n",
    "test = DF_TEST.copy()\n",
    "test.rename(columns = {\"remaining_rul\":\"rul\"}, inplace = True)\n",
    "\n",
    "\n",
    "feats.append(\"id\") \n",
    "feats.append(\"rul\") \n",
    "\n",
    "\n",
    "X_train = tmp[feats].copy()\n",
    "y_train = tmp['rul'].copy()\n",
    "y_train_clipped = y_train.clip(upper=150)\n",
    "\n",
    "X_test = test.drop('cycle', axis=1).groupby('id').last().copy().reset_index()# get last row of each engine \n",
    "y_test = X_test['rul'].copy()\n",
    "X_test = X_test[feats] "
   ]
  },
  {
   "cell_type": "code",
   "execution_count": null,
   "metadata": {
    "tags": []
   },
   "outputs": [],
   "source": [
    " \n",
    "reg.fit(X_train, y_train)\n",
    "\n",
    "# predict and evaluate\n",
    "y_hat_train = reg.predict(X_train)\n",
    "r2_score(y_train, y_hat_train)\n",
    "\n",
    "y_hat_test = reg.predict(X_test)\n",
    "r2_score(y_test, y_hat_test.reshape(-1, 1))"
   ]
  },
  {
   "cell_type": "code",
   "execution_count": 64,
   "metadata": {},
   "outputs": [
    {
     "data": {
      "text/plain": [
       "0.999932630975886"
      ]
     },
     "execution_count": 64,
     "metadata": {},
     "output_type": "execute_result"
    }
   ],
   "source": [
    "\n",
    "\n",
    "r2_score(y_train, y_hat_train)\n",
    "r2_score(y_test, y_hat_test.reshape(-1, 1))"
   ]
  },
  {
   "cell_type": "code",
   "execution_count": null,
   "metadata": {},
   "outputs": [],
   "source": [
    " "
   ]
  },
  {
   "cell_type": "markdown",
   "metadata": {},
   "source": [
    "* KernelRidge"
   ]
  },
  {
   "cell_type": "code",
   "execution_count": 247,
   "metadata": {},
   "outputs": [],
   "source": [
    "from sklearn.kernel_ridge import KernelRidge\n",
    "# Regularization strength; must be a positive float.\n",
    "reg = KernelRidge(alpha=1.0)\n",
    "reg.fit(X_train, y_train)  \n",
    "predictions = reg.predict(X_test)\n",
    "r2 = r2_score(y_test, predictions) \n",
    "mse = mean_absolute_error( y_test, predictions)\n",
    " "
   ]
  },
  {
   "cell_type": "code",
   "execution_count": 86,
   "metadata": {},
   "outputs": [
    {
     "data": {
      "text/plain": [
       "(0.5718872230561661, 34.553979877586094)"
      ]
     },
     "execution_count": 86,
     "metadata": {},
     "output_type": "execute_result"
    }
   ],
   "source": [
    "r2, mse"
   ]
  },
  {
   "cell_type": "code",
   "execution_count": null,
   "metadata": {},
   "outputs": [],
   "source": []
  },
  {
   "cell_type": "markdown",
   "metadata": {},
   "source": [
    "* LGBM Regressor"
   ]
  },
  {
   "cell_type": "code",
   "execution_count": 14,
   "metadata": {},
   "outputs": [],
   "source": [
    "from lightgbm import LGBMRegressor"
   ]
  },
  {
   "cell_type": "code",
   "execution_count": 21,
   "metadata": {},
   "outputs": [
    {
     "data": {
      "text/plain": [
       "0.5885992254504808"
      ]
     },
     "execution_count": 21,
     "metadata": {},
     "output_type": "execute_result"
    }
   ],
   "source": [
    "reg = LGBMRegressor(boosting_type='gbdt', objective='regression', num_leaves=1200,  \n",
    "                                learning_rate=0.17, n_estimators=10, max_depth=4,\n",
    "                                metric='rmse', bagging_fraction=0.8, feature_fraction=0.8, reg_lambda=0.9)\n",
    "reg.fit(X_train, y_train)  \n",
    "predictions = reg.predict(X_test)\n",
    "r2 = r2_score(y_test, predictions) \n",
    "mse = mean_absolute_error( y_test, predictions)\n",
    "r2\n",
    " "
   ]
  },
  {
   "cell_type": "markdown",
   "metadata": {},
   "source": [
    "* Gradient Boosting for regression."
   ]
  },
  {
   "cell_type": "code",
   "execution_count": 97,
   "metadata": {},
   "outputs": [
    {
     "data": {
      "text/plain": [
       "0.6282456048708736"
      ]
     },
     "execution_count": 97,
     "metadata": {},
     "output_type": "execute_result"
    }
   ],
   "source": [
    "# Gradient Boosting for regression.\n",
    "#  loss='squared_error', learning_rate=0.1, n_estimators=100\n",
    "# subsamplefloat, default=1.0\n",
    "# The fraction of samples to be used for fitting the individual base learners. If smaller than 1.0 this results in Stochastic Gradient Boosting\n",
    "reg = GradientBoostingRegressor(random_state=0)\n",
    "reg.fit(X_train, y_train)  \n",
    "predictions = reg.predict(X_test)\n",
    "r2 = r2_score(y_test, predictions) \n",
    "mse = mean_absolute_error( y_test, predictions)\n",
    "r2"
   ]
  },
  {
   "cell_type": "code",
   "execution_count": null,
   "metadata": {},
   "outputs": [],
   "source": []
  },
  {
   "cell_type": "markdown",
   "metadata": {},
   "source": [
    "* Decision tree regressor"
   ]
  },
  {
   "cell_type": "code",
   "execution_count": 101,
   "metadata": {},
   "outputs": [
    {
     "data": {
      "text/plain": [
       "0.24165798481237444"
      ]
     },
     "execution_count": 101,
     "metadata": {},
     "output_type": "execute_result"
    }
   ],
   "source": [
    "reg = DecisionTreeRegressor(criterion='squared_error') # max_depth=5\n",
    "reg.fit(X_train, y_train)  \n",
    "predictions = reg.predict(X_test)\n",
    "r2 = r2_score(y_test, predictions) \n",
    "mse = mean_absolute_error( y_test, predictions)\n",
    "r2\n",
    " "
   ]
  },
  {
   "cell_type": "markdown",
   "metadata": {},
   "source": [
    "* pca \n"
   ]
  },
  {
   "cell_type": "code",
   "execution_count": 116,
   "metadata": {},
   "outputs": [],
   "source": [
    "# Define cross-validation folds\n",
    "cv = KFold(n_splits=10, shuffle=True, random_state=42)\n",
    "\n",
    "# Linear Regression\n",
    "lin_reg = LinearRegression().fit(X_train, y_train)\n",
    "lr_score_train = -1 * cross_val_score(lin_reg, X_train, y_train, cv=cv, scoring='r2').mean()\n",
    "#lr_score_train = -1 * cross_val_score(lin_reg, X_train, y_train, cv=cv, scoring='neg_root_mean_squared_error').mean()\n",
    "lr_score_test = mean_squared_error(y_test, lin_reg.predict(X_test), squared=False)\n",
    "\n",
    "# Lasso Regression\n",
    "lasso_reg = LassoCV().fit(X_train, y_train)\n",
    "lasso_score_train = -1 * cross_val_score(lasso_reg, X_train, y_train, cv=cv, scoring='neg_root_mean_squared_error').mean()\n",
    "lasso_score_test = mean_squared_error(y_test, lasso_reg.predict(X_test), squared=False)\n",
    "\n",
    "# Ridge Regression\n",
    "ridge_reg = RidgeCV().fit(X_train, y_train)\n",
    "ridge_score_train = -1 * cross_val_score(ridge_reg, X_train, y_train, cv=cv, scoring='neg_root_mean_squared_error').mean()\n",
    "ridge_score_test = mean_squared_error(y_test, ridge_reg.predict(X_test), squared=False)\n",
    " "
   ]
  },
  {
   "cell_type": "code",
   "execution_count": 119,
   "metadata": {},
   "outputs": [
    {
     "data": {
      "text/plain": [
       "array([7.58847148e-01, 2.04964562e-01, 3.27373584e-02, 2.37421755e-03,\n",
       "       5.82800833e-04, 2.44272902e-04, 1.85874713e-04, 3.00137061e-05,\n",
       "       2.04328529e-05, 7.85278781e-06, 2.73483460e-06, 1.83486097e-06,\n",
       "       8.86255730e-07, 9.89473299e-09, 1.76907634e-10])"
      ]
     },
     "execution_count": 119,
     "metadata": {},
     "output_type": "execute_result"
    }
   ],
   "source": [
    "pca = PCA() # Default n_components = min(n_samples, n_features)\n",
    "X_train_pc = pca.fit_transform(X_train )\n",
    "\n",
    "# View first 5 rows of all principal components\n",
    "pd.DataFrame(pca.components_.T).loc[:4,:]\n",
    "pca.explained_variance_ratio_ "
   ]
  },
  {
   "cell_type": "code",
   "execution_count": 122,
   "metadata": {},
   "outputs": [
    {
     "data": {
      "image/png": "[encoded data removed]",
      "text/plain": [
       "<Figure size 640x480 with 1 Axes>"
      ]
     },
     "metadata": {},
     "output_type": "display_data"
    }
   ],
   "source": [
    "# Create empty list to store RMSE for each iteration\n",
    "rmse_list = []\n",
    "\n",
    "# Loop through different count of principal components for linear regression\n",
    "for i in range(1, X_train_pc.shape[1]+1):\n",
    "    rmse_score = -1 * cross_val_score(lin_reg, \n",
    "                                      X_train_pc[:,:i], # Use first k principal components\n",
    "                                      y_train, \n",
    "                                      cv=cv, \n",
    "                                      scoring='r2').mean()\n",
    "                                      #scoring='neg_root_mean_squared_error').mean()\n",
    "    rmse_list.append(rmse_score)\n",
    "    \n",
    "# Visual analysis - plot RMSE vs count of principal components used\n",
    "plt.plot(rmse_list, '-o')\n",
    "plt.xlabel('Number of principal components in regression')\n",
    "plt.ylabel('RMSE')\n",
    "plt.title('Quality')\n",
    "plt.xlim(xmin=-1);\n",
    "plt.xticks(np.arange(X_train_pc.shape[1]), np.arange(1, X_train_pc.shape[1]+1))\n",
    "plt.axhline(y=lr_score_train, color='g', linestyle='-');\n",
    "plt.show()"
   ]
  },
  {
   "cell_type": "code",
   "execution_count": 125,
   "metadata": {},
   "outputs": [
    {
     "data": {
      "text/plain": [
       "45.32723627263053"
      ]
     },
     "execution_count": 125,
     "metadata": {},
     "output_type": "execute_result"
    }
   ],
   "source": [
    "# Visually determine optimal number of principal components\n",
    "best_pc_num = 9\n",
    "\n",
    "# Train model with first 9 principal components\n",
    "lin_reg_pc = LinearRegression().fit(X_train_pc[:,:best_pc_num], y_train)\n",
    "\n",
    "# Get cross-validation RMSE (train set)\n",
    "pcr_score_train = -1 * cross_val_score(lin_reg_pc, \n",
    "                                       X_train_pc[:,:best_pc_num], \n",
    "                                       y_train, \n",
    "                                       cv=cv, \n",
    "                                       scoring='neg_root_mean_squared_error').mean()\n",
    "\n",
    "# Train model on training set\n",
    "lin_reg_pc = LinearRegression().fit(X_train_pc[:,:best_pc_num], y_train)\n",
    "\n",
    "# Get first 9 principal components of test set\n",
    "X_test_pc = pca.transform(X_test)[:,:best_pc_num]\n",
    "\n",
    "# Predict on test data\n",
    "preds = lin_reg_pc.predict(X_test_pc)\n",
    "pcr_score_test = mean_squared_error(y_test, preds, squared=False)\n",
    "\n",
    "pcr_score_test"
   ]
  },
  {
   "cell_type": "markdown",
   "metadata": {},
   "source": [
    "* Partial Least Squares"
   ]
  },
  {
   "cell_type": "code",
   "execution_count": 242,
   "metadata": {},
   "outputs": [],
   "source": [
    "from sklearn.cross_decomposition import PLSRegression\n",
    "cv = RepeatedKFold(n_splits=10, n_repeats=3, random_state=1)\n",
    "\n",
    "mse = []\n",
    "n = len(X)\n",
    "\n",
    "# Calculate MSE with only the intercept\n",
    "score = -1*model_selection.cross_val_score(PLSRegression(n_components=1),\n",
    "           np.ones((n,1)), y, cv=cv, scoring='neg_mean_squared_error').mean()    \n",
    "mse.append(score)\n",
    "\n",
    "# Calculate MSE using cross-validation, adding one component at a time\n",
    "for i in np.arange(1, 6):\n",
    "    pls = PLSRegression(n_components=i)\n",
    "    score = -1*model_selection.cross_val_score(pls, scale(X), y, cv=cv,\n",
    "               scoring='neg_mean_squared_error').mean()\n",
    "    mse.append(score)"
   ]
  },
  {
   "cell_type": "code",
   "execution_count": 243,
   "metadata": {},
   "outputs": [
    {
     "data": {
      "text/plain": [
       "[nan,\n",
       " 2141.3181105516387,\n",
       " 2010.2901754310037,\n",
       " 2002.3534054624843,\n",
       " 2001.2567423694306,\n",
       " 2001.6940520246558]"
      ]
     },
     "execution_count": 243,
     "metadata": {},
     "output_type": "execute_result"
    }
   ],
   "source": [
    " "
   ]
  },
  {
   "cell_type": "markdown",
   "metadata": {},
   "source": [
    "* RandomForestRegressor"
   ]
  },
  {
   "cell_type": "code",
   "execution_count": 137,
   "metadata": {},
   "outputs": [
    {
     "data": {
      "text/plain": [
       "0.6255486380581559"
      ]
     },
     "execution_count": 137,
     "metadata": {},
     "output_type": "execute_result"
    }
   ],
   "source": [
    "reg = ensemble.RandomForestRegressor(n_estimators=100,  criterion='squared_error', max_depth=None, min_samples_split=2)\n",
    "reg.fit(X_train, y_train)  \n",
    "predictions = reg.predict(X_test)\n",
    "r2 = r2_score(y_test, predictions) \n",
    "mse = mean_absolute_error( y_test, predictions)\n",
    "r2"
   ]
  },
  {
   "cell_type": "code",
   "execution_count": null,
   "metadata": {},
   "outputs": [],
   "source": [
    " "
   ]
  },
  {
   "cell_type": "code",
   "execution_count": 141,
   "metadata": {},
   "outputs": [],
   "source": []
  },
  {
   "cell_type": "markdown",
   "metadata": {},
   "source": [
    "# Pipeline and GridSearch"
   ]
  },
  {
   "cell_type": "code",
   "execution_count": 33,
   "metadata": {},
   "outputs": [],
   "source": [
    "fs = SelectingEDAFeatures()\n",
    "FEATS = fs.eda_features()"
   ]
  },
  {
   "cell_type": "code",
   "execution_count": 34,
   "metadata": {},
   "outputs": [
    {
     "data": {
      "text/plain": [
       "['op1',\n",
       " 'op2',\n",
       " 'sensor2',\n",
       " 'sensor3',\n",
       " 'sensor4',\n",
       " 'sensor7',\n",
       " 'sensor11',\n",
       " 'sensor12',\n",
       " 'sensor14',\n",
       " 'sensor15',\n",
       " 'sensor17',\n",
       " 'sensor20',\n",
       " 'sensor21']"
      ]
     },
     "execution_count": 34,
     "metadata": {},
     "output_type": "execute_result"
    }
   ],
   "source": [
    "FEATS"
   ]
  },
  {
   "cell_type": "markdown",
   "metadata": {},
   "source": [
    "## Pipe"
   ]
  },
  {
   "cell_type": "code",
   "execution_count": 123,
   "metadata": {},
   "outputs": [],
   "source": [
    "def regressions_helper():\n",
    "    ## place holder for regresson models \n",
    "    #linear model\n",
    "        #SGDRegressor  \n",
    "        #OrthogonalMatchingPursuit  \n",
    "        # BayesianRidge \n",
    "        #LinearRegression  \n",
    "        #LassoLars \n",
    "        #Ridge \n",
    "        #LogisticRegression \n",
    "        #LinearRegression\n",
    "        #ARDRegression  \n",
    "        #ElasticNet\n",
    "        #Lasso \n",
    "        #SVR \n",
    "        #PassiveAggressiveRegressor   \n",
    "\n",
    "    # ensemble \n",
    "        #GradientBoostingRegressor\n",
    "        #RandomForestRegressor\n",
    "\n",
    "    # tree \n",
    "        # DecisionTreeRegressor\n",
    "\n",
    "    # cross decomposition \n",
    "        #cross_decomposition. PLSRegression\n",
    "\n",
    "    # kernel_ridge.KernelRidge\n",
    "        # kernel_ridge.KernelRidge\n",
    "\n",
    "    # catboost    \n",
    "        #catboost.CatBoostRegressor  \n",
    "\n",
    "    linear_reg = linear_model.LinearRegression(fit_intercept=True,  n_jobs=None, positive=False) \n",
    "    #n_jobs: 1 cpu, -1 all cpus, positive: if true then coeff will be >0 (only for dense arrays). #normalize can be set to true. fit_intercept when True: will be normalized\n",
    "    #  fit_intercept=True, normalize='deprecated', copy_X=True, n_jobs=None, positive=False\n",
    "    \n",
    "    lassor_lars = linear_model.LassoLars(alpha=1.0,  fit_intercept=True, verbose=False, normalize='deprecated', precompute='auto', max_iter=500)\n",
    "    # Least Angle Regression: lars.  least-angle regression (LARS) is an algorithm for fitting linear regression models to high-dimensional data\n",
    "    # alpha: Constant that multiplies the penalty term. Defaults to 1.0. alpha = 0 is equivalent to an ordinary least square\n",
    "    # alpha=1.0, *, fit_intercept=True, verbose=False, normalize='deprecated', precompute='auto', \n",
    "    #max_iter=500, eps=2.220446049250313e-16, copy_X=True, fit_path=True, positive=False, jitter=None, random_state=None\n",
    "    \n",
    "    ridge = linear_model.Ridge(alpha = 0.5)\n",
    "    # alpha: ridge regulation. the lambda \n",
    "    # solver{'auto', 'svd', 'cholesky', 'lsqr', 'sparse_cg', 'sag', 'saga', 'lbfgs'}, default='auto' \n",
    "    # alpha=1.0, *, fit_intercept=True, normalize='deprecated', copy_X=True, max_iter=None, tol=0.001, solver='auto', positive=False, random_state=None\n",
    "     \n",
    "    logit = linear_model.LogisticRegression(penalty='elasticnet', l1_ratio = 0.5)\n",
    "    # penalty: 'l1', 'l2', 'elasticnet'  l1_ratio: only when penalty='elasticnet'\n",
    "    # penalty='l2', *, dual=False, tol=0.0001, C=1.0, fit_intercept=True, intercept_scaling=1, class_weight=None, \n",
    "    #random_state=None, solver='lbfgs', max_iter=100, multi_class='auto', verbose=0, warm_start=False, n_jobs=None, l1_ratio=None\n",
    "    \n",
    "    \n",
    "    lr = linear_model.LinearRegression(fit_intercept=True, positive=False)\n",
    "    # positive: make coef to be positive\n",
    "\n",
    "    baysesain_ard = linear_model.ARDRegression(fit_intercept=True)\n",
    "    #ARD Automatic Relevance Determination Regression\n",
    "    # Bayesian ARD. Fit the weights of a regression model, using an ARD prior. ard Automatic Relevance Determination Regression\n",
    "    # n_iter=300, tol=0.001, alpha_1=1e-06, alpha_2=1e-06, lambda_1=1e-06, lambda_2=1e-06, compute_score=False, \n",
    "    #threshold_lambda=10000.0, fit_intercept=True, normalize='deprecated', copy_X=True, verbose=False\n",
    "    \n",
    "    bay_ridge = linear_model.BayesianRidge()\n",
    "    # Bayesian ridge regression\n",
    "\n",
    "    elastic = linear_model.ElasticNet(alpha=1.0, l1_ratio=0.5)\n",
    "    # ElasticNet\n",
    "\n",
    "    lasso = linear_model.Lasso(alpha=1.0,  fit_intercept=True)\n",
    "    # Lasso \n",
    "\n",
    "    svr = svm.SVR(kernel='rbf', degree=3, gamma='scale')\n",
    "    # kernel{'linear', 'poly', 'rbf', 'sigmoid', 'precomputed'}\n",
    "\n",
    "    twee = linear_model.TweedieRegressor(alpha=1.0, fit_intercept=True, link='auto', max_iter=500)\n",
    "    # Generalized Linear Model with a Tweedie distribution\n",
    "    # power=0.0, alpha=1.0, fit_intercept=True, link='auto', max_iter=100, tol=0.0001, warm_start=False, verbose=0\n",
    "    # power is for distribution. 0 : normal\n",
    "    \n",
    "    omp = linear_model.OrthogonalMatchingPursuit(fit_intercept=True)\n",
    "    # Orthogonal Matching Pursuit model (OMP)\n",
    "    # n_nonzero_coefs=None, tol=None, fit_intercept=True, normalize='deprecated', precompute='auto'\n",
    "    # n_nonzero_coefs: \n",
    "    \n",
    "    sgd = linear_model.SGDRegressor(loss='squared_error',  penalty='l2', alpha=0.0001, l1_ratio=0.15)\n",
    "    # loss='squared_error', *, penalty='l2', alpha=0.0001, l1_ratio=0.15, fit_intercept=True, max_iter=1000, \n",
    "    # tol=0.001, shuffle=True, verbose=0, epsilon=0.1, random_state=None, learning_rate='invscaling', eta0=0.01, power_t=0.25, early_stopping=False, validation_fraction=0.1, n_iter_no_change=5, warm_start=False, average=False\n",
    "    \n",
    "    pag = linear_model.PassiveAggressiveRegressor(max_iter = 100)\n",
    "    # Passive Aggressive Regressor.\n",
    "    # *, C=1.0, fit_intercept=True, max_iter=1000, tol=0.001, early_stopping=False, validation_fraction=0.1, n_iter_no_change=5, shuffle=True, verbose=0, \n",
    "    #loss='epsilon_insensitive', epsilon=0.1, random_state=None, warm_start=False, average=False\n",
    "    \n",
    "    en_gbr = ensemble.GradientBoostingRegressor(loss='squared_error', learning_rate=0.1, n_estimators=100) \n",
    "    #Gradient Boosting for regression.\n",
    "    #  loss='squared_error', learning_rate=0.1, n_estimators=100, subsample=1.0, criterion='friedman_mse', min_samples_split=2, min_samples_leaf=1,\n",
    "    # min_weight_fraction_leaf=0.0, max_depth=3, min_impurity_decrease=0.0, init=None, random_state=None, \n",
    "    # max_features=None, alpha=0.9, verbose=0, max_leaf_nodes=None, warm_start=False, validation_fraction=0.1, n_iter_no_change=None, tol=0.0001, ccp_alpha=0.0\n",
    "\n",
    "    en_rf = ensemble.RandomForestRegressor(n_estimators=100,  criterion='squared_error')\n",
    "    # ensemble\n",
    "    # n_estimators=100, *, criterion='squared_error', max_depth=None, min_samples_split=2, min_samples_leaf=1, min_weight_fraction_leaf=0.0, max_features=1.0, \n",
    "    # max_leaf_nodes=None, min_impurity_decrease=0.0, bootstrap=True, oob_score=False, n_jobs=None, random_state=None, verbose=0, warm_start=False, ccp_alpha=0.0, max_samples=None\n",
    "\n",
    "    tree_reg = tree.DecisionTreeRegressor(criterion='squared_error', splitter='best')\n",
    "    # A decision tree regressor.\n",
    "\n",
    "    pls = cross_decomposition.PLSRegression()\n",
    "    # Partial least squares regression PLSRegression, with multivariate response, a.k.a. PLS2\n",
    "\n",
    "    kernel_ridge = kernel_ridge.KernelRidge(kernel='linear', gamma=None, degree=3)\n",
    "    # Kernel ridge regression.\n",
    "    #alpha=1, *, kernel='linear', gamma=None, degree=3, coef0=1, kernel_params=None\n",
    "    # alpha: regulation strength\n",
    "    \n",
    "    cat_reg = catboost.CatBoostRegressor(loss_function=\"RMSE\" )\n",
    "    # CatBoostRegressor\n",
    "    #https://catboost.ai/en/docs/concepts/parameter-tuning\n",
    "    \n",
    "    lgbm_reg = lightgbm.LGBMRegressor(boosting_type='gbdt', num_leaves=31, max_depth=-1, learning_rate=0.1, n_estimators=100)\n",
    "    # LGBMRegressor\n",
    "    # boosting_type='gbdt', num_leaves=31, max_depth=-1, learning_rate=0.1, n_estimators=100, subsample_for_bin=200000, objective=None, \n",
    "    # class_weight=None, min_split_gain=0.0, min_child_weight=0.001, min_child_samples=20, subsample=1.0, subsample_freq=0, colsample_bytree=1.0,\n",
    "    # reg_alpha=0.0, reg_lambda=0.0, random_state=None, n_jobs=None, importance_type='split', **kwargs"
   ]
  },
  {
   "cell_type": "code",
   "execution_count": 224,
   "metadata": {},
   "outputs": [],
   "source": [
    "fs = SelectingEDAFeatures()\n",
    "FEATS = fs.eda_features()"
   ]
  },
  {
   "cell_type": "code",
   "execution_count": null,
   "metadata": {},
   "outputs": [],
   "source": [
    " "
   ]
  },
  {
   "cell_type": "code",
   "execution_count": 36,
   "metadata": {},
   "outputs": [],
   "source": [
    "def prepare(random_state = 123, use_test_set = True):\n",
    "    tmp = DF_TRAIN.copy()\n",
    "    X = tmp[FEATS] \n",
    "    y = tmp.pop(\"rul\") \n",
    "    X_train, X_test, y_train, y_test = train_test_split(X, y, test_size=0.4, random_state=random_state)\n",
    "    \n",
    "    if use_test_set:\n",
    "        X_test = DF_TEST.copy()\n",
    "        X_test = X_test.drop('cycle', axis=1).groupby('id').last().copy().reset_index()# get last row of each engine \n",
    "        y_test = X_test['remaining_rul'].copy()\n",
    "        \n",
    "    return X_train, X_test, y_train, y_test\n"
   ]
  },
  {
   "cell_type": "code",
   "execution_count": 37,
   "metadata": {},
   "outputs": [],
   "source": [
    "\n",
    "X_train, X_test, y_train, y_test = prepare()\n",
    "\n",
    "def pipeline_gridsearch():\n",
    "    \"\"\"\n",
    "        doc: \n",
    "        grid search in pipelines\n",
    "    \"\"\"\n",
    "    names = [  \"linear_reg\", #1 \n",
    "    \"lassor_lars\", #2\n",
    "    \"ridge\", #3 \n",
    "    \"logit\", #4 \n",
    "    \"ard\", #5 \n",
    "    \"bayesian_ridge\",  #6 \n",
    "    \"elastic\", #7 \n",
    "    \"lasso\", #8 \n",
    "    \"svr\", #9 very slow\n",
    "    \"twee\", #10\n",
    "    \"omp\", #11 \n",
    "    \"sgd\", #12 \n",
    "    \"pag\", #13 \n",
    "    \"en_gbr\", #14 \n",
    "    \"en_rf\", #15 \n",
    "    \"tree_reg\", #16 \n",
    "    #\"pls\", #17 \n",
    "    \"kernel_ridge\", #17\n",
    "    \"cat_reg\", #18\n",
    "    \"lgbm_reg\", #19\n",
    "    ]\n",
    "\n",
    "    regressors = [ \n",
    "     linear_model.LinearRegression(), #1\n",
    "     linear_model.LassoLars(),  #2\n",
    "     linear_model.Ridge(), #3\n",
    "     linear_model.LogisticRegression(),  #4\n",
    "     linear_model.ARDRegression(), #5\n",
    "     linear_model.BayesianRidge(), #6\n",
    "     linear_model.ElasticNet(), #7\n",
    "     linear_model.Lasso(), #8\n",
    "     svm.SVR(), #9 very slow\n",
    "     linear_model.TweedieRegressor(), #10\n",
    "     linear_model.OrthogonalMatchingPursuit(), #11\n",
    "     linear_model.SGDRegressor(), #12\n",
    "     linear_model.PassiveAggressiveRegressor(), #13\n",
    "     ensemble.GradientBoostingRegressor(), #14\n",
    "     ensemble.RandomForestRegressor(), #15 very slow\n",
    "     tree.DecisionTreeRegressor(), #16\n",
    "     #cross_decomposition.PLSRegression(), #\n",
    "     kernel_ridge.KernelRidge(), #17\n",
    "     catboost.CatBoostRegressor(), #8\n",
    "     lightgbm.LGBMRegressor()  #19\n",
    "    ]\n",
    "\n",
    "    parameters = [ \n",
    "                  {'fit_intercept': [True], \"positive\":[True]},  #1\n",
    "                  {'fit_intercept': [True,False], \"positive\": [True, False], \"alpha\": [0, 1.0]},  #alpha: 0  is equal to ols  #2\n",
    "                  {'fit_intercept': [True,False], \"positive\": [True, False], \"solver\": [\"auto\", \"svd\", \"cholesky\", \"lsqr\", \"sag\", \"lbfgs\"]},  #alpha: 0  is equal to ols  #3\n",
    "                  {\"penalty\": [\"l2\", \"l1\", \"elasticnet\"],  'fit_intercept': [True,False],  \"solver\": [\"auto\", \"svd\", \"cholesky\", \"lsqr\", \"sag\", \"lbfgs\"]},  #alpha: 0  is equal to ols   #4\n",
    "                  {'fit_intercept': [True,False], \"n_iter\":[200, 500] },   #5\n",
    "                  {'fit_intercept': [True,False],   \"n_iter\":[200, 300, 400]},   #6\n",
    "                  {'alpha':[0.2, 0.5, 1.0], \"l1_ratio\": [0.1, 0.5, 0.8],  \"max_iter\":[1000, 400]},   #7\n",
    "                  {'alpha':[0.2, 0.5, 1.0],  \"max_iter\":[1000, 400]},   #8\n",
    "                  {'kernel':['linear'],  \"gamma\":[\"auto\", \"scale\"]},   #9 linear’, ‘poly’, ‘rbf’, ‘sigmoid\n",
    "                  {'power':[0, 3] },   #10\n",
    "                  {'n_nonzero_coefs':[None, 5, 14] }, #11\n",
    "                  {'loss':[\"squared_error\",\"huber\",\"epsilon_insensitive\"], \"penalty\": [\"l2\",\"l1\",\"elasticnet\"], \"l1_ratio\":[0.15, 0.5]},  #12\n",
    "                  {'C':[1.0, 0.5], \"early_stopping\":[True, False]}, #13\n",
    "                  {'loss':['squared_error', 'absolute_error',  'huber'] }, #14\n",
    "                  {'criterion':['squared_error', 'absolute_error', 'poisson'], \"n_estimators\":[100, 200] }, #15\n",
    "                  {'criterion':['squared_error', 'absolute_error',  'poisson'] },  #16\n",
    "                  {'alpha':[1.0, 0.8], \"kernel\": [\"linear\"]},#17\n",
    "                  {'loss_function':[\"RMSE\"], 'iterations': [100, 150, 200],#18\n",
    "                    'learning_rate': [0.03, 0.1],\n",
    "                    'depth': [2, 4, 6, 8],\n",
    "                    'l2_leaf_reg': [0.2, 0.5, 1, 3]}, \n",
    "                  {'learning_rate':[0.005, 0.10], \"feature_fraction\": [0.5, 0.9, 1.0], \"boosting_type\": [\"gbdt\", \"dart\"] }, #19\n",
    "                   ] \n",
    "\n",
    "    processed = [ ]  \n",
    "    history = {} \n",
    "    for  name, classifier, params in  zip(names, regressors, parameters): \n",
    "        #if name   in [\"svr\", \"en_rf\"]: ## not to proceed. too slow\n",
    "        if name not in [   \"cat_reg\", \"lgbm_reg\"]:\n",
    "            continue  \n",
    "        if name in processed:\n",
    "            continue \n",
    "        if name in history:\n",
    "            continue \n",
    "        pipe=Pipeline([(name, classifier)])  \n",
    "        params = {name+\"__\"+k: v for k, v in params.items()} # by convention 约定俗成\n",
    "        gs_clf = GridSearchCV(pipe, param_grid=params, n_jobs=-1, scoring=\"r2\" )\n",
    "        clf = gs_clf.fit(X_train, y_train)\n",
    "        score = clf.score(X_test, y_test)\n",
    "        history[name] = {}\n",
    "        history[name][\"score\"] = score \n",
    "        history[name][\"regressor\"] = gs_clf\n",
    "       \n",
    "        processed.append(name)\n",
    "    return history, processed"
   ]
  },
  {
   "cell_type": "code",
   "execution_count": null,
   "metadata": {},
   "outputs": [],
   "source": [
    " "
   ]
  },
  {
   "cell_type": "code",
   "execution_count": 41,
   "metadata": {
    "tags": []
   },
   "outputs": [
    {
     "name": "stdout",
     "output_type": "stream",
     "text": [
      "0:\tlearn: 67.5885317\ttotal: 163ms\tremaining: 32.4s\n",
      "1:\tlearn: 66.4882233\ttotal: 180ms\tremaining: 17.8s\n",
      "2:\tlearn: 65.4214333\ttotal: 193ms\tremaining: 12.7s\n",
      "3:\tlearn: 64.3737333\ttotal: 218ms\tremaining: 10.7s\n",
      "4:\tlearn: 63.4076493\ttotal: 234ms\tremaining: 9.11s\n",
      "5:\tlearn: 62.4566425\ttotal: 248ms\tremaining: 8.01s\n",
      "6:\tlearn: 61.5483551\ttotal: 267ms\tremaining: 7.36s\n",
      "7:\tlearn: 60.6755802\ttotal: 301ms\tremaining: 7.21s\n",
      "8:\tlearn: 59.8192118\ttotal: 316ms\tremaining: 6.71s\n",
      "9:\tlearn: 59.0147616\ttotal: 332ms\tremaining: 6.32s\n",
      "10:\tlearn: 58.2286089\ttotal: 361ms\tremaining: 6.21s\n",
      "11:\tlearn: 57.5008897\ttotal: 377ms\tremaining: 5.91s\n",
      "12:\tlearn: 56.8025053\ttotal: 396ms\tremaining: 5.69s\n",
      "13:\tlearn: 56.1104818\ttotal: 420ms\tremaining: 5.58s\n",
      "14:\tlearn: 55.4387380\ttotal: 437ms\tremaining: 5.39s\n",
      "15:\tlearn: 54.7930134\ttotal: 453ms\tremaining: 5.21s\n",
      "16:\tlearn: 54.1829548\ttotal: 474ms\tremaining: 5.1s\n",
      "17:\tlearn: 53.5960048\ttotal: 495ms\tremaining: 5s\n",
      "18:\tlearn: 53.0381669\ttotal: 510ms\tremaining: 4.86s\n",
      "19:\tlearn: 52.5008418\ttotal: 523ms\tremaining: 4.71s\n",
      "20:\tlearn: 51.9832575\ttotal: 544ms\tremaining: 4.64s\n",
      "21:\tlearn: 51.4887412\ttotal: 565ms\tremaining: 4.57s\n",
      "22:\tlearn: 51.0105841\ttotal: 578ms\tremaining: 4.45s\n",
      "23:\tlearn: 50.5613723\ttotal: 593ms\tremaining: 4.35s\n",
      "24:\tlearn: 50.1450323\ttotal: 612ms\tremaining: 4.28s\n",
      "25:\tlearn: 49.7360120\ttotal: 628ms\tremaining: 4.2s\n",
      "26:\tlearn: 49.3491722\ttotal: 647ms\tremaining: 4.14s\n",
      "27:\tlearn: 48.9757621\ttotal: 661ms\tremaining: 4.06s\n",
      "28:\tlearn: 48.6126212\ttotal: 679ms\tremaining: 4s\n",
      "29:\tlearn: 48.2578199\ttotal: 702ms\tremaining: 3.98s\n",
      "30:\tlearn: 47.9401049\ttotal: 717ms\tremaining: 3.91s\n",
      "31:\tlearn: 47.6129470\ttotal: 731ms\tremaining: 3.84s\n",
      "32:\tlearn: 47.3082218\ttotal: 746ms\tremaining: 3.77s\n",
      "33:\tlearn: 47.0146196\ttotal: 772ms\tremaining: 3.77s\n",
      "34:\tlearn: 46.7496547\ttotal: 788ms\tremaining: 3.71s\n",
      "35:\tlearn: 46.4934512\ttotal: 803ms\tremaining: 3.66s\n",
      "36:\tlearn: 46.2388207\ttotal: 821ms\tremaining: 3.62s\n",
      "37:\tlearn: 45.9926778\ttotal: 841ms\tremaining: 3.59s\n",
      "38:\tlearn: 45.7603947\ttotal: 856ms\tremaining: 3.54s\n",
      "39:\tlearn: 45.5343736\ttotal: 870ms\tremaining: 3.48s\n",
      "40:\tlearn: 45.3329780\ttotal: 897ms\tremaining: 3.48s\n",
      "41:\tlearn: 45.1316271\ttotal: 913ms\tremaining: 3.43s\n",
      "42:\tlearn: 44.9499111\ttotal: 928ms\tremaining: 3.39s\n",
      "43:\tlearn: 44.7583578\ttotal: 943ms\tremaining: 3.34s\n",
      "44:\tlearn: 44.5758225\ttotal: 972ms\tremaining: 3.35s\n",
      "45:\tlearn: 44.4042424\ttotal: 987ms\tremaining: 3.31s\n",
      "46:\tlearn: 44.2418172\ttotal: 1s\tremaining: 3.26s\n",
      "47:\tlearn: 44.0788339\ttotal: 1.03s\tremaining: 3.25s\n",
      "48:\tlearn: 43.9344469\ttotal: 1.04s\tremaining: 3.21s\n",
      "49:\tlearn: 43.7894077\ttotal: 1.06s\tremaining: 3.17s\n",
      "50:\tlearn: 43.6481081\ttotal: 1.07s\tremaining: 3.13s\n",
      "51:\tlearn: 43.5255736\ttotal: 1.09s\tremaining: 3.11s\n",
      "52:\tlearn: 43.3918664\ttotal: 1.11s\tremaining: 3.09s\n",
      "53:\tlearn: 43.2732049\ttotal: 1.14s\tremaining: 3.08s\n",
      "54:\tlearn: 43.1536478\ttotal: 1.16s\tremaining: 3.05s\n",
      "55:\tlearn: 43.0474215\ttotal: 1.18s\tremaining: 3.03s\n",
      "56:\tlearn: 42.9440501\ttotal: 1.19s\tremaining: 3s\n",
      "57:\tlearn: 42.8466803\ttotal: 1.22s\tremaining: 2.98s\n",
      "58:\tlearn: 42.7500023\ttotal: 1.24s\tremaining: 2.96s\n",
      "59:\tlearn: 42.6471578\ttotal: 1.25s\tremaining: 2.92s\n",
      "60:\tlearn: 42.5651420\ttotal: 1.26s\tremaining: 2.88s\n",
      "61:\tlearn: 42.4878370\ttotal: 1.28s\tremaining: 2.85s\n",
      "62:\tlearn: 42.4027429\ttotal: 1.29s\tremaining: 2.82s\n",
      "63:\tlearn: 42.3251190\ttotal: 1.32s\tremaining: 2.8s\n",
      "64:\tlearn: 42.2485725\ttotal: 1.33s\tremaining: 2.77s\n",
      "65:\tlearn: 42.1776414\ttotal: 1.36s\tremaining: 2.75s\n",
      "66:\tlearn: 42.1079151\ttotal: 1.38s\tremaining: 2.74s\n",
      "67:\tlearn: 42.0426571\ttotal: 1.4s\tremaining: 2.71s\n",
      "68:\tlearn: 41.9815693\ttotal: 1.42s\tremaining: 2.7s\n",
      "69:\tlearn: 41.9415093\ttotal: 1.43s\tremaining: 2.65s\n",
      "70:\tlearn: 41.8840429\ttotal: 1.44s\tremaining: 2.62s\n",
      "71:\tlearn: 41.8315676\ttotal: 1.46s\tremaining: 2.6s\n",
      "72:\tlearn: 41.7799105\ttotal: 1.48s\tremaining: 2.57s\n",
      "73:\tlearn: 41.7213459\ttotal: 1.5s\tremaining: 2.55s\n",
      "74:\tlearn: 41.6696762\ttotal: 1.52s\tremaining: 2.53s\n",
      "75:\tlearn: 41.6265724\ttotal: 1.54s\tremaining: 2.51s\n",
      "76:\tlearn: 41.5821257\ttotal: 1.56s\tremaining: 2.49s\n",
      "77:\tlearn: 41.5460006\ttotal: 1.58s\tremaining: 2.48s\n",
      "78:\tlearn: 41.4990298\ttotal: 1.61s\tremaining: 2.46s\n",
      "79:\tlearn: 41.4459143\ttotal: 1.64s\tremaining: 2.46s\n",
      "80:\tlearn: 41.4027877\ttotal: 1.66s\tremaining: 2.44s\n",
      "81:\tlearn: 41.3609853\ttotal: 1.68s\tremaining: 2.42s\n",
      "82:\tlearn: 41.3219351\ttotal: 1.7s\tremaining: 2.4s\n",
      "83:\tlearn: 41.2839232\ttotal: 1.73s\tremaining: 2.39s\n",
      "84:\tlearn: 41.2558742\ttotal: 1.76s\tremaining: 2.38s\n",
      "85:\tlearn: 41.2211640\ttotal: 1.78s\tremaining: 2.37s\n",
      "86:\tlearn: 41.1809052\ttotal: 1.8s\tremaining: 2.34s\n",
      "87:\tlearn: 41.1525770\ttotal: 1.82s\tremaining: 2.32s\n",
      "88:\tlearn: 41.1219020\ttotal: 1.85s\tremaining: 2.3s\n",
      "89:\tlearn: 41.0978303\ttotal: 1.86s\tremaining: 2.27s\n",
      "90:\tlearn: 41.0643802\ttotal: 1.88s\tremaining: 2.25s\n",
      "91:\tlearn: 41.0295764\ttotal: 1.91s\tremaining: 2.24s\n",
      "92:\tlearn: 41.0022791\ttotal: 1.94s\tremaining: 2.23s\n",
      "93:\tlearn: 40.9709274\ttotal: 1.96s\tremaining: 2.21s\n",
      "94:\tlearn: 40.9477363\ttotal: 2s\tremaining: 2.21s\n",
      "95:\tlearn: 40.9234466\ttotal: 2.02s\tremaining: 2.19s\n",
      "96:\tlearn: 40.8994067\ttotal: 2.04s\tremaining: 2.17s\n",
      "97:\tlearn: 40.8547703\ttotal: 2.07s\tremaining: 2.15s\n",
      "98:\tlearn: 40.8303089\ttotal: 2.09s\tremaining: 2.14s\n",
      "99:\tlearn: 40.8105962\ttotal: 2.11s\tremaining: 2.11s\n",
      "100:\tlearn: 40.7811138\ttotal: 2.12s\tremaining: 2.08s\n",
      "101:\tlearn: 40.7570590\ttotal: 2.15s\tremaining: 2.07s\n",
      "102:\tlearn: 40.7331239\ttotal: 2.17s\tremaining: 2.04s\n",
      "103:\tlearn: 40.7141511\ttotal: 2.19s\tremaining: 2.02s\n",
      "104:\tlearn: 40.6968012\ttotal: 2.2s\tremaining: 1.99s\n",
      "105:\tlearn: 40.6739736\ttotal: 2.23s\tremaining: 1.98s\n",
      "106:\tlearn: 40.6565751\ttotal: 2.25s\tremaining: 1.95s\n",
      "107:\tlearn: 40.6351227\ttotal: 2.27s\tremaining: 1.93s\n",
      "108:\tlearn: 40.6207002\ttotal: 2.29s\tremaining: 1.91s\n",
      "109:\tlearn: 40.6010257\ttotal: 2.3s\tremaining: 1.88s\n",
      "110:\tlearn: 40.5697005\ttotal: 2.32s\tremaining: 1.86s\n",
      "111:\tlearn: 40.5524591\ttotal: 2.33s\tremaining: 1.83s\n",
      "112:\tlearn: 40.5297366\ttotal: 2.35s\tremaining: 1.81s\n",
      "113:\tlearn: 40.5139114\ttotal: 2.36s\tremaining: 1.78s\n",
      "114:\tlearn: 40.4940151\ttotal: 2.38s\tremaining: 1.76s\n",
      "115:\tlearn: 40.4709670\ttotal: 2.39s\tremaining: 1.73s\n",
      "116:\tlearn: 40.4492598\ttotal: 2.41s\tremaining: 1.71s\n",
      "117:\tlearn: 40.4310977\ttotal: 2.42s\tremaining: 1.69s\n",
      "118:\tlearn: 40.4097151\ttotal: 2.44s\tremaining: 1.66s\n",
      "119:\tlearn: 40.3971919\ttotal: 2.45s\tremaining: 1.63s\n",
      "120:\tlearn: 40.3771626\ttotal: 2.47s\tremaining: 1.61s\n",
      "121:\tlearn: 40.3651014\ttotal: 2.48s\tremaining: 1.59s\n",
      "122:\tlearn: 40.3536219\ttotal: 2.5s\tremaining: 1.56s\n",
      "123:\tlearn: 40.3384630\ttotal: 2.52s\tremaining: 1.54s\n",
      "124:\tlearn: 40.3158959\ttotal: 2.54s\tremaining: 1.52s\n",
      "125:\tlearn: 40.3012121\ttotal: 2.56s\tremaining: 1.5s\n",
      "126:\tlearn: 40.2859510\ttotal: 2.58s\tremaining: 1.48s\n",
      "127:\tlearn: 40.2701821\ttotal: 2.59s\tremaining: 1.46s\n",
      "128:\tlearn: 40.2544071\ttotal: 2.61s\tremaining: 1.44s\n",
      "129:\tlearn: 40.2473121\ttotal: 2.63s\tremaining: 1.42s\n",
      "130:\tlearn: 40.2341581\ttotal: 2.65s\tremaining: 1.4s\n",
      "131:\tlearn: 40.2200187\ttotal: 2.67s\tremaining: 1.37s\n",
      "132:\tlearn: 40.2008792\ttotal: 2.68s\tremaining: 1.35s\n",
      "133:\tlearn: 40.1877678\ttotal: 2.7s\tremaining: 1.33s\n",
      "134:\tlearn: 40.1748913\ttotal: 2.72s\tremaining: 1.31s\n",
      "135:\tlearn: 40.1604340\ttotal: 2.74s\tremaining: 1.29s\n",
      "136:\tlearn: 40.1526067\ttotal: 2.75s\tremaining: 1.27s\n",
      "137:\tlearn: 40.1334276\ttotal: 2.78s\tremaining: 1.25s\n",
      "138:\tlearn: 40.0979459\ttotal: 2.79s\tremaining: 1.22s\n",
      "139:\tlearn: 40.0878765\ttotal: 2.81s\tremaining: 1.2s\n",
      "140:\tlearn: 40.0760110\ttotal: 2.82s\tremaining: 1.18s\n",
      "141:\tlearn: 40.0675540\ttotal: 2.84s\tremaining: 1.16s\n",
      "142:\tlearn: 40.0405109\ttotal: 2.85s\tremaining: 1.14s\n",
      "143:\tlearn: 40.0167866\ttotal: 2.87s\tremaining: 1.12s\n",
      "144:\tlearn: 40.0078106\ttotal: 2.89s\tremaining: 1.1s\n",
      "145:\tlearn: 39.9976028\ttotal: 2.9s\tremaining: 1.07s\n",
      "146:\tlearn: 39.9907395\ttotal: 2.92s\tremaining: 1.05s\n",
      "147:\tlearn: 39.9820738\ttotal: 2.94s\tremaining: 1.03s\n",
      "148:\tlearn: 39.9640771\ttotal: 2.96s\tremaining: 1.01s\n",
      "149:\tlearn: 39.9524700\ttotal: 2.98s\tremaining: 993ms\n",
      "150:\tlearn: 39.9428239\ttotal: 3s\tremaining: 972ms\n",
      "151:\tlearn: 39.9297705\ttotal: 3.02s\tremaining: 955ms\n",
      "152:\tlearn: 39.9082613\ttotal: 3.05s\tremaining: 936ms\n",
      "153:\tlearn: 39.9005732\ttotal: 3.07s\tremaining: 916ms\n",
      "154:\tlearn: 39.8850971\ttotal: 3.09s\tremaining: 898ms\n",
      "155:\tlearn: 39.8702648\ttotal: 3.11s\tremaining: 877ms\n",
      "156:\tlearn: 39.8545922\ttotal: 3.13s\tremaining: 857ms\n",
      "157:\tlearn: 39.8449403\ttotal: 3.17s\tremaining: 842ms\n",
      "158:\tlearn: 39.8338354\ttotal: 3.19s\tremaining: 822ms\n",
      "159:\tlearn: 39.8193497\ttotal: 3.22s\tremaining: 805ms\n",
      "160:\tlearn: 39.8037598\ttotal: 3.25s\tremaining: 787ms\n",
      "161:\tlearn: 39.7876077\ttotal: 3.26s\tremaining: 766ms\n",
      "162:\tlearn: 39.7789378\ttotal: 3.29s\tremaining: 748ms\n",
      "163:\tlearn: 39.7704527\ttotal: 3.32s\tremaining: 728ms\n",
      "164:\tlearn: 39.7589079\ttotal: 3.33s\tremaining: 707ms\n",
      "165:\tlearn: 39.7373146\ttotal: 3.35s\tremaining: 685ms\n",
      "166:\tlearn: 39.7302012\ttotal: 3.38s\tremaining: 667ms\n",
      "167:\tlearn: 39.7160077\ttotal: 3.4s\tremaining: 648ms\n",
      "168:\tlearn: 39.7029915\ttotal: 3.42s\tremaining: 627ms\n",
      "169:\tlearn: 39.6828314\ttotal: 3.44s\tremaining: 607ms\n",
      "170:\tlearn: 39.6722067\ttotal: 3.46s\tremaining: 587ms\n",
      "171:\tlearn: 39.6563687\ttotal: 3.48s\tremaining: 566ms\n",
      "172:\tlearn: 39.6288429\ttotal: 3.5s\tremaining: 546ms\n",
      "173:\tlearn: 39.6212957\ttotal: 3.51s\tremaining: 525ms\n",
      "174:\tlearn: 39.6002911\ttotal: 3.53s\tremaining: 505ms\n",
      "175:\tlearn: 39.5855267\ttotal: 3.55s\tremaining: 485ms\n",
      "176:\tlearn: 39.5809562\ttotal: 3.57s\tremaining: 464ms\n",
      "177:\tlearn: 39.5698344\ttotal: 3.6s\tremaining: 446ms\n",
      "178:\tlearn: 39.5540095\ttotal: 3.63s\tremaining: 425ms\n",
      "179:\tlearn: 39.5415271\ttotal: 3.65s\tremaining: 406ms\n",
      "180:\tlearn: 39.5321024\ttotal: 3.67s\tremaining: 386ms\n",
      "181:\tlearn: 39.5226998\ttotal: 3.69s\tremaining: 365ms\n",
      "182:\tlearn: 39.5043459\ttotal: 3.71s\tremaining: 345ms\n",
      "183:\tlearn: 39.4932612\ttotal: 3.73s\tremaining: 325ms\n",
      "184:\tlearn: 39.4821677\ttotal: 3.75s\tremaining: 304ms\n",
      "185:\tlearn: 39.4661623\ttotal: 3.77s\tremaining: 284ms\n",
      "186:\tlearn: 39.4588999\ttotal: 3.79s\tremaining: 263ms\n",
      "187:\tlearn: 39.4486689\ttotal: 3.81s\tremaining: 243ms\n",
      "188:\tlearn: 39.4336942\ttotal: 3.83s\tremaining: 223ms\n",
      "189:\tlearn: 39.4204845\ttotal: 3.85s\tremaining: 203ms\n",
      "190:\tlearn: 39.4119011\ttotal: 3.88s\tremaining: 183ms\n",
      "191:\tlearn: 39.4018764\ttotal: 3.9s\tremaining: 162ms\n",
      "192:\tlearn: 39.3842110\ttotal: 3.91s\tremaining: 142ms\n",
      "193:\tlearn: 39.3659233\ttotal: 3.94s\tremaining: 122ms\n",
      "194:\tlearn: 39.3595798\ttotal: 3.95s\tremaining: 101ms\n",
      "195:\tlearn: 39.3315026\ttotal: 3.97s\tremaining: 81ms\n",
      "196:\tlearn: 39.3179572\ttotal: 3.99s\tremaining: 60.8ms\n",
      "197:\tlearn: 39.3105540\ttotal: 4.02s\tremaining: 40.6ms\n",
      "198:\tlearn: 39.3002671\ttotal: 4.03s\tremaining: 20.3ms\n",
      "199:\tlearn: 39.2900244\ttotal: 4.06s\tremaining: 0us\n"
     ]
    },
    {
     "ename": "CatBoostError",
     "evalue": "Bad value for num_feature[non_default_doc_idx=0,feature_idx=25]=\"FD001\": Cannot convert 'b'FD001'' to float",
     "output_type": "error",
     "traceback": [
      "\u001b[1;31m---------------------------------------------------------------------------\u001b[0m",
      "\u001b[1;31mTypeError\u001b[0m                                 Traceback (most recent call last)",
      "File \u001b[1;32m_catboost.pyx:2286\u001b[0m, in \u001b[0;36m_catboost.get_float_feature\u001b[1;34m()\u001b[0m\n",
      "File \u001b[1;32m_catboost.pyx:1139\u001b[0m, in \u001b[0;36m_catboost._FloatOrNan\u001b[1;34m()\u001b[0m\n",
      "File \u001b[1;32m_catboost.pyx:951\u001b[0m, in \u001b[0;36m_catboost._FloatOrNanFromString\u001b[1;34m()\u001b[0m\n",
      "\u001b[1;31mTypeError\u001b[0m: Cannot convert 'b'FD001'' to float",
      "\nDuring handling of the above exception, another exception occurred:\n",
      "\u001b[1;31mCatBoostError\u001b[0m                             Traceback (most recent call last)",
      "Input \u001b[1;32mIn [41]\u001b[0m, in \u001b[0;36m<cell line: 1>\u001b[1;34m()\u001b[0m\n\u001b[0;32m      1\u001b[0m \u001b[38;5;28;01mif\u001b[39;00m \u001b[38;5;241m22\u001b[39m \u001b[38;5;241m==\u001b[39m \u001b[38;5;241m22\u001b[39m:\n\u001b[1;32m----> 2\u001b[0m     history, processed \u001b[38;5;241m=\u001b[39m \u001b[43mpipeline_gridsearch\u001b[49m\u001b[43m(\u001b[49m\u001b[43m)\u001b[49m\n",
      "Input \u001b[1;32mIn [37]\u001b[0m, in \u001b[0;36mpipeline_gridsearch\u001b[1;34m()\u001b[0m\n\u001b[0;32m     90\u001b[0m gs_clf \u001b[38;5;241m=\u001b[39m GridSearchCV(pipe, param_grid\u001b[38;5;241m=\u001b[39mparams, n_jobs\u001b[38;5;241m=\u001b[39m\u001b[38;5;241m-\u001b[39m\u001b[38;5;241m1\u001b[39m, scoring\u001b[38;5;241m=\u001b[39m\u001b[38;5;124m\"\u001b[39m\u001b[38;5;124mr2\u001b[39m\u001b[38;5;124m\"\u001b[39m )\n\u001b[0;32m     91\u001b[0m clf \u001b[38;5;241m=\u001b[39m gs_clf\u001b[38;5;241m.\u001b[39mfit(X_train, y_train)\n\u001b[1;32m---> 92\u001b[0m score \u001b[38;5;241m=\u001b[39m \u001b[43mclf\u001b[49m\u001b[38;5;241;43m.\u001b[39;49m\u001b[43mscore\u001b[49m\u001b[43m(\u001b[49m\u001b[43mX_test\u001b[49m\u001b[43m,\u001b[49m\u001b[43m \u001b[49m\u001b[43my_test\u001b[49m\u001b[43m)\u001b[49m\n\u001b[0;32m     93\u001b[0m history[name] \u001b[38;5;241m=\u001b[39m {}\n\u001b[0;32m     94\u001b[0m history[name][\u001b[38;5;124m\"\u001b[39m\u001b[38;5;124mscore\u001b[39m\u001b[38;5;124m\"\u001b[39m] \u001b[38;5;241m=\u001b[39m score \n",
      "File \u001b[1;32m~\\anaconda3\\lib\\site-packages\\sklearn\\model_selection\\_search.py:473\u001b[0m, in \u001b[0;36mBaseSearchCV.score\u001b[1;34m(self, X, y)\u001b[0m\n\u001b[0;32m    470\u001b[0m     \u001b[38;5;28;01mreturn\u001b[39;00m scorer(\u001b[38;5;28mself\u001b[39m\u001b[38;5;241m.\u001b[39mbest_estimator_, X, y)\n\u001b[0;32m    472\u001b[0m \u001b[38;5;66;03m# callable\u001b[39;00m\n\u001b[1;32m--> 473\u001b[0m score \u001b[38;5;241m=\u001b[39m \u001b[38;5;28;43mself\u001b[39;49m\u001b[38;5;241;43m.\u001b[39;49m\u001b[43mscorer_\u001b[49m\u001b[43m(\u001b[49m\u001b[38;5;28;43mself\u001b[39;49m\u001b[38;5;241;43m.\u001b[39;49m\u001b[43mbest_estimator_\u001b[49m\u001b[43m,\u001b[49m\u001b[43m \u001b[49m\u001b[43mX\u001b[49m\u001b[43m,\u001b[49m\u001b[43m \u001b[49m\u001b[43my\u001b[49m\u001b[43m)\u001b[49m\n\u001b[0;32m    474\u001b[0m \u001b[38;5;28;01mif\u001b[39;00m \u001b[38;5;28mself\u001b[39m\u001b[38;5;241m.\u001b[39mmultimetric_:\n\u001b[0;32m    475\u001b[0m     score \u001b[38;5;241m=\u001b[39m score[\u001b[38;5;28mself\u001b[39m\u001b[38;5;241m.\u001b[39mrefit]\n",
      "File \u001b[1;32m~\\anaconda3\\lib\\site-packages\\sklearn\\metrics\\_scorer.py:216\u001b[0m, in \u001b[0;36m_BaseScorer.__call__\u001b[1;34m(self, estimator, X, y_true, sample_weight)\u001b[0m\n\u001b[0;32m    193\u001b[0m \u001b[38;5;28;01mdef\u001b[39;00m \u001b[38;5;21m__call__\u001b[39m(\u001b[38;5;28mself\u001b[39m, estimator, X, y_true, sample_weight\u001b[38;5;241m=\u001b[39m\u001b[38;5;28;01mNone\u001b[39;00m):\n\u001b[0;32m    194\u001b[0m     \u001b[38;5;124;03m\"\"\"Evaluate predicted target values for X relative to y_true.\u001b[39;00m\n\u001b[0;32m    195\u001b[0m \n\u001b[0;32m    196\u001b[0m \u001b[38;5;124;03m    Parameters\u001b[39;00m\n\u001b[1;32m   (...)\u001b[0m\n\u001b[0;32m    214\u001b[0m \u001b[38;5;124;03m        Score function applied to prediction of estimator on X.\u001b[39;00m\n\u001b[0;32m    215\u001b[0m \u001b[38;5;124;03m    \"\"\"\u001b[39;00m\n\u001b[1;32m--> 216\u001b[0m     \u001b[38;5;28;01mreturn\u001b[39;00m \u001b[38;5;28;43mself\u001b[39;49m\u001b[38;5;241;43m.\u001b[39;49m\u001b[43m_score\u001b[49m\u001b[43m(\u001b[49m\n\u001b[0;32m    217\u001b[0m \u001b[43m        \u001b[49m\u001b[43mpartial\u001b[49m\u001b[43m(\u001b[49m\u001b[43m_cached_call\u001b[49m\u001b[43m,\u001b[49m\u001b[43m \u001b[49m\u001b[38;5;28;43;01mNone\u001b[39;49;00m\u001b[43m)\u001b[49m\u001b[43m,\u001b[49m\n\u001b[0;32m    218\u001b[0m \u001b[43m        \u001b[49m\u001b[43mestimator\u001b[49m\u001b[43m,\u001b[49m\n\u001b[0;32m    219\u001b[0m \u001b[43m        \u001b[49m\u001b[43mX\u001b[49m\u001b[43m,\u001b[49m\n\u001b[0;32m    220\u001b[0m \u001b[43m        \u001b[49m\u001b[43my_true\u001b[49m\u001b[43m,\u001b[49m\n\u001b[0;32m    221\u001b[0m \u001b[43m        \u001b[49m\u001b[43msample_weight\u001b[49m\u001b[38;5;241;43m=\u001b[39;49m\u001b[43msample_weight\u001b[49m\u001b[43m,\u001b[49m\n\u001b[0;32m    222\u001b[0m \u001b[43m    \u001b[49m\u001b[43m)\u001b[49m\n",
      "File \u001b[1;32m~\\anaconda3\\lib\\site-packages\\sklearn\\metrics\\_scorer.py:258\u001b[0m, in \u001b[0;36m_PredictScorer._score\u001b[1;34m(self, method_caller, estimator, X, y_true, sample_weight)\u001b[0m\n\u001b[0;32m    230\u001b[0m \u001b[38;5;28;01mdef\u001b[39;00m \u001b[38;5;21m_score\u001b[39m(\u001b[38;5;28mself\u001b[39m, method_caller, estimator, X, y_true, sample_weight\u001b[38;5;241m=\u001b[39m\u001b[38;5;28;01mNone\u001b[39;00m):\n\u001b[0;32m    231\u001b[0m     \u001b[38;5;124;03m\"\"\"Evaluate predicted target values for X relative to y_true.\u001b[39;00m\n\u001b[0;32m    232\u001b[0m \n\u001b[0;32m    233\u001b[0m \u001b[38;5;124;03m    Parameters\u001b[39;00m\n\u001b[1;32m   (...)\u001b[0m\n\u001b[0;32m    255\u001b[0m \u001b[38;5;124;03m        Score function applied to prediction of estimator on X.\u001b[39;00m\n\u001b[0;32m    256\u001b[0m \u001b[38;5;124;03m    \"\"\"\u001b[39;00m\n\u001b[1;32m--> 258\u001b[0m     y_pred \u001b[38;5;241m=\u001b[39m \u001b[43mmethod_caller\u001b[49m\u001b[43m(\u001b[49m\u001b[43mestimator\u001b[49m\u001b[43m,\u001b[49m\u001b[43m \u001b[49m\u001b[38;5;124;43m\"\u001b[39;49m\u001b[38;5;124;43mpredict\u001b[39;49m\u001b[38;5;124;43m\"\u001b[39;49m\u001b[43m,\u001b[49m\u001b[43m \u001b[49m\u001b[43mX\u001b[49m\u001b[43m)\u001b[49m\n\u001b[0;32m    259\u001b[0m     \u001b[38;5;28;01mif\u001b[39;00m sample_weight \u001b[38;5;129;01mis\u001b[39;00m \u001b[38;5;129;01mnot\u001b[39;00m \u001b[38;5;28;01mNone\u001b[39;00m:\n\u001b[0;32m    260\u001b[0m         \u001b[38;5;28;01mreturn\u001b[39;00m \u001b[38;5;28mself\u001b[39m\u001b[38;5;241m.\u001b[39m_sign \u001b[38;5;241m*\u001b[39m \u001b[38;5;28mself\u001b[39m\u001b[38;5;241m.\u001b[39m_score_func(\n\u001b[0;32m    261\u001b[0m             y_true, y_pred, sample_weight\u001b[38;5;241m=\u001b[39msample_weight, \u001b[38;5;241m*\u001b[39m\u001b[38;5;241m*\u001b[39m\u001b[38;5;28mself\u001b[39m\u001b[38;5;241m.\u001b[39m_kwargs\n\u001b[0;32m    262\u001b[0m         )\n",
      "File \u001b[1;32m~\\anaconda3\\lib\\site-packages\\sklearn\\metrics\\_scorer.py:68\u001b[0m, in \u001b[0;36m_cached_call\u001b[1;34m(cache, estimator, method, *args, **kwargs)\u001b[0m\n\u001b[0;32m     66\u001b[0m \u001b[38;5;124;03m\"\"\"Call estimator with method and args and kwargs.\"\"\"\u001b[39;00m\n\u001b[0;32m     67\u001b[0m \u001b[38;5;28;01mif\u001b[39;00m cache \u001b[38;5;129;01mis\u001b[39;00m \u001b[38;5;28;01mNone\u001b[39;00m:\n\u001b[1;32m---> 68\u001b[0m     \u001b[38;5;28;01mreturn\u001b[39;00m \u001b[38;5;28mgetattr\u001b[39m(estimator, method)(\u001b[38;5;241m*\u001b[39margs, \u001b[38;5;241m*\u001b[39m\u001b[38;5;241m*\u001b[39mkwargs)\n\u001b[0;32m     70\u001b[0m \u001b[38;5;28;01mtry\u001b[39;00m:\n\u001b[0;32m     71\u001b[0m     \u001b[38;5;28;01mreturn\u001b[39;00m cache[method]\n",
      "File \u001b[1;32m~\\anaconda3\\lib\\site-packages\\sklearn\\utils\\metaestimators.py:113\u001b[0m, in \u001b[0;36m_AvailableIfDescriptor.__get__.<locals>.<lambda>\u001b[1;34m(*args, **kwargs)\u001b[0m\n\u001b[0;32m    110\u001b[0m         \u001b[38;5;28;01mraise\u001b[39;00m attr_err\n\u001b[0;32m    112\u001b[0m     \u001b[38;5;66;03m# lambda, but not partial, allows help() to work with update_wrapper\u001b[39;00m\n\u001b[1;32m--> 113\u001b[0m     out \u001b[38;5;241m=\u001b[39m \u001b[38;5;28;01mlambda\u001b[39;00m \u001b[38;5;241m*\u001b[39margs, \u001b[38;5;241m*\u001b[39m\u001b[38;5;241m*\u001b[39mkwargs: \u001b[38;5;28mself\u001b[39m\u001b[38;5;241m.\u001b[39mfn(obj, \u001b[38;5;241m*\u001b[39margs, \u001b[38;5;241m*\u001b[39m\u001b[38;5;241m*\u001b[39mkwargs)  \u001b[38;5;66;03m# noqa\u001b[39;00m\n\u001b[0;32m    114\u001b[0m \u001b[38;5;28;01melse\u001b[39;00m:\n\u001b[0;32m    116\u001b[0m     \u001b[38;5;28;01mdef\u001b[39;00m \u001b[38;5;21mfn\u001b[39m(\u001b[38;5;241m*\u001b[39margs, \u001b[38;5;241m*\u001b[39m\u001b[38;5;241m*\u001b[39mkwargs):\n",
      "File \u001b[1;32m~\\anaconda3\\lib\\site-packages\\sklearn\\pipeline.py:470\u001b[0m, in \u001b[0;36mPipeline.predict\u001b[1;34m(self, X, **predict_params)\u001b[0m\n\u001b[0;32m    468\u001b[0m \u001b[38;5;28;01mfor\u001b[39;00m _, name, transform \u001b[38;5;129;01min\u001b[39;00m \u001b[38;5;28mself\u001b[39m\u001b[38;5;241m.\u001b[39m_iter(with_final\u001b[38;5;241m=\u001b[39m\u001b[38;5;28;01mFalse\u001b[39;00m):\n\u001b[0;32m    469\u001b[0m     Xt \u001b[38;5;241m=\u001b[39m transform\u001b[38;5;241m.\u001b[39mtransform(Xt)\n\u001b[1;32m--> 470\u001b[0m \u001b[38;5;28;01mreturn\u001b[39;00m \u001b[38;5;28mself\u001b[39m\u001b[38;5;241m.\u001b[39msteps[\u001b[38;5;241m-\u001b[39m\u001b[38;5;241m1\u001b[39m][\u001b[38;5;241m1\u001b[39m]\u001b[38;5;241m.\u001b[39mpredict(Xt, \u001b[38;5;241m*\u001b[39m\u001b[38;5;241m*\u001b[39mpredict_params)\n",
      "File \u001b[1;32m~\\anaconda3\\lib\\site-packages\\catboost\\core.py:5775\u001b[0m, in \u001b[0;36mCatBoostRegressor.predict\u001b[1;34m(self, data, prediction_type, ntree_start, ntree_end, thread_count, verbose, task_type)\u001b[0m\n\u001b[0;32m   5773\u001b[0m \u001b[38;5;28;01mif\u001b[39;00m prediction_type \u001b[38;5;129;01mis\u001b[39;00m \u001b[38;5;28;01mNone\u001b[39;00m:\n\u001b[0;32m   5774\u001b[0m     prediction_type \u001b[38;5;241m=\u001b[39m \u001b[38;5;28mself\u001b[39m\u001b[38;5;241m.\u001b[39m_get_default_prediction_type()\n\u001b[1;32m-> 5775\u001b[0m \u001b[38;5;28;01mreturn\u001b[39;00m \u001b[38;5;28;43mself\u001b[39;49m\u001b[38;5;241;43m.\u001b[39;49m\u001b[43m_predict\u001b[49m\u001b[43m(\u001b[49m\u001b[43mdata\u001b[49m\u001b[43m,\u001b[49m\u001b[43m \u001b[49m\u001b[43mprediction_type\u001b[49m\u001b[43m,\u001b[49m\u001b[43m \u001b[49m\u001b[43mntree_start\u001b[49m\u001b[43m,\u001b[49m\u001b[43m \u001b[49m\u001b[43mntree_end\u001b[49m\u001b[43m,\u001b[49m\u001b[43m \u001b[49m\u001b[43mthread_count\u001b[49m\u001b[43m,\u001b[49m\u001b[43m \u001b[49m\u001b[43mverbose\u001b[49m\u001b[43m,\u001b[49m\u001b[43m \u001b[49m\u001b[38;5;124;43m'\u001b[39;49m\u001b[38;5;124;43mpredict\u001b[39;49m\u001b[38;5;124;43m'\u001b[39;49m\u001b[43m,\u001b[49m\u001b[43m \u001b[49m\u001b[43mtask_type\u001b[49m\u001b[43m)\u001b[49m\n",
      "File \u001b[1;32m~\\anaconda3\\lib\\site-packages\\catboost\\core.py:2541\u001b[0m, in \u001b[0;36mCatBoost._predict\u001b[1;34m(self, data, prediction_type, ntree_start, ntree_end, thread_count, verbose, parent_method_name, task_type)\u001b[0m\n\u001b[0;32m   2539\u001b[0m \u001b[38;5;28;01mif\u001b[39;00m verbose \u001b[38;5;129;01mis\u001b[39;00m \u001b[38;5;28;01mNone\u001b[39;00m:\n\u001b[0;32m   2540\u001b[0m     verbose \u001b[38;5;241m=\u001b[39m \u001b[38;5;28;01mFalse\u001b[39;00m\n\u001b[1;32m-> 2541\u001b[0m data, data_is_single_object \u001b[38;5;241m=\u001b[39m \u001b[38;5;28;43mself\u001b[39;49m\u001b[38;5;241;43m.\u001b[39;49m\u001b[43m_process_predict_input_data\u001b[49m\u001b[43m(\u001b[49m\u001b[43mdata\u001b[49m\u001b[43m,\u001b[49m\u001b[43m \u001b[49m\u001b[43mparent_method_name\u001b[49m\u001b[43m,\u001b[49m\u001b[43m \u001b[49m\u001b[43mthread_count\u001b[49m\u001b[43m)\u001b[49m\n\u001b[0;32m   2542\u001b[0m \u001b[38;5;28mself\u001b[39m\u001b[38;5;241m.\u001b[39m_validate_prediction_type(prediction_type)\n\u001b[0;32m   2544\u001b[0m predictions \u001b[38;5;241m=\u001b[39m \u001b[38;5;28mself\u001b[39m\u001b[38;5;241m.\u001b[39m_base_predict(data, prediction_type, ntree_start, ntree_end, thread_count, verbose, task_type)\n",
      "File \u001b[1;32m~\\anaconda3\\lib\\site-packages\\catboost\\core.py:2521\u001b[0m, in \u001b[0;36mCatBoost._process_predict_input_data\u001b[1;34m(self, data, parent_method_name, thread_count, label)\u001b[0m\n\u001b[0;32m   2519\u001b[0m is_single_object \u001b[38;5;241m=\u001b[39m _is_data_single_object(data)\n\u001b[0;32m   2520\u001b[0m \u001b[38;5;28;01mif\u001b[39;00m \u001b[38;5;129;01mnot\u001b[39;00m \u001b[38;5;28misinstance\u001b[39m(data, Pool):\n\u001b[1;32m-> 2521\u001b[0m     data \u001b[38;5;241m=\u001b[39m \u001b[43mPool\u001b[49m\u001b[43m(\u001b[49m\n\u001b[0;32m   2522\u001b[0m \u001b[43m        \u001b[49m\u001b[43mdata\u001b[49m\u001b[38;5;241;43m=\u001b[39;49m\u001b[43m[\u001b[49m\u001b[43mdata\u001b[49m\u001b[43m]\u001b[49m\u001b[43m \u001b[49m\u001b[38;5;28;43;01mif\u001b[39;49;00m\u001b[43m \u001b[49m\u001b[43mis_single_object\u001b[49m\u001b[43m \u001b[49m\u001b[38;5;28;43;01melse\u001b[39;49;00m\u001b[43m \u001b[49m\u001b[43mdata\u001b[49m\u001b[43m,\u001b[49m\n\u001b[0;32m   2523\u001b[0m \u001b[43m        \u001b[49m\u001b[43mlabel\u001b[49m\u001b[38;5;241;43m=\u001b[39;49m\u001b[43mlabel\u001b[49m\u001b[43m,\u001b[49m\n\u001b[0;32m   2524\u001b[0m \u001b[43m        \u001b[49m\u001b[43mcat_features\u001b[49m\u001b[38;5;241;43m=\u001b[39;49m\u001b[38;5;28;43mself\u001b[39;49m\u001b[38;5;241;43m.\u001b[39;49m\u001b[43m_get_cat_feature_indices\u001b[49m\u001b[43m(\u001b[49m\u001b[43m)\u001b[49m\u001b[43m \u001b[49m\u001b[38;5;28;43;01mif\u001b[39;49;00m\u001b[43m \u001b[49m\u001b[38;5;129;43;01mnot\u001b[39;49;00m\u001b[43m \u001b[49m\u001b[38;5;28;43misinstance\u001b[39;49m\u001b[43m(\u001b[49m\u001b[43mdata\u001b[49m\u001b[43m,\u001b[49m\u001b[43m \u001b[49m\u001b[43mFeaturesData\u001b[49m\u001b[43m)\u001b[49m\u001b[43m \u001b[49m\u001b[38;5;28;43;01melse\u001b[39;49;00m\u001b[43m \u001b[49m\u001b[38;5;28;43;01mNone\u001b[39;49;00m\u001b[43m,\u001b[49m\n\u001b[0;32m   2525\u001b[0m \u001b[43m        \u001b[49m\u001b[43mtext_features\u001b[49m\u001b[38;5;241;43m=\u001b[39;49m\u001b[38;5;28;43mself\u001b[39;49m\u001b[38;5;241;43m.\u001b[39;49m\u001b[43m_get_text_feature_indices\u001b[49m\u001b[43m(\u001b[49m\u001b[43m)\u001b[49m\u001b[43m \u001b[49m\u001b[38;5;28;43;01mif\u001b[39;49;00m\u001b[43m \u001b[49m\u001b[38;5;129;43;01mnot\u001b[39;49;00m\u001b[43m \u001b[49m\u001b[38;5;28;43misinstance\u001b[39;49m\u001b[43m(\u001b[49m\u001b[43mdata\u001b[49m\u001b[43m,\u001b[49m\u001b[43m \u001b[49m\u001b[43mFeaturesData\u001b[49m\u001b[43m)\u001b[49m\u001b[43m \u001b[49m\u001b[38;5;28;43;01melse\u001b[39;49;00m\u001b[43m \u001b[49m\u001b[38;5;28;43;01mNone\u001b[39;49;00m\u001b[43m,\u001b[49m\n\u001b[0;32m   2526\u001b[0m \u001b[43m        \u001b[49m\u001b[43membedding_features\u001b[49m\u001b[38;5;241;43m=\u001b[39;49m\u001b[38;5;28;43mself\u001b[39;49m\u001b[38;5;241;43m.\u001b[39;49m\u001b[43m_get_embedding_feature_indices\u001b[49m\u001b[43m(\u001b[49m\u001b[43m)\u001b[49m\u001b[43m \u001b[49m\u001b[38;5;28;43;01mif\u001b[39;49;00m\u001b[43m \u001b[49m\u001b[38;5;129;43;01mnot\u001b[39;49;00m\u001b[43m \u001b[49m\u001b[38;5;28;43misinstance\u001b[39;49m\u001b[43m(\u001b[49m\u001b[43mdata\u001b[49m\u001b[43m,\u001b[49m\u001b[43m \u001b[49m\u001b[43mFeaturesData\u001b[49m\u001b[43m)\u001b[49m\u001b[43m \u001b[49m\u001b[38;5;28;43;01melse\u001b[39;49;00m\u001b[43m \u001b[49m\u001b[38;5;28;43;01mNone\u001b[39;49;00m\u001b[43m,\u001b[49m\n\u001b[0;32m   2527\u001b[0m \u001b[43m        \u001b[49m\u001b[43mthread_count\u001b[49m\u001b[38;5;241;43m=\u001b[39;49m\u001b[43mthread_count\u001b[49m\n\u001b[0;32m   2528\u001b[0m \u001b[43m    \u001b[49m\u001b[43m)\u001b[49m\n\u001b[0;32m   2529\u001b[0m \u001b[38;5;28;01mreturn\u001b[39;00m data, is_single_object\n",
      "File \u001b[1;32m~\\anaconda3\\lib\\site-packages\\catboost\\core.py:792\u001b[0m, in \u001b[0;36mPool.__init__\u001b[1;34m(self, data, label, cat_features, text_features, embedding_features, embedding_features_data, column_description, pairs, delimiter, has_header, ignore_csv_quoting, weight, group_id, group_weight, subgroup_id, pairs_weight, baseline, timestamp, feature_names, feature_tags, thread_count, log_cout, log_cerr)\u001b[0m\n\u001b[0;32m    786\u001b[0m         \u001b[38;5;28;01mif\u001b[39;00m \u001b[38;5;28misinstance\u001b[39m(feature_names, PATH_TYPES):\n\u001b[0;32m    787\u001b[0m             \u001b[38;5;28;01mraise\u001b[39;00m CatBoostError(\n\u001b[0;32m    788\u001b[0m                 \u001b[38;5;124m\"\u001b[39m\u001b[38;5;124mfeature_names must be None or have non-string type when the pool is created from \u001b[39m\u001b[38;5;124m\"\u001b[39m\n\u001b[0;32m    789\u001b[0m                 \u001b[38;5;124m\"\u001b[39m\u001b[38;5;124mpython objects.\u001b[39m\u001b[38;5;124m\"\u001b[39m\n\u001b[0;32m    790\u001b[0m             )\n\u001b[1;32m--> 792\u001b[0m         \u001b[38;5;28;43mself\u001b[39;49m\u001b[38;5;241;43m.\u001b[39;49m\u001b[43m_init\u001b[49m\u001b[43m(\u001b[49m\u001b[43mdata\u001b[49m\u001b[43m,\u001b[49m\u001b[43m \u001b[49m\u001b[43mlabel\u001b[49m\u001b[43m,\u001b[49m\u001b[43m \u001b[49m\u001b[43mcat_features\u001b[49m\u001b[43m,\u001b[49m\u001b[43m \u001b[49m\u001b[43mtext_features\u001b[49m\u001b[43m,\u001b[49m\u001b[43m \u001b[49m\u001b[43membedding_features\u001b[49m\u001b[43m,\u001b[49m\u001b[43m \u001b[49m\u001b[43membedding_features_data\u001b[49m\u001b[43m,\u001b[49m\u001b[43m \u001b[49m\u001b[43mpairs\u001b[49m\u001b[43m,\u001b[49m\u001b[43m \u001b[49m\u001b[43mweight\u001b[49m\u001b[43m,\u001b[49m\n\u001b[0;32m    793\u001b[0m \u001b[43m                   \u001b[49m\u001b[43mgroup_id\u001b[49m\u001b[43m,\u001b[49m\u001b[43m \u001b[49m\u001b[43mgroup_weight\u001b[49m\u001b[43m,\u001b[49m\u001b[43m \u001b[49m\u001b[43msubgroup_id\u001b[49m\u001b[43m,\u001b[49m\u001b[43m \u001b[49m\u001b[43mpairs_weight\u001b[49m\u001b[43m,\u001b[49m\u001b[43m \u001b[49m\u001b[43mbaseline\u001b[49m\u001b[43m,\u001b[49m\u001b[43m \u001b[49m\u001b[43mtimestamp\u001b[49m\u001b[43m,\u001b[49m\u001b[43m \u001b[49m\u001b[43mfeature_names\u001b[49m\u001b[43m,\u001b[49m\u001b[43m \u001b[49m\u001b[43mfeature_tags\u001b[49m\u001b[43m,\u001b[49m\u001b[43m \u001b[49m\u001b[43mthread_count\u001b[49m\u001b[43m)\u001b[49m\n\u001b[0;32m    794\u001b[0m \u001b[38;5;28msuper\u001b[39m(Pool, \u001b[38;5;28mself\u001b[39m)\u001b[38;5;241m.\u001b[39m\u001b[38;5;21m__init__\u001b[39m()\n",
      "File \u001b[1;32m~\\anaconda3\\lib\\site-packages\\catboost\\core.py:1419\u001b[0m, in \u001b[0;36mPool._init\u001b[1;34m(self, data, label, cat_features, text_features, embedding_features, embedding_features_data, pairs, weight, group_id, group_weight, subgroup_id, pairs_weight, baseline, timestamp, feature_names, feature_tags, thread_count)\u001b[0m\n\u001b[0;32m   1417\u001b[0m \u001b[38;5;28;01mif\u001b[39;00m feature_tags \u001b[38;5;129;01mis\u001b[39;00m \u001b[38;5;129;01mnot\u001b[39;00m \u001b[38;5;28;01mNone\u001b[39;00m:\n\u001b[0;32m   1418\u001b[0m     feature_tags \u001b[38;5;241m=\u001b[39m \u001b[38;5;28mself\u001b[39m\u001b[38;5;241m.\u001b[39m_check_transform_tags(feature_tags, feature_names)\n\u001b[1;32m-> 1419\u001b[0m \u001b[38;5;28;43mself\u001b[39;49m\u001b[38;5;241;43m.\u001b[39;49m\u001b[43m_init_pool\u001b[49m\u001b[43m(\u001b[49m\u001b[43mdata\u001b[49m\u001b[43m,\u001b[49m\u001b[43m \u001b[49m\u001b[43mlabel\u001b[49m\u001b[43m,\u001b[49m\u001b[43m \u001b[49m\u001b[43mcat_features\u001b[49m\u001b[43m,\u001b[49m\u001b[43m \u001b[49m\u001b[43mtext_features\u001b[49m\u001b[43m,\u001b[49m\u001b[43m \u001b[49m\u001b[43membedding_features\u001b[49m\u001b[43m,\u001b[49m\u001b[43m \u001b[49m\u001b[43membedding_features_data\u001b[49m\u001b[43m,\u001b[49m\u001b[43m \u001b[49m\u001b[43mpairs\u001b[49m\u001b[43m,\u001b[49m\u001b[43m \u001b[49m\u001b[43mweight\u001b[49m\u001b[43m,\u001b[49m\n\u001b[0;32m   1420\u001b[0m \u001b[43m                \u001b[49m\u001b[43mgroup_id\u001b[49m\u001b[43m,\u001b[49m\u001b[43m \u001b[49m\u001b[43mgroup_weight\u001b[49m\u001b[43m,\u001b[49m\u001b[43m \u001b[49m\u001b[43msubgroup_id\u001b[49m\u001b[43m,\u001b[49m\u001b[43m \u001b[49m\u001b[43mpairs_weight\u001b[49m\u001b[43m,\u001b[49m\u001b[43m \u001b[49m\u001b[43mbaseline\u001b[49m\u001b[43m,\u001b[49m\u001b[43m \u001b[49m\u001b[43mtimestamp\u001b[49m\u001b[43m,\u001b[49m\u001b[43m \u001b[49m\u001b[43mfeature_names\u001b[49m\u001b[43m,\u001b[49m\u001b[43m \u001b[49m\u001b[43mfeature_tags\u001b[49m\u001b[43m,\u001b[49m\u001b[43m \u001b[49m\u001b[43mthread_count\u001b[49m\u001b[43m)\u001b[49m\n",
      "File \u001b[1;32m_catboost.pyx:3954\u001b[0m, in \u001b[0;36m_catboost._PoolBase._init_pool\u001b[1;34m()\u001b[0m\n",
      "File \u001b[1;32m_catboost.pyx:4004\u001b[0m, in \u001b[0;36m_catboost._PoolBase._init_pool\u001b[1;34m()\u001b[0m\n",
      "File \u001b[1;32m_catboost.pyx:3820\u001b[0m, in \u001b[0;36m_catboost._PoolBase._init_features_order_layout_pool\u001b[1;34m()\u001b[0m\n",
      "File \u001b[1;32m_catboost.pyx:2786\u001b[0m, in \u001b[0;36m_catboost._set_features_order_data_pd_data_frame\u001b[1;34m()\u001b[0m\n",
      "File \u001b[1;32m_catboost.pyx:2327\u001b[0m, in \u001b[0;36m_catboost.create_num_factor_data\u001b[1;34m()\u001b[0m\n",
      "File \u001b[1;32m_catboost.pyx:2288\u001b[0m, in \u001b[0;36m_catboost.get_float_feature\u001b[1;34m()\u001b[0m\n",
      "\u001b[1;31mCatBoostError\u001b[0m: Bad value for num_feature[non_default_doc_idx=0,feature_idx=25]=\"FD001\": Cannot convert 'b'FD001'' to float"
     ]
    }
   ],
   "source": [
    "if 22 == 22:\n",
    "    history, processed = pipeline_gridsearch()"
   ]
  },
  {
   "cell_type": "code",
   "execution_count": 246,
   "metadata": {},
   "outputs": [],
   "source": [
    "best_scores = {}\n",
    "best_estimators = {}\n",
    "for k,v in history.items():\n",
    "    best_scores[k] = history[k][\"regressor\"].best_score_\n",
    "    best_estimators[k] = history[k][\"regressor\"].best_estimator_.get_params() \n",
    " "
   ]
  },
  {
   "cell_type": "code",
   "execution_count": null,
   "metadata": {},
   "outputs": [],
   "source": [
    "  "
   ]
  },
  {
   "cell_type": "code",
   "execution_count": 175,
   "metadata": {},
   "outputs": [
    {
     "data": {
      "image/png": "[encoded data removed]",
      "text/plain": [
       "<Figure size 1080x432 with 1 Axes>"
      ]
     },
     "metadata": {
      "needs_background": "light"
     },
     "output_type": "display_data"
    }
   ],
   "source": [
    "best = {k: v if v>0 else 0 for k,v in best_scores.items()}\n",
    "\n",
    "plt.figure(figsize=(15,6))\n",
    "\n",
    "plt.plot(best.keys(), best.values())\n",
    "plt.xticks(rotation = 45, fontsize=12)\n",
    "plt.axhline(y = 0.5, color = 'r', linestyle = '-')\n",
    "plt.show()    "
   ]
  },
  {
   "cell_type": "code",
   "execution_count": null,
   "metadata": {},
   "outputs": [],
   "source": [
    " "
   ]
  },
  {
   "cell_type": "code",
   "execution_count": null,
   "metadata": {},
   "outputs": [],
   "source": [
    " "
   ]
  },
  {
   "cell_type": "code",
   "execution_count": null,
   "metadata": {},
   "outputs": [],
   "source": []
  }
 ],
 "metadata": {
  "kernelspec": {
   "display_name": "prmpy39",
   "language": "python",
   "name": "prmpy39"
  },
  "language_info": {
   "codemirror_mode": {
    "name": "ipython",
    "version": 3
   },
   "file_extension": ".py",
   "mimetype": "text/x-python",
   "name": "python",
   "nbconvert_exporter": "python",
   "pygments_lexer": "ipython3",
   "version": "3.9.12"
  }
 },
 "nbformat": 4,
 "nbformat_minor": 4
}
