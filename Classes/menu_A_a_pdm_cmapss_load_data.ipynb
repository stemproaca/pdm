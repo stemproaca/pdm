{
 "cells": [
  {
   "cell_type": "markdown",
   "metadata": {},
   "source": [
    "<font size = 6 color = green><b> Predicitive Maintenance / 智能性维护实例 </b></font>\n",
    "# Menu A-a: Load Load / 读取数据 "
   ]
  },
  {
   "cell_type": "markdown",
   "metadata": {},
   "source": [
    "# Libraries / 工具库"
   ]
  },
  {
   "cell_type": "code",
   "execution_count": 1,
   "metadata": {},
   "outputs": [],
   "source": [
    "import os\n",
    "import re\n",
    "import numpy as np \n",
    "from pathlib import Path \n",
    "import zipfile\n",
    "import pandas as pd\n",
    "import warnings\n",
    "\n",
    "warnings.filterwarnings('ignore')\n",
    "warnings.simplefilter('ignore')"
   ]
  },
  {
   "cell_type": "markdown",
   "metadata": {},
   "source": [
    "## Pre-requisite / 准备工作\n",
    "* Download / 下载压缩数据 from https://onedrive.live.com/?cid=7CAD6DA55D313592&id=7CAD6DA55D313592%21159&parId=7CAD6DA55D313592%21158&o=OneUp \n",
    "* Save CMAPSS zipfile to  C:/pdm/zipraw / 把下载的压缩文件存放在 C:/pdm/zipraw    \n",
    "  （ or / 或 d:/pdm/zipraw）\n",
    "* Unzipped data will be stored in raw data folder \n"
   ]
  },
  {
   "cell_type": "markdown",
   "metadata": {},
   "source": [
    "## Prepare folders / 准备文件夹"
   ]
  },
  {
   "cell_type": "code",
   "execution_count": null,
   "metadata": {},
   "outputs": [],
   "source": [
    " "
   ]
  },
  {
   "cell_type": "code",
   "execution_count": 2,
   "metadata": {},
   "outputs": [],
   "source": [
    "def get_file_paths(data_parent_folder = None):\n",
    "    file_paths = {}\n",
    "    if not data_parent_folder:\n",
    "        data_parent_folder = os.path.dirname(os.getcwd())\n",
    "    file_paths[\"parent_folder\"] = data_parent_folder\n",
    "    file_paths[\"raw_data_path\"] = data_parent_folder + '/raw_data'\n",
    "    file_paths[\"zip_data_path\"] = data_parent_folder + '/zipraw'\n",
    "    file_paths[\"unzip_to_path\"] = data_parent_folder + '/raw_data'\n",
    "    return file_paths "
   ]
  },
  {
   "cell_type": "markdown",
   "metadata": {},
   "source": [
    "### execute for this notebook/执行"
   ]
  },
  {
   "cell_type": "code",
   "execution_count": 4,
   "metadata": {},
   "outputs": [
    {
     "name": "stdout",
     "output_type": "stream",
     "text": [
      "{'parent_folder': 'c:\\\\pdm', 'raw_data_path': 'c:\\\\pdm/raw_data', 'zip_data_path': 'c:\\\\pdm/zipraw', 'unzip_to_path': 'c:\\\\pdm/raw_data'}\n"
     ]
    }
   ],
   "source": [
    "\n",
    "FILE_PATHS = get_file_paths()\n",
    "print(FILE_PATHS)"
   ]
  },
  {
   "cell_type": "markdown",
   "metadata": {},
   "source": [
    "## Unzip Ulitity / 解压\n",
    "* Use zipfile library to unzip / 用 zipfile 工具包解压"
   ]
  },
  {
   "cell_type": "code",
   "execution_count": 6,
   "metadata": {},
   "outputs": [
    {
     "data": {
      "text/plain": [
       "'c:\\\\pdm/zipraw/CMAPSS.zip'"
      ]
     },
     "execution_count": 6,
     "metadata": {},
     "output_type": "execute_result"
    }
   ],
   "source": [
    "f'{FILE_PATHS[\"zip_data_path\"]}/CMAPSS.zip' "
   ]
  },
  {
   "cell_type": "code",
   "execution_count": 8,
   "metadata": {},
   "outputs": [],
   "source": [
    "def unzip_files(zip_file_name = None,  remove_zipped = False):\n",
    "    if not zip_file_name:  \n",
    "        zip_file_name = f'{FILE_PATHS[\"zip_data_path\"]}/CMAPSS.zip'\n",
    "\n",
    "    if not os.path.exists(FILE_PATHS[\"zip_data_path\"]):\n",
    "        os.makedirs(FILE_PATHS[\"zip_data_path\"])\n",
    "\n",
    "    with zipfile.ZipFile(zip_file_name, 'r') as zip_ref:\n",
    "        zip_ref.extractall(FILE_PATHS[\"unzip_to_path\"])\n",
    "\n",
    "    if remove_zipped: \n",
    "        os.remove(zip_file_name)\n",
    "\n",
    "    return [FILE_PATHS[\"unzip_to_path\"] + \"/\" + file for file in os.listdir(FILE_PATHS[\"unzip_to_path\"])]\n"
   ]
  },
  {
   "cell_type": "markdown",
   "metadata": {},
   "source": [
    "## File System Manipulations / 文件处理\n",
    "* Use regex / 用Regex"
   ]
  },
  {
   "cell_type": "code",
   "execution_count": 16,
   "metadata": {},
   "outputs": [],
   "source": [
    "def list_data_files(): \n",
    "    return [FILE_PATHS[\"raw_data_path\"] + \"/\" + file for file in os.listdir(FILE_PATHS[\"raw_data_path\"])] "
   ]
  },
  {
   "cell_type": "code",
   "execution_count": 18,
   "metadata": {},
   "outputs": [],
   "source": [
    "def get_files_regex(file_name_str = \"test\"): \n",
    "    raw_files = list_data_files()\n",
    "    regex = re.compile(f\".+{file_name_str}.+gz\")  \n",
    "    raw_data_files = [f for f in raw_files if re.match(regex, f)]\n",
    "    return raw_data_files"
   ]
  },
  {
   "cell_type": "code",
   "execution_count": null,
   "metadata": {},
   "outputs": [],
   "source": [
    " "
   ]
  },
  {
   "cell_type": "markdown",
   "metadata": {},
   "source": [
    "## Load to dataframe / 读取到 pandas DataFrames"
   ]
  },
  {
   "cell_type": "code",
   "execution_count": 29,
   "metadata": {},
   "outputs": [],
   "source": [
    "def read_data_files(file_name_str = \"train\", use_pd = True, sep = \" \", columns = None):  \n",
    "    if not columns:\n",
    "        columns=[\"id\",\"cycle\",\"op1\",\"op2\",\"op3\",\"sensor1\",\"sensor2\",\"sensor3\",\"sensor4\",\"sensor5\",\"sensor6\",\"sensor7\",\"sensor8\",\n",
    "            \"sensor9\",\"sensor10\",\"sensor11\",\"sensor12\",\"sensor13\",\"sensor14\",\"sensor15\",\"sensor16\",\"sensor17\",\"sensor18\",\"sensor19\"\n",
    "            ,\"sensor20\",\"sensor21\" ]  \n",
    "\n",
    "    raw_data_files = get_files_regex(file_name_str =file_name_str) \n",
    "\n",
    "    df_total =  pd.DataFrame() \n",
    "    for f in raw_data_files: \n",
    "        if use_pd:\n",
    "            df_ = pd.read_csv(f, compression='gzip',index_col = False, names = columns, sep=' ')\n",
    "        else: \n",
    "            df_= pd.DataFrame(np.loadtxt(f), columns=columns) \n",
    "        df_[[\"id\", \"cycle\"]] = df_[[\"id\", \"cycle\"]].astype(int)\n",
    "            \n",
    "        flag = re.findall(r\"FD\\d{3}\", str(f))[0]\n",
    "        df_[\"Flag\"] = flag \n",
    "        if df_total.empty:\n",
    "            df_total = df_.copy()\n",
    "        else: \n",
    "            df_total = pd.concat([df_total, df_], axis = 0 ) \n",
    "    \n",
    "    return df_total \n",
    "\n"
   ]
  },
  {
   "cell_type": "code",
   "execution_count": 33,
   "metadata": {},
   "outputs": [],
   "source": [
    " "
   ]
  },
  {
   "cell_type": "code",
   "execution_count": null,
   "metadata": {},
   "outputs": [],
   "source": [
    " "
   ]
  },
  {
   "cell_type": "code",
   "execution_count": null,
   "metadata": {},
   "outputs": [],
   "source": [
    " "
   ]
  },
  {
   "cell_type": "code",
   "execution_count": 38,
   "metadata": {},
   "outputs": [],
   "source": [
    "def read_result(file_name_str = \"RUL_FD\", use_pd = True, sep = \" \", columns = None):\n",
    "    raw_data_files = get_files_regex(file_name_str =file_name_str)  \n",
    "    if not columns:\n",
    "        columns = [\"rul\"]\n",
    "\n",
    "    df_result =  pd.DataFrame() \n",
    "    for f in raw_data_files:\n",
    "        if use_pd: \n",
    "            df_ = pd.read_csv(f, compression='gzip', index_col = False, names = columns, sep = sep)\n",
    "        else:\n",
    "            df_= pd.DataFrame(np.loadtxt(f), columns = columns) \n",
    "        flag = re.findall(r\"FD\\d{3}\", str(f))[0]\n",
    "        df_[\"Flag\"] = flag \n",
    "        if df_result.empty:\n",
    "            df_result = df_.copy()\n",
    "        else: \n",
    "            df_result = pd.concat([df_result, df_], axis = 0 ) \n",
    "    return df_result\n",
    "    "
   ]
  },
  {
   "cell_type": "code",
   "execution_count": 39,
   "metadata": {},
   "outputs": [],
   "source": [
    " "
   ]
  },
  {
   "cell_type": "code",
   "execution_count": null,
   "metadata": {},
   "outputs": [],
   "source": [
    " "
   ]
  },
  {
   "cell_type": "code",
   "execution_count": null,
   "metadata": {},
   "outputs": [],
   "source": []
  },
  {
   "cell_type": "markdown",
   "metadata": {},
   "source": [
    "## Sum Up: prepare train, test and result file / 主程序"
   ]
  },
  {
   "cell_type": "code",
   "execution_count": 58,
   "metadata": {},
   "outputs": [],
   "source": [
    "def prepare_dfs(use_pd = True, sep = \" \"): \n",
    "      \n",
    "     columns=[\"id\",\"cycle\",\"op1\",\"op2\",\"op3\",\"sensor1\",\"sensor2\",\"sensor3\",\"sensor4\",\"sensor5\",\"sensor6\",\"sensor7\",\"sensor8\",\n",
    "          \"sensor9\",\"sensor10\",\"sensor11\",\"sensor12\",\"sensor13\",\"sensor14\",\"sensor15\",\"sensor16\",\"sensor17\",\"sensor18\",\"sensor19\"\n",
    "          ,\"sensor20\",\"sensor21\" ] \n",
    "\n",
    "     # Train\n",
    "     df_train = read_data_files( file_name_str = \"train\", use_pd = use_pd, sep = \" \", columns = columns)\n",
    "     # Test\n",
    "     df_test = read_data_files( file_name_str = \"test\", use_pd = use_pd, sep = \" \", columns = columns)\n",
    "\n",
    "     resul_columns = [\"rul\"]\n",
    "     df_result = read_result(file_name_str = \"RUL_FD\", \\\n",
    "          use_pd = use_pd, sep =sep, columns = resul_columns)\n",
    " \n",
    "     df_train.iloc[:, [0,1]] = df_train.iloc[:, [0,1]].astype(int)\n",
    "     df_test.iloc[:, [0,1]] = df_test.iloc[:, [0,1]].astype(int) \n",
    "\n",
    "     df_max = df_test.groupby([\"Flag\",\"id\"])[\"cycle\"].max().reset_index()\n",
    "     df_result = df_result.reset_index()\n",
    "     df_result[\"id\"] = df_result.groupby(\"Flag\")[\"index\"].rank(\"first\", ascending = True).astype(int)\n",
    "     df_result.drop(columns = [\"index\"], inplace = True)\n",
    "     \n",
    "     df_result = df_result.merge(df_max, on = [\"Flag\", \"id\"], how = \"inner\")\n",
    "      \n",
    "     df_result[\"rul_failed\"] = df_result[\"rul\"] + df_result[\"cycle\"]\n",
    "\n",
    "     df_test = df_test.merge(df_result[[\"rul_failed\", \"Flag\", \"id\"]], on = [\"Flag\", \"id\"], how = \"inner\")\n",
    "     df_test[\"remaining_rul\"] = df_test[\"rul_failed\"] - df_test[\"cycle\"]\n",
    "\n",
    "     #df_test[[\"rul_failed\", \"remaining_rul\"]] = df_test[[\"rul_failed\", \"remaining_rul\"]].astype(int)\n",
    "     return df_train, df_test, df_result\n"
   ]
  },
  {
   "cell_type": "markdown",
   "metadata": {},
   "source": [
    "## Call  prepare_dfs（）  / 调用主程序"
   ]
  },
  {
   "cell_type": "code",
   "execution_count": 59,
   "metadata": {},
   "outputs": [],
   "source": [
    "df_train, df_test, df_result = prepare_dfs(use_pd=True)"
   ]
  },
  {
   "cell_type": "code",
   "execution_count": 61,
   "metadata": {},
   "outputs": [
    {
     "data": {
      "text/html": [
       "<div>\n",
       "<style scoped>\n",
       "    .dataframe tbody tr th:only-of-type {\n",
       "        vertical-align: middle;\n",
       "    }\n",
       "\n",
       "    .dataframe tbody tr th {\n",
       "        vertical-align: top;\n",
       "    }\n",
       "\n",
       "    .dataframe thead th {\n",
       "        text-align: right;\n",
       "    }\n",
       "</style>\n",
       "<table border=\"1\" class=\"dataframe\">\n",
       "  <thead>\n",
       "    <tr style=\"text-align: right;\">\n",
       "      <th></th>\n",
       "      <th>id</th>\n",
       "      <th>cycle</th>\n",
       "      <th>op1</th>\n",
       "      <th>op2</th>\n",
       "      <th>op3</th>\n",
       "      <th>sensor1</th>\n",
       "      <th>sensor2</th>\n",
       "      <th>sensor3</th>\n",
       "      <th>sensor4</th>\n",
       "      <th>sensor5</th>\n",
       "      <th>...</th>\n",
       "      <th>sensor13</th>\n",
       "      <th>sensor14</th>\n",
       "      <th>sensor15</th>\n",
       "      <th>sensor16</th>\n",
       "      <th>sensor17</th>\n",
       "      <th>sensor18</th>\n",
       "      <th>sensor19</th>\n",
       "      <th>sensor20</th>\n",
       "      <th>sensor21</th>\n",
       "      <th>Flag</th>\n",
       "    </tr>\n",
       "  </thead>\n",
       "  <tbody>\n",
       "    <tr>\n",
       "      <th>0</th>\n",
       "      <td>1</td>\n",
       "      <td>1</td>\n",
       "      <td>-0.0007</td>\n",
       "      <td>-0.0004</td>\n",
       "      <td>100.0</td>\n",
       "      <td>518.67</td>\n",
       "      <td>641.82</td>\n",
       "      <td>1589.70</td>\n",
       "      <td>1400.60</td>\n",
       "      <td>14.62</td>\n",
       "      <td>...</td>\n",
       "      <td>2388.02</td>\n",
       "      <td>8138.62</td>\n",
       "      <td>8.4195</td>\n",
       "      <td>0.03</td>\n",
       "      <td>392</td>\n",
       "      <td>2388</td>\n",
       "      <td>100.0</td>\n",
       "      <td>39.06</td>\n",
       "      <td>23.4190</td>\n",
       "      <td>FD001</td>\n",
       "    </tr>\n",
       "    <tr>\n",
       "      <th>1</th>\n",
       "      <td>1</td>\n",
       "      <td>2</td>\n",
       "      <td>0.0019</td>\n",
       "      <td>-0.0003</td>\n",
       "      <td>100.0</td>\n",
       "      <td>518.67</td>\n",
       "      <td>642.15</td>\n",
       "      <td>1591.82</td>\n",
       "      <td>1403.14</td>\n",
       "      <td>14.62</td>\n",
       "      <td>...</td>\n",
       "      <td>2388.07</td>\n",
       "      <td>8131.49</td>\n",
       "      <td>8.4318</td>\n",
       "      <td>0.03</td>\n",
       "      <td>392</td>\n",
       "      <td>2388</td>\n",
       "      <td>100.0</td>\n",
       "      <td>39.00</td>\n",
       "      <td>23.4236</td>\n",
       "      <td>FD001</td>\n",
       "    </tr>\n",
       "    <tr>\n",
       "      <th>2</th>\n",
       "      <td>1</td>\n",
       "      <td>3</td>\n",
       "      <td>-0.0043</td>\n",
       "      <td>0.0003</td>\n",
       "      <td>100.0</td>\n",
       "      <td>518.67</td>\n",
       "      <td>642.35</td>\n",
       "      <td>1587.99</td>\n",
       "      <td>1404.20</td>\n",
       "      <td>14.62</td>\n",
       "      <td>...</td>\n",
       "      <td>2388.03</td>\n",
       "      <td>8133.23</td>\n",
       "      <td>8.4178</td>\n",
       "      <td>0.03</td>\n",
       "      <td>390</td>\n",
       "      <td>2388</td>\n",
       "      <td>100.0</td>\n",
       "      <td>38.95</td>\n",
       "      <td>23.3442</td>\n",
       "      <td>FD001</td>\n",
       "    </tr>\n",
       "    <tr>\n",
       "      <th>3</th>\n",
       "      <td>1</td>\n",
       "      <td>4</td>\n",
       "      <td>0.0007</td>\n",
       "      <td>0.0000</td>\n",
       "      <td>100.0</td>\n",
       "      <td>518.67</td>\n",
       "      <td>642.35</td>\n",
       "      <td>1582.79</td>\n",
       "      <td>1401.87</td>\n",
       "      <td>14.62</td>\n",
       "      <td>...</td>\n",
       "      <td>2388.08</td>\n",
       "      <td>8133.83</td>\n",
       "      <td>8.3682</td>\n",
       "      <td>0.03</td>\n",
       "      <td>392</td>\n",
       "      <td>2388</td>\n",
       "      <td>100.0</td>\n",
       "      <td>38.88</td>\n",
       "      <td>23.3739</td>\n",
       "      <td>FD001</td>\n",
       "    </tr>\n",
       "    <tr>\n",
       "      <th>4</th>\n",
       "      <td>1</td>\n",
       "      <td>5</td>\n",
       "      <td>-0.0019</td>\n",
       "      <td>-0.0002</td>\n",
       "      <td>100.0</td>\n",
       "      <td>518.67</td>\n",
       "      <td>642.37</td>\n",
       "      <td>1582.85</td>\n",
       "      <td>1406.22</td>\n",
       "      <td>14.62</td>\n",
       "      <td>...</td>\n",
       "      <td>2388.04</td>\n",
       "      <td>8133.80</td>\n",
       "      <td>8.4294</td>\n",
       "      <td>0.03</td>\n",
       "      <td>393</td>\n",
       "      <td>2388</td>\n",
       "      <td>100.0</td>\n",
       "      <td>38.90</td>\n",
       "      <td>23.4044</td>\n",
       "      <td>FD001</td>\n",
       "    </tr>\n",
       "    <tr>\n",
       "      <th>...</th>\n",
       "      <td>...</td>\n",
       "      <td>...</td>\n",
       "      <td>...</td>\n",
       "      <td>...</td>\n",
       "      <td>...</td>\n",
       "      <td>...</td>\n",
       "      <td>...</td>\n",
       "      <td>...</td>\n",
       "      <td>...</td>\n",
       "      <td>...</td>\n",
       "      <td>...</td>\n",
       "      <td>...</td>\n",
       "      <td>...</td>\n",
       "      <td>...</td>\n",
       "      <td>...</td>\n",
       "      <td>...</td>\n",
       "      <td>...</td>\n",
       "      <td>...</td>\n",
       "      <td>...</td>\n",
       "      <td>...</td>\n",
       "      <td>...</td>\n",
       "    </tr>\n",
       "    <tr>\n",
       "      <th>61244</th>\n",
       "      <td>249</td>\n",
       "      <td>251</td>\n",
       "      <td>9.9998</td>\n",
       "      <td>0.2500</td>\n",
       "      <td>100.0</td>\n",
       "      <td>489.05</td>\n",
       "      <td>605.33</td>\n",
       "      <td>1516.36</td>\n",
       "      <td>1315.28</td>\n",
       "      <td>10.52</td>\n",
       "      <td>...</td>\n",
       "      <td>2388.73</td>\n",
       "      <td>8185.69</td>\n",
       "      <td>8.4541</td>\n",
       "      <td>0.03</td>\n",
       "      <td>372</td>\n",
       "      <td>2319</td>\n",
       "      <td>100.0</td>\n",
       "      <td>29.11</td>\n",
       "      <td>17.5234</td>\n",
       "      <td>FD004</td>\n",
       "    </tr>\n",
       "    <tr>\n",
       "      <th>61245</th>\n",
       "      <td>249</td>\n",
       "      <td>252</td>\n",
       "      <td>0.0028</td>\n",
       "      <td>0.0015</td>\n",
       "      <td>100.0</td>\n",
       "      <td>518.67</td>\n",
       "      <td>643.42</td>\n",
       "      <td>1598.92</td>\n",
       "      <td>1426.77</td>\n",
       "      <td>14.62</td>\n",
       "      <td>...</td>\n",
       "      <td>2388.46</td>\n",
       "      <td>8185.47</td>\n",
       "      <td>8.2221</td>\n",
       "      <td>0.03</td>\n",
       "      <td>396</td>\n",
       "      <td>2388</td>\n",
       "      <td>100.0</td>\n",
       "      <td>39.38</td>\n",
       "      <td>23.7151</td>\n",
       "      <td>FD004</td>\n",
       "    </tr>\n",
       "    <tr>\n",
       "      <th>61246</th>\n",
       "      <td>249</td>\n",
       "      <td>253</td>\n",
       "      <td>0.0029</td>\n",
       "      <td>0.0000</td>\n",
       "      <td>100.0</td>\n",
       "      <td>518.67</td>\n",
       "      <td>643.68</td>\n",
       "      <td>1607.72</td>\n",
       "      <td>1430.56</td>\n",
       "      <td>14.62</td>\n",
       "      <td>...</td>\n",
       "      <td>2388.48</td>\n",
       "      <td>8193.94</td>\n",
       "      <td>8.2525</td>\n",
       "      <td>0.03</td>\n",
       "      <td>395</td>\n",
       "      <td>2388</td>\n",
       "      <td>100.0</td>\n",
       "      <td>39.78</td>\n",
       "      <td>23.8270</td>\n",
       "      <td>FD004</td>\n",
       "    </tr>\n",
       "    <tr>\n",
       "      <th>61247</th>\n",
       "      <td>249</td>\n",
       "      <td>254</td>\n",
       "      <td>35.0046</td>\n",
       "      <td>0.8400</td>\n",
       "      <td>100.0</td>\n",
       "      <td>449.44</td>\n",
       "      <td>555.77</td>\n",
       "      <td>1381.29</td>\n",
       "      <td>1148.18</td>\n",
       "      <td>5.48</td>\n",
       "      <td>...</td>\n",
       "      <td>2388.83</td>\n",
       "      <td>8125.64</td>\n",
       "      <td>9.0515</td>\n",
       "      <td>0.02</td>\n",
       "      <td>337</td>\n",
       "      <td>2223</td>\n",
       "      <td>100.0</td>\n",
       "      <td>15.26</td>\n",
       "      <td>9.0774</td>\n",
       "      <td>FD004</td>\n",
       "    </tr>\n",
       "    <tr>\n",
       "      <th>61248</th>\n",
       "      <td>249</td>\n",
       "      <td>255</td>\n",
       "      <td>42.0030</td>\n",
       "      <td>0.8400</td>\n",
       "      <td>100.0</td>\n",
       "      <td>445.00</td>\n",
       "      <td>549.85</td>\n",
       "      <td>1369.75</td>\n",
       "      <td>1147.45</td>\n",
       "      <td>3.91</td>\n",
       "      <td>...</td>\n",
       "      <td>2388.66</td>\n",
       "      <td>8144.33</td>\n",
       "      <td>9.1207</td>\n",
       "      <td>0.02</td>\n",
       "      <td>333</td>\n",
       "      <td>2212</td>\n",
       "      <td>100.0</td>\n",
       "      <td>10.66</td>\n",
       "      <td>6.4341</td>\n",
       "      <td>FD004</td>\n",
       "    </tr>\n",
       "  </tbody>\n",
       "</table>\n",
       "<p>160359 rows × 27 columns</p>\n",
       "</div>"
      ],
      "text/plain": [
       "        id  cycle      op1     op2    op3  sensor1  sensor2  sensor3  sensor4  \\\n",
       "0        1      1  -0.0007 -0.0004  100.0   518.67   641.82  1589.70  1400.60   \n",
       "1        1      2   0.0019 -0.0003  100.0   518.67   642.15  1591.82  1403.14   \n",
       "2        1      3  -0.0043  0.0003  100.0   518.67   642.35  1587.99  1404.20   \n",
       "3        1      4   0.0007  0.0000  100.0   518.67   642.35  1582.79  1401.87   \n",
       "4        1      5  -0.0019 -0.0002  100.0   518.67   642.37  1582.85  1406.22   \n",
       "...    ...    ...      ...     ...    ...      ...      ...      ...      ...   \n",
       "61244  249    251   9.9998  0.2500  100.0   489.05   605.33  1516.36  1315.28   \n",
       "61245  249    252   0.0028  0.0015  100.0   518.67   643.42  1598.92  1426.77   \n",
       "61246  249    253   0.0029  0.0000  100.0   518.67   643.68  1607.72  1430.56   \n",
       "61247  249    254  35.0046  0.8400  100.0   449.44   555.77  1381.29  1148.18   \n",
       "61248  249    255  42.0030  0.8400  100.0   445.00   549.85  1369.75  1147.45   \n",
       "\n",
       "       sensor5  ...  sensor13  sensor14  sensor15  sensor16  sensor17  \\\n",
       "0        14.62  ...   2388.02   8138.62    8.4195      0.03       392   \n",
       "1        14.62  ...   2388.07   8131.49    8.4318      0.03       392   \n",
       "2        14.62  ...   2388.03   8133.23    8.4178      0.03       390   \n",
       "3        14.62  ...   2388.08   8133.83    8.3682      0.03       392   \n",
       "4        14.62  ...   2388.04   8133.80    8.4294      0.03       393   \n",
       "...        ...  ...       ...       ...       ...       ...       ...   \n",
       "61244    10.52  ...   2388.73   8185.69    8.4541      0.03       372   \n",
       "61245    14.62  ...   2388.46   8185.47    8.2221      0.03       396   \n",
       "61246    14.62  ...   2388.48   8193.94    8.2525      0.03       395   \n",
       "61247     5.48  ...   2388.83   8125.64    9.0515      0.02       337   \n",
       "61248     3.91  ...   2388.66   8144.33    9.1207      0.02       333   \n",
       "\n",
       "       sensor18  sensor19  sensor20  sensor21   Flag  \n",
       "0          2388     100.0     39.06   23.4190  FD001  \n",
       "1          2388     100.0     39.00   23.4236  FD001  \n",
       "2          2388     100.0     38.95   23.3442  FD001  \n",
       "3          2388     100.0     38.88   23.3739  FD001  \n",
       "4          2388     100.0     38.90   23.4044  FD001  \n",
       "...         ...       ...       ...       ...    ...  \n",
       "61244      2319     100.0     29.11   17.5234  FD004  \n",
       "61245      2388     100.0     39.38   23.7151  FD004  \n",
       "61246      2388     100.0     39.78   23.8270  FD004  \n",
       "61247      2223     100.0     15.26    9.0774  FD004  \n",
       "61248      2212     100.0     10.66    6.4341  FD004  \n",
       "\n",
       "[160359 rows x 27 columns]"
      ]
     },
     "execution_count": 61,
     "metadata": {},
     "output_type": "execute_result"
    }
   ],
   "source": [
    " "
   ]
  },
  {
   "cell_type": "code",
   "execution_count": null,
   "metadata": {},
   "outputs": [],
   "source": []
  }
 ],
 "metadata": {
  "kernelspec": {
   "display_name": "Python 3 (ipykernel)",
   "language": "python",
   "name": "python3"
  },
  "language_info": {
   "codemirror_mode": {
    "name": "ipython",
    "version": 3
   },
   "file_extension": ".py",
   "mimetype": "text/x-python",
   "name": "python",
   "nbconvert_exporter": "python",
   "pygments_lexer": "ipython3",
   "version": "3.9.12"
  },
  "vscode": {
   "interpreter": {
    "hash": "3361607028a07fbbc80f378608ecaa72f5ffca90043f5aaa255f4292887cf27e"
   }
  }
 },
 "nbformat": 4,
 "nbformat_minor": 4
}
