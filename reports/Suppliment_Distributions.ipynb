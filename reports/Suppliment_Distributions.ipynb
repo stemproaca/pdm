{
 "cells": [
  {
   "cell_type": "markdown",
   "id": "506e8a30-312b-4cac-9508-e999b7402bd9",
   "metadata": {},
   "source": [
    "# Classification Overview\n",
    "* Methods overview\n",
    "* Data preparation and DNN\n"
   ]
  },
  {
   "cell_type": "markdown",
   "id": "814739a3-ca58-470d-b2a1-e8cd23f6ab2d",
   "metadata": {},
   "source": [
    "# Libs"
   ]
  },
  {
   "cell_type": "code",
   "execution_count": 3,
   "id": "3af10d50-4d31-4279-95a8-54b5b88da849",
   "metadata": {},
   "outputs": [],
   "source": [
    "import os\n",
    "import re\n",
    "import sys\n",
    "import pandas as pd\n",
    "import numpy as np\n",
    "\n",
    "#to plot the data\n",
    "import matplotlib.pyplot as plt\n",
    "import seaborn as sns\n",
    "\n",
    "import matplotlib as mpl\n",
    "mpl.rcParams.update(mpl.rcParamsDefault)\n",
    "\n",
    "import time   \n",
    "from sklearn.preprocessing import MinMaxScaler, StandardScaler, RobustScaler\n",
    "from sklearn.preprocessing import Normalizer\n",
    "from sklearn.preprocessing import minmax_scale\n",
    "from sklearn.linear_model import LinearRegression\n",
    "from sklearn.metrics import (classification_report, confusion_matrix, \\\n",
    "                             roc_curve, roc_auc_score, precision_score, recall_score)\n",
    "from sklearn.metrics import mean_squared_error, mean_absolute_error\n",
    "from sklearn.utils import class_weight\n",
    "\n",
    "from statsmodels.stats.outliers_influence import variance_inflation_factor\n",
    "\n",
    "from sklearn.model_selection import train_test_split\n",
    " \n",
    "from fitter import Fitter, get_common_distributions, get_distributions\n",
    "\n",
    "from collections import Counter\n",
    "import missingno as mn \n",
    "import random\n",
    "from copy import deepcopy \n",
    "\n",
    "from sklearn import ensemble \n",
    "from sklearn import tree  \n",
    "from sklearn import kernel_ridge\n",
    "\n",
    "from sklearn.preprocessing import scale\n",
    "\n",
    "from sklearn import linear_model \n",
    "from sklearn import decomposition\n",
    "from sklearn import svm \n",
    "import catboost  \n",
    "import lightgbm \n",
    "\n",
    "from sklearn.model_selection import KFold, cross_val_score, train_test_split\n",
    "from sklearn.metrics import mean_squared_error, r2_score, mean_absolute_error, f1_score,confusion_matrix, accuracy_score\n",
    "from sklearn.model_selection import RepeatedKFold\n",
    "from sklearn import model_selection \n",
    "\n",
    "from sklearn.pipeline import make_pipeline, Pipeline\n",
    "from sklearn.model_selection import GridSearchCV \n",
    "\n",
    "from scipy.stats import pearsonr \n",
    "from dtaidistance import dtw, dtw_ndim\n",
    "from kneed import DataGenerator, KneeLocator\n",
    "from  sklearn.feature_selection import VarianceThreshold\n",
    "\n",
    "from statsmodels.tsa.stattools import adfuller \n",
    "from scipy.fft import fft, ifft\n",
    "from IPython.display import display, Markdown, Image\n",
    "\n",
    "import tensorflow as tf\n",
    "from tensorflow.keras import Sequential\n",
    "from tensorflow.keras.layers import LSTM, Dense, Dropout, Masking, TimeDistributed\n",
    "from tensorflow.keras.models import load_model\n",
    "from tensorflow.keras.optimizers import RMSprop \n",
    "from tensorflow.keras.callbacks import History\n",
    "from tensorflow.keras import callbacks\n",
    "  \n",
    "import warnings\n",
    "warnings.simplefilter(\"ignore\")"
   ]
  },
  {
   "cell_type": "code",
   "execution_count": 4,
   "id": "11ca009a-e328-4c97-b9ce-66825e2aa8eb",
   "metadata": {},
   "outputs": [],
   "source": [
    "\n",
    "FEATURES = ['sensor2',\n",
    " 'sensor3',\n",
    " 'sensor4',\n",
    " 'sensor7',\n",
    " 'sensor8',\n",
    " 'sensor9',\n",
    " 'sensor11',\n",
    " 'sensor12',\n",
    " 'sensor13',\n",
    " 'sensor14',\n",
    " 'sensor15',\n",
    " 'sensor17',\n",
    " 'sensor20',\n",
    " 'sensor21']"
   ]
  },
  {
   "cell_type": "code",
   "execution_count": 5,
   "id": "f0f1e26e-6490-432e-9228-c9bb14d0b35c",
   "metadata": {},
   "outputs": [],
   "source": [
    "training_file = \"c:/weixiuailight/train.csv\"\n",
    "data_train = pd.read_csv(training_file)\n",
    "data_train[\"rul\"] = data_train.groupby([\"Flag\",\"id\"])[\"cycle\"].transform(\"max\")-data_train[\"cycle\"]\n",
    "\n",
    "X_train, X_test, y_train, y_test = train_test_split(data_train[FEATURES], data_train['rul'].values, test_size=0.4)\n",
    "#X_train = data_train[FEATURES]\n",
    "#y_train = data_train['rul'].values"
   ]
  },
  {
   "cell_type": "code",
   "execution_count": 86,
   "id": "d6b13e7d-df75-4137-b0b7-2c37c4ca6add",
   "metadata": {},
   "outputs": [
    {
     "name": "stderr",
     "output_type": "stream",
     "text": [
      "Fitting 10 distributions:   0%|                                                        | 0/10 [00:00<?, ?it/s]WARNING:root:SKIPPED rayleigh distribution (taking more than 30 seconds)\n",
      "Fitting 10 distributions:  40%|███████████████████▏                            | 4/10 [00:00<00:00, 26.23it/s]WARNING:root:SKIPPED gamma distribution (taking more than 30 seconds)\n",
      "Fitting 10 distributions: 100%|███████████████████████████████████████████████| 10/10 [00:01<00:00,  7.78it/s]\n",
      "Fitting 10 distributions: 100%|███████████████████████████████████████████████| 10/10 [00:01<00:00,  6.57it/s]\n",
      "Fitting 10 distributions: 100%|███████████████████████████████████████████████| 10/10 [00:01<00:00,  6.73it/s]\n",
      "Fitting 10 distributions: 100%|███████████████████████████████████████████████| 10/10 [00:01<00:00,  7.00it/s]\n",
      "Fitting 10 distributions: 100%|███████████████████████████████████████████████| 10/10 [00:01<00:00,  7.39it/s]\n",
      "Fitting 10 distributions: 100%|███████████████████████████████████████████████| 10/10 [00:01<00:00,  5.62it/s]\n",
      "Fitting 10 distributions: 100%|███████████████████████████████████████████████| 10/10 [00:01<00:00,  5.29it/s]\n",
      "Fitting 10 distributions: 100%|███████████████████████████████████████████████| 10/10 [00:01<00:00,  8.06it/s]\n",
      "Fitting 10 distributions: 100%|███████████████████████████████████████████████| 10/10 [00:01<00:00,  6.90it/s]\n",
      "Fitting 10 distributions:  30%|██████████████▍                                 | 3/10 [00:00<00:00, 26.79it/s]WARNING:root:SKIPPED rayleigh distribution (taking more than 30 seconds)\n",
      "WARNING:root:SKIPPED gamma distribution (taking more than 30 seconds)\n",
      "Fitting 10 distributions: 100%|███████████████████████████████████████████████| 10/10 [00:01<00:00,  8.00it/s]\n",
      "Fitting 10 distributions: 100%|███████████████████████████████████████████████| 10/10 [00:01<00:00,  7.73it/s]\n",
      "Fitting 10 distributions: 100%|███████████████████████████████████████████████| 10/10 [00:01<00:00,  5.71it/s]\n",
      "Fitting 10 distributions: 100%|███████████████████████████████████████████████| 10/10 [00:01<00:00,  5.62it/s]\n",
      "Fitting 10 distributions: 100%|███████████████████████████████████████████████| 10/10 [00:01<00:00,  7.85it/s]\n",
      "Fitting 10 distributions: 100%|███████████████████████████████████████████████| 10/10 [00:01<00:00,  7.27it/s]\n",
      "Fitting 10 distributions: 100%|███████████████████████████████████████████████| 10/10 [00:01<00:00,  9.53it/s]\n",
      "Fitting 10 distributions: 100%|███████████████████████████████████████████████| 10/10 [00:01<00:00,  6.97it/s]\n",
      "Fitting 10 distributions:   0%|                                                        | 0/10 [00:00<?, ?it/s]WARNING:root:SKIPPED rayleigh distribution (taking more than 30 seconds)\n",
      "Fitting 10 distributions:  40%|███████████████████▏                            | 4/10 [00:00<00:00, 28.61it/s]WARNING:root:SKIPPED gamma distribution (taking more than 30 seconds)\n",
      "Fitting 10 distributions: 100%|███████████████████████████████████████████████| 10/10 [00:01<00:00,  8.08it/s]\n",
      "Fitting 10 distributions:   0%|                                                        | 0/10 [00:00<?, ?it/s]WARNING:root:SKIPPED rayleigh distribution (taking more than 30 seconds)\n",
      "Fitting 10 distributions:  40%|███████████████████▏                            | 4/10 [00:00<00:00, 26.68it/s]WARNING:root:SKIPPED gamma distribution (taking more than 30 seconds)\n",
      "Fitting 10 distributions: 100%|███████████████████████████████████████████████| 10/10 [00:01<00:00,  7.47it/s]\n",
      "Fitting 10 distributions: 100%|███████████████████████████████████████████████| 10/10 [00:01<00:00,  5.26it/s]\n",
      "Fitting 10 distributions: 100%|███████████████████████████████████████████████| 10/10 [00:01<00:00,  6.02it/s]\n"
     ]
    }
   ],
   "source": [
    "\n",
    "from fitter import Fitter, get_common_distributions, get_distributions\n",
    "distributions = {}\n",
    "for sensor in sensors:  \n",
    "    vals = data_train[sensor]\n",
    "    distr = Fitter(vals,\n",
    "           distributions= get_common_distributions())\n",
    "    distr.fit()\n",
    "    summary = distr.summary()\n",
    "    distributions[sensor] =summary.reset_index().loc[0][0] \n",
    "    \n"
   ]
  },
  {
   "cell_type": "code",
   "execution_count": 91,
   "id": "b35db481-6430-4d2d-8b86-2fecb478474f",
   "metadata": {},
   "outputs": [
    {
     "data": {
      "text/plain": [
       "{'sensor1': {'mean': 518.67,\n",
       "  'max': 518.67,\n",
       "  'min': 518.67,\n",
       "  'std': 6.537151601226413e-11,\n",
       "  'distribution': 'cauchy'},\n",
       " 'sensor2': {'mean': 642.6809335466046,\n",
       "  'max': 644.53,\n",
       "  'min': 641.21,\n",
       "  'std': 0.5000532700606122,\n",
       "  'distribution': 'gamma'},\n",
       " 'sensor3': {'mean': 1590.5231186079204,\n",
       "  'max': 1616.91,\n",
       "  'min': 1571.04,\n",
       "  'std': 6.131149519690787,\n",
       "  'distribution': 'chi2'},\n",
       " 'sensor4': {'mean': 1408.9337816877514,\n",
       "  'max': 1441.49,\n",
       "  'min': 1382.25,\n",
       "  'std': 9.000604780543735,\n",
       "  'distribution': 'gamma'},\n",
       " 'sensor5': {'mean': 14.620000000000001,\n",
       "  'max': 14.62,\n",
       "  'min': 14.62,\n",
       "  'std': 3.3947001929194767e-12,\n",
       "  'distribution': 'cauchy'},\n",
       " 'sensor6': {'mean': 21.60980320876352,\n",
       "  'max': 21.61,\n",
       "  'min': 21.6,\n",
       "  'std': 0.0013889849127070525,\n",
       "  'distribution': 'powerlaw'},\n",
       " 'sensor7': {'mean': 553.367711211284,\n",
       "  'max': 556.06,\n",
       "  'min': 549.85,\n",
       "  'std': 0.885092257663408,\n",
       "  'distribution': 'norm'},\n",
       " 'sensor8': {'mean': 2388.0966516407348,\n",
       "  'max': 2388.56,\n",
       "  'min': 2387.9,\n",
       "  'std': 0.0709854788909189,\n",
       "  'distribution': 'gamma'},\n",
       " 'sensor9': {'mean': 9065.242940720276,\n",
       "  'max': 9244.59,\n",
       "  'min': 9021.73,\n",
       "  'std': 22.08287952506627,\n",
       "  'distribution': 'cauchy'},\n",
       " 'sensor10': {'mean': 1.3,\n",
       "  'max': 1.3,\n",
       "  'min': 1.3,\n",
       "  'std': 4.660829215684185e-13,\n",
       "  'distribution': 'cauchy'},\n",
       " 'sensor11': {'mean': 47.54116814502448,\n",
       "  'max': 48.53,\n",
       "  'min': 46.85,\n",
       "  'std': 0.2670873986396874,\n",
       "  'distribution': 'gamma'},\n",
       " 'sensor12': {'mean': 521.4134700208425,\n",
       "  'max': 523.38,\n",
       "  'min': 518.69,\n",
       "  'std': 0.7375533922097044,\n",
       "  'distribution': 'norm'},\n",
       " 'sensor13': {'mean': 2388.0961523920314,\n",
       "  'max': 2388.56,\n",
       "  'min': 2387.88,\n",
       "  'std': 0.07191891569858286,\n",
       "  'distribution': 'lognorm'},\n",
       " 'sensor14': {'mean': 8143.752722117202,\n",
       "  'max': 8293.72,\n",
       "  'min': 8099.94,\n",
       "  'std': 19.076175975953127,\n",
       "  'distribution': 'cauchy'},\n",
       " 'sensor15': {'mean': 8.44214558189133,\n",
       "  'max': 8.5848,\n",
       "  'min': 8.3249,\n",
       "  'std': 0.03750503795196683,\n",
       "  'distribution': 'gamma'},\n",
       " 'sensor16': {'mean': 0.030000000000000013,\n",
       "  'max': 0.03,\n",
       "  'min': 0.03,\n",
       "  'std': 1.5564316238059236e-14,\n",
       "  'distribution': 'expon'},\n",
       " 'sensor17': {'mean': 393.2106538703892,\n",
       "  'max': 400.0,\n",
       "  'min': 388.0,\n",
       "  'std': 1.5487630246142414,\n",
       "  'distribution': 'gamma'},\n",
       " 'sensor18': {'mean': 2388.0,\n",
       "  'max': 2388.0,\n",
       "  'min': 2388.0,\n",
       "  'std': 0.0,\n",
       "  'distribution': 'chi2'},\n",
       " 'sensor19': {'mean': 100.0,\n",
       "  'max': 100.0,\n",
       "  'min': 100.0,\n",
       "  'std': 0.0,\n",
       "  'distribution': 'chi2'},\n",
       " 'sensor20': {'mean': 38.816270660656286,\n",
       "  'max': 39.43,\n",
       "  'min': 38.14,\n",
       "  'std': 0.18074642787366235,\n",
       "  'distribution': 'exponpow'},\n",
       " 'sensor21': {'mean': 23.289705360864716,\n",
       "  'max': 23.6184,\n",
       "  'min': 22.8942,\n",
       "  'std': 0.10825087474491232,\n",
       "  'distribution': 'exponpow'}}"
      ]
     },
     "execution_count": 91,
     "metadata": {},
     "output_type": "execute_result"
    }
   ],
   "source": [
    "for k, "
   ]
  },
  {
   "cell_type": "code",
   "execution_count": 101,
   "id": "585c0cd8-39de-403b-8e0a-d3fb5afc1afa",
   "metadata": {},
   "outputs": [
    {
     "data": {
      "text/plain": [
       "23.41613108252757"
      ]
     },
     "execution_count": 101,
     "metadata": {},
     "output_type": "execute_result"
    }
   ],
   "source": [
    "from scipy import stats\n",
    "stats.exponpow.rvs(b=2.7, loc=23.289705360864716, scale=.10825087474491232)"
   ]
  },
  {
   "cell_type": "code",
   "execution_count": 103,
   "id": "01e40b05-f2d6-43f9-9dc9-3b5663a08f1e",
   "metadata": {},
   "outputs": [
    {
     "data": {
      "text/plain": [
       "{'sensor1': 'cauchy',\n",
       " 'sensor2': 'gamma',\n",
       " 'sensor3': 'chi2',\n",
       " 'sensor4': 'gamma',\n",
       " 'sensor5': 'cauchy',\n",
       " 'sensor6': 'powerlaw',\n",
       " 'sensor7': 'norm',\n",
       " 'sensor8': 'gamma',\n",
       " 'sensor9': 'cauchy',\n",
       " 'sensor10': 'cauchy',\n",
       " 'sensor11': 'gamma',\n",
       " 'sensor12': 'norm',\n",
       " 'sensor13': 'lognorm',\n",
       " 'sensor14': 'cauchy',\n",
       " 'sensor15': 'gamma',\n",
       " 'sensor16': 'expon',\n",
       " 'sensor17': 'gamma',\n",
       " 'sensor18': 'chi2',\n",
       " 'sensor19': 'chi2',\n",
       " 'sensor20': 'exponpow',\n",
       " 'sensor21': 'exponpow'}"
      ]
     },
     "execution_count": 103,
     "metadata": {},
     "output_type": "execute_result"
    }
   ],
   "source": [
    "lists = {}\n",
    "for k, v in sensor_metadata.items():\n",
    "    lists[k] = v[\"distribution\"]\n",
    "lists\n",
    "    "
   ]
  },
  {
   "cell_type": "code",
   "execution_count": 105,
   "id": "e208a976-b32d-414a-95f2-46eda3b1263c",
   "metadata": {},
   "outputs": [],
   "source": [
    "from scipy.optimize import curve_fit\n"
   ]
  },
  {
   "cell_type": "code",
   "execution_count": 113,
   "id": "f6973eda-7010-48b7-9488-f52c64306f1c",
   "metadata": {},
   "outputs": [],
   "source": [
    "x = np.asarray(data_train[\"sensor21\"])\n",
    "y = np.asarray(data_train[\"cycle\"]) \n",
    "def func_powerlaw(x, m, c, c0):\n",
    "    return c0 + x**m * c \n",
    "popt, pcov = curve_fit(func_powerlaw, x, y, maxfev=200000 )"
   ]
  },
  {
   "cell_type": "code",
   "execution_count": 112,
   "id": "47d6edf4-cd97-4744-9b03-a948a0fa9585",
   "metadata": {},
   "outputs": [
    {
     "data": {
      "text/plain": [
       "array([ 1.26204952e-01, -4.62244710e+04,  6.88812276e+04])"
      ]
     },
     "execution_count": 112,
     "metadata": {},
     "output_type": "execute_result"
    }
   ],
   "source": [
    "popt"
   ]
  },
  {
   "cell_type": "code",
   "execution_count": 89,
   "id": "c7ea7e12-fc38-484b-911b-d89f3a078052",
   "metadata": {},
   "outputs": [
    {
     "data": {
      "text/plain": [
       "{'sensor1': {'mean': 518.67,\n",
       "  'max': 518.67,\n",
       "  'min': 518.67,\n",
       "  'std': 6.537151601226413e-11,\n",
       "  'distribution': 'cauchy'},\n",
       " 'sensor2': {'mean': 642.6809335466046,\n",
       "  'max': 644.53,\n",
       "  'min': 641.21,\n",
       "  'std': 0.5000532700606122,\n",
       "  'distribution': 'gamma'},\n",
       " 'sensor3': {'mean': 1590.5231186079204,\n",
       "  'max': 1616.91,\n",
       "  'min': 1571.04,\n",
       "  'std': 6.131149519690787,\n",
       "  'distribution': 'chi2'},\n",
       " 'sensor4': {'mean': 1408.9337816877514,\n",
       "  'max': 1441.49,\n",
       "  'min': 1382.25,\n",
       "  'std': 9.000604780543735,\n",
       "  'distribution': 'gamma'},\n",
       " 'sensor5': {'mean': 14.620000000000001,\n",
       "  'max': 14.62,\n",
       "  'min': 14.62,\n",
       "  'std': 3.3947001929194767e-12,\n",
       "  'distribution': 'cauchy'},\n",
       " 'sensor6': {'mean': 21.60980320876352,\n",
       "  'max': 21.61,\n",
       "  'min': 21.6,\n",
       "  'std': 0.0013889849127070525,\n",
       "  'distribution': 'powerlaw'},\n",
       " 'sensor7': {'mean': 553.367711211284,\n",
       "  'max': 556.06,\n",
       "  'min': 549.85,\n",
       "  'std': 0.885092257663408,\n",
       "  'distribution': 'norm'},\n",
       " 'sensor8': {'mean': 2388.0966516407348,\n",
       "  'max': 2388.56,\n",
       "  'min': 2387.9,\n",
       "  'std': 0.0709854788909189,\n",
       "  'distribution': 'gamma'},\n",
       " 'sensor9': {'mean': 9065.242940720276,\n",
       "  'max': 9244.59,\n",
       "  'min': 9021.73,\n",
       "  'std': 22.08287952506627,\n",
       "  'distribution': 'cauchy'},\n",
       " 'sensor10': {'mean': 1.3,\n",
       "  'max': 1.3,\n",
       "  'min': 1.3,\n",
       "  'std': 4.660829215684185e-13,\n",
       "  'distribution': 'cauchy'},\n",
       " 'sensor11': {'mean': 47.54116814502448,\n",
       "  'max': 48.53,\n",
       "  'min': 46.85,\n",
       "  'std': 0.2670873986396874,\n",
       "  'distribution': 'gamma'},\n",
       " 'sensor12': {'mean': 521.4134700208425,\n",
       "  'max': 523.38,\n",
       "  'min': 518.69,\n",
       "  'std': 0.7375533922097044,\n",
       "  'distribution': 'norm'},\n",
       " 'sensor13': {'mean': 2388.0961523920314,\n",
       "  'max': 2388.56,\n",
       "  'min': 2387.88,\n",
       "  'std': 0.07191891569858286,\n",
       "  'distribution': 'lognorm'},\n",
       " 'sensor14': {'mean': 8143.752722117202,\n",
       "  'max': 8293.72,\n",
       "  'min': 8099.94,\n",
       "  'std': 19.076175975953127,\n",
       "  'distribution': 'cauchy'},\n",
       " 'sensor15': {'mean': 8.44214558189133,\n",
       "  'max': 8.5848,\n",
       "  'min': 8.3249,\n",
       "  'std': 0.03750503795196683,\n",
       "  'distribution': 'gamma'},\n",
       " 'sensor16': {'mean': 0.030000000000000013,\n",
       "  'max': 0.03,\n",
       "  'min': 0.03,\n",
       "  'std': 1.5564316238059236e-14,\n",
       "  'distribution': 'expon'},\n",
       " 'sensor17': {'mean': 393.2106538703892,\n",
       "  'max': 400.0,\n",
       "  'min': 388.0,\n",
       "  'std': 1.5487630246142414,\n",
       "  'distribution': 'gamma'},\n",
       " 'sensor18': {'mean': 2388.0,\n",
       "  'max': 2388.0,\n",
       "  'min': 2388.0,\n",
       "  'std': 0.0,\n",
       "  'distribution': 'chi2'},\n",
       " 'sensor19': {'mean': 100.0,\n",
       "  'max': 100.0,\n",
       "  'min': 100.0,\n",
       "  'std': 0.0,\n",
       "  'distribution': 'chi2'},\n",
       " 'sensor20': {'mean': 38.816270660656286,\n",
       "  'max': 39.43,\n",
       "  'min': 38.14,\n",
       "  'std': 0.18074642787366235,\n",
       "  'distribution': 'exponpow'},\n",
       " 'sensor21': {'mean': 23.289705360864716,\n",
       "  'max': 23.6184,\n",
       "  'min': 22.8942,\n",
       "  'std': 0.10825087474491232,\n",
       "  'distribution': 'exponpow'}}"
      ]
     },
     "execution_count": 89,
     "metadata": {},
     "output_type": "execute_result"
    }
   ],
   "source": [
    "sensors = {c:['mean', 'max', 'min', 'std'] for c in list(data_train) if re.match('^sen', c)}\n",
    "sensor_metadata = data_train.agg(sens).to_dict()\n",
    "for k,v in sensor_metadata.items():\n",
    "    sensor_metadata[k][\"distribution\"] = distributions[k]\n",
    "sensor_metadata"
   ]
  },
  {
   "cell_type": "code",
   "execution_count": 125,
   "id": "617ec871-971b-4464-8a4b-cb52174d85da",
   "metadata": {},
   "outputs": [],
   "source": [
    "import random"
   ]
  },
  {
   "cell_type": "code",
   "execution_count": 126,
   "id": "9b0504c9-8874-482c-aad2-211d590aaf97",
   "metadata": {},
   "outputs": [
    {
     "data": {
      "text/plain": [
       "144"
      ]
     },
     "execution_count": 126,
     "metadata": {},
     "output_type": "execute_result"
    }
   ],
   "source": [
    "x = random.randint(1,200)\n",
    "x"
   ]
  },
  {
   "cell_type": "code",
   "execution_count": 23,
   "id": "bb22286f-7cfe-47fd-b78e-6564311ecda0",
   "metadata": {},
   "outputs": [
    {
     "data": {
      "image/png": "[encoded data removed]",
      "text/plain": [
       "<Figure size 640x480 with 1 Axes>"
      ]
     },
     "metadata": {},
     "output_type": "display_data"
    }
   ],
   "source": [
    "mu, sigma = 3., 1. # mean and standard deviation\n",
    "s = np.random.lognormal(mu, sigma, 1000)\n",
    "import matplotlib.pyplot as plt\n",
    "count, bins, ignored = plt.hist(s, 100, density=True, align='mid')\n",
    "\n",
    "x = np.linspace(min(bins), max(bins), 10000)\n",
    "pdf = (np.exp(-(np.log(x) - mu)**2 / (2 * sigma**2))\n",
    "       / (x * sigma * np.sqrt(2 * np.pi)))\n",
    "\n",
    "plt.plot(x, pdf, linewidth=2, color='r')\n",
    "plt.axis('tight')\n",
    "\n",
    "plt.show()"
   ]
  },
  {
   "cell_type": "code",
   "execution_count": 3,
   "id": "9d5b275d-b4ba-43d6-87af-8b3b6350709b",
   "metadata": {},
   "outputs": [
    {
     "data": {
      "text/html": [
       "<div>\n",
       "<style scoped>\n",
       "    .dataframe tbody tr th:only-of-type {\n",
       "        vertical-align: middle;\n",
       "    }\n",
       "\n",
       "    .dataframe tbody tr th {\n",
       "        vertical-align: top;\n",
       "    }\n",
       "\n",
       "    .dataframe thead th {\n",
       "        text-align: right;\n",
       "    }\n",
       "</style>\n",
       "<table border=\"1\" class=\"dataframe\">\n",
       "  <thead>\n",
       "    <tr style=\"text-align: right;\">\n",
       "      <th></th>\n",
       "      <th>sensor1</th>\n",
       "      <th>sensor2</th>\n",
       "      <th>sensor3</th>\n",
       "      <th>sensor4</th>\n",
       "      <th>sensor5</th>\n",
       "      <th>sensor6</th>\n",
       "      <th>sensor7</th>\n",
       "      <th>sensor8</th>\n",
       "      <th>sensor9</th>\n",
       "      <th>sensor10</th>\n",
       "      <th>...</th>\n",
       "      <th>sensor12</th>\n",
       "      <th>sensor13</th>\n",
       "      <th>sensor14</th>\n",
       "      <th>sensor15</th>\n",
       "      <th>sensor16</th>\n",
       "      <th>sensor17</th>\n",
       "      <th>sensor18</th>\n",
       "      <th>sensor19</th>\n",
       "      <th>sensor20</th>\n",
       "      <th>sensor21</th>\n",
       "    </tr>\n",
       "  </thead>\n",
       "  <tbody>\n",
       "    <tr>\n",
       "      <th>0</th>\n",
       "      <td>518.67</td>\n",
       "      <td>644.0818</td>\n",
       "      <td>1611.17625</td>\n",
       "      <td>1420.4598</td>\n",
       "      <td>14.62</td>\n",
       "      <td>21.60955</td>\n",
       "      <td>551.4025</td>\n",
       "      <td>2388.4313</td>\n",
       "      <td>9125.3599</td>\n",
       "      <td>1.3</td>\n",
       "      <td>...</td>\n",
       "      <td>522.1606</td>\n",
       "      <td>2388.4376</td>\n",
       "      <td>8158.074</td>\n",
       "      <td>8.582201</td>\n",
       "      <td>0.03</td>\n",
       "      <td>396.82</td>\n",
       "      <td>2388.0</td>\n",
       "      <td>100.0</td>\n",
       "      <td>38.73985</td>\n",
       "      <td>23.198364</td>\n",
       "    </tr>\n",
       "  </tbody>\n",
       "</table>\n",
       "<p>1 rows × 21 columns</p>\n",
       "</div>"
      ],
      "text/plain": [
       "   sensor1   sensor2     sensor3    sensor4  sensor5   sensor6   sensor7  \\\n",
       "0   518.67  644.0818  1611.17625  1420.4598    14.62  21.60955  551.4025   \n",
       "\n",
       "     sensor8    sensor9  sensor10  ...  sensor12   sensor13  sensor14  \\\n",
       "0  2388.4313  9125.3599       1.3  ...  522.1606  2388.4376  8158.074   \n",
       "\n",
       "   sensor15  sensor16  sensor17  sensor18  sensor19  sensor20   sensor21  \n",
       "0  8.582201      0.03    396.82    2388.0     100.0  38.73985  23.198364  \n",
       "\n",
       "[1 rows x 21 columns]"
      ]
     },
     "execution_count": 3,
     "metadata": {},
     "output_type": "execute_result"
    }
   ],
   "source": [
    "import pandas as pd\n",
    "vals = {'sensor1': 518.67, 'sensor2': 644.0817999999999, 'sensor3': 1611.17625, 'sensor4': 1420.4598, 'sensor5': 14.62, 'sensor6': 21.60955, 'sensor7': 551.4025, 'sensor8': 2388.4313, 'sensor9': 9125.3599, 'sensor10': 1.3, 'sensor11': 48.4712, 'sensor12': 522.1606, 'sensor13': 2388.4376, 'sensor14': 8158.074, 'sensor15': 8.582201, 'sensor16': 0.03, 'sensor17': 396.82, 'sensor18': 2388.0, 'sensor19': 100.0, 'sensor20': 38.73985, 'sensor21': 23.198364}\n",
    "vals = {k:[v] for k, v in vals.items()}\n",
    "df_val = pd.DataFrame(vals)\n",
    " \n",
    "    "
   ]
  },
  {
   "cell_type": "code",
   "execution_count": null,
   "id": "d24c7cc4-8cdb-421a-a173-6147c8b14932",
   "metadata": {},
   "outputs": [],
   "source": []
  }
 ],
 "metadata": {
  "kernelspec": {
   "display_name": "Python 3 (ipykernel)",
   "language": "python",
   "name": "python3"
  },
  "language_info": {
   "codemirror_mode": {
    "name": "ipython",
    "version": 3
   },
   "file_extension": ".py",
   "mimetype": "text/x-python",
   "name": "python",
   "nbconvert_exporter": "python",
   "pygments_lexer": "ipython3",
   "version": "3.9.12"
  }
 },
 "nbformat": 4,
 "nbformat_minor": 5
}
